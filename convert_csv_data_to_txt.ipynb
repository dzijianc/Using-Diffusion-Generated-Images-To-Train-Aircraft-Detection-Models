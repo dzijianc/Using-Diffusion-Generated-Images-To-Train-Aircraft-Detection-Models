{
 "cells": [
  {
   "cell_type": "code",
   "execution_count": 1,
   "metadata": {},
   "outputs": [],
   "source": [
    "import glob\n",
    "import pandas as pd"
   ]
  },
  {
   "cell_type": "code",
   "execution_count": 3,
   "metadata": {},
   "outputs": [],
   "source": [
    "files = glob.glob(\"./airplane_test/csv/*.csv\")\n",
    "for file in files:\n",
    "    data = pd.read_csv(file)\n",
    "    name = data[\"filename\"]\n",
    "    f = open(\"./test/valid/labels/\" + name[0] + \".txt\",\"w+\")\n",
    "    w, h = data[\"width\"], data[\"height\"]\n",
    "    xmin = data[\"xmin\"]\n",
    "    ymin = data[\"ymin\"]\n",
    "    xmax = data[\"xmax\"]\n",
    "    ymax = data[\"ymax\"]\n",
    "    for i in range(len(xmin)):\n",
    "        xcenter = (xmin[i] + xmax[i])/2\n",
    "        ycenter = (ymin[i] + ymax[i])/2\n",
    "        width = xmax[i] - xmin[i]\n",
    "        height = ymax[i] - ymin[i]\n",
    "        f.write(\"4 %s %s %s %s\\n\" % (xcenter/w[i], ycenter/h[i], width/w[i], height/h[i]))\n",
    "    f.close()"
   ]
  }
 ],
 "metadata": {
  "kernelspec": {
   "display_name": "Python 3",
   "language": "python",
   "name": "python3"
  },
  "language_info": {
   "codemirror_mode": {
    "name": "ipython",
    "version": 3
   },
   "file_extension": ".py",
   "mimetype": "text/x-python",
   "name": "python",
   "nbconvert_exporter": "python",
   "pygments_lexer": "ipython3",
   "version": "3.9.13"
  }
 },
 "nbformat": 4,
 "nbformat_minor": 2
}
