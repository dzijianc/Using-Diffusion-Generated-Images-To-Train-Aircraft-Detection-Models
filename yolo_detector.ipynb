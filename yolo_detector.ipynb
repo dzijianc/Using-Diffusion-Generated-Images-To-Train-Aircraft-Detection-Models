{
 "cells": [
  {
   "cell_type": "code",
   "execution_count": 1,
   "metadata": {},
   "outputs": [],
   "source": [
    "from ultralytics import YOLO\n",
    "import os \n",
    "from ultralytics.utils.benchmarks import benchmark"
   ]
  },
  {
   "cell_type": "code",
   "execution_count": 3,
   "metadata": {},
   "outputs": [],
   "source": [
    "cwd = os.getcwd()"
   ]
  },
  {
   "cell_type": "code",
   "execution_count": null,
   "metadata": {},
   "outputs": [],
   "source": [
    "# Generates confusion matrix and other graphs for Seg-CK and Diff trained models\n",
    "# model = YOLO(\"runs/detect/train/weights/last.onnx\")\n",
    "# model = YOLO(\"runs/detect/train2/weights/last.onnx\")\n",
    "# model.val(data=cwd + \"/datasets/data.yaml\", device=0, imgsz=640)"
   ]
  },
  {
   "cell_type": "code",
   "execution_count": 20,
   "metadata": {},
   "outputs": [
    {
     "name": "stdout",
     "output_type": "stream",
     "text": [
      "Setup complete ✅ (12 CPUs, 31.8 GB RAM, 412.7/872.4 GB disk)\n",
      "\n",
      "Benchmarks complete for yolov8n.onnx on c:\\Users\\David\\Documents\\CSC478\\Improving-Object-Detection-Training-With-Diffusion-Images/test/data.yaml at imgsz=640 (44.94s)\n",
      "                   Format Status❔  Size (MB)  metrics/mAP50-95(B)  Inference time (ms/im)\n",
      "0                 PyTorch       ✅       12.1               0.6208                   13.03\n",
      "1             TorchScript       ❌        0.0                  NaN                     NaN\n",
      "2                    ONNX       ❌        0.0                  NaN                     NaN\n",
      "3                OpenVINO       ❌        0.0                  NaN                     NaN\n",
      "4                TensorRT       ❌        0.0                  NaN                     NaN\n",
      "5                  CoreML       ❌        0.0                  NaN                     NaN\n",
      "6   TensorFlow SavedModel       ❌        0.0                  NaN                     NaN\n",
      "7     TensorFlow GraphDef       ❌        0.0                  NaN                     NaN\n",
      "8         TensorFlow Lite       ❌        0.0                  NaN                     NaN\n",
      "9     TensorFlow Edge TPU       ❌        0.0                  NaN                     NaN\n",
      "10          TensorFlow.js       ❌        0.0                  NaN                     NaN\n",
      "11           PaddlePaddle       ❌        0.0                  NaN                     NaN\n",
      "12                   NCNN       ❌        0.0                  NaN                     NaN\n",
      "\n"
     ]
    },
    {
     "data": {
      "text/html": [
       "<div>\n",
       "<style scoped>\n",
       "    .dataframe tbody tr th:only-of-type {\n",
       "        vertical-align: middle;\n",
       "    }\n",
       "\n",
       "    .dataframe tbody tr th {\n",
       "        vertical-align: top;\n",
       "    }\n",
       "\n",
       "    .dataframe thead th {\n",
       "        text-align: right;\n",
       "    }\n",
       "</style>\n",
       "<table border=\"1\" class=\"dataframe\">\n",
       "  <thead>\n",
       "    <tr style=\"text-align: right;\">\n",
       "      <th></th>\n",
       "      <th>Format</th>\n",
       "      <th>Status❔</th>\n",
       "      <th>Size (MB)</th>\n",
       "      <th>metrics/mAP50-95(B)</th>\n",
       "      <th>Inference time (ms/im)</th>\n",
       "    </tr>\n",
       "  </thead>\n",
       "  <tbody>\n",
       "    <tr>\n",
       "      <th>0</th>\n",
       "      <td>PyTorch</td>\n",
       "      <td>✅</td>\n",
       "      <td>12.1</td>\n",
       "      <td>0.6208</td>\n",
       "      <td>13.03</td>\n",
       "    </tr>\n",
       "    <tr>\n",
       "      <th>1</th>\n",
       "      <td>TorchScript</td>\n",
       "      <td>❌</td>\n",
       "      <td>0.0</td>\n",
       "      <td>NaN</td>\n",
       "      <td>NaN</td>\n",
       "    </tr>\n",
       "    <tr>\n",
       "      <th>2</th>\n",
       "      <td>ONNX</td>\n",
       "      <td>❌</td>\n",
       "      <td>0.0</td>\n",
       "      <td>NaN</td>\n",
       "      <td>NaN</td>\n",
       "    </tr>\n",
       "    <tr>\n",
       "      <th>3</th>\n",
       "      <td>OpenVINO</td>\n",
       "      <td>❌</td>\n",
       "      <td>0.0</td>\n",
       "      <td>NaN</td>\n",
       "      <td>NaN</td>\n",
       "    </tr>\n",
       "    <tr>\n",
       "      <th>4</th>\n",
       "      <td>TensorRT</td>\n",
       "      <td>❌</td>\n",
       "      <td>0.0</td>\n",
       "      <td>NaN</td>\n",
       "      <td>NaN</td>\n",
       "    </tr>\n",
       "    <tr>\n",
       "      <th>5</th>\n",
       "      <td>CoreML</td>\n",
       "      <td>❌</td>\n",
       "      <td>0.0</td>\n",
       "      <td>NaN</td>\n",
       "      <td>NaN</td>\n",
       "    </tr>\n",
       "    <tr>\n",
       "      <th>6</th>\n",
       "      <td>TensorFlow SavedModel</td>\n",
       "      <td>❌</td>\n",
       "      <td>0.0</td>\n",
       "      <td>NaN</td>\n",
       "      <td>NaN</td>\n",
       "    </tr>\n",
       "    <tr>\n",
       "      <th>7</th>\n",
       "      <td>TensorFlow GraphDef</td>\n",
       "      <td>❌</td>\n",
       "      <td>0.0</td>\n",
       "      <td>NaN</td>\n",
       "      <td>NaN</td>\n",
       "    </tr>\n",
       "    <tr>\n",
       "      <th>8</th>\n",
       "      <td>TensorFlow Lite</td>\n",
       "      <td>❌</td>\n",
       "      <td>0.0</td>\n",
       "      <td>NaN</td>\n",
       "      <td>NaN</td>\n",
       "    </tr>\n",
       "    <tr>\n",
       "      <th>9</th>\n",
       "      <td>TensorFlow Edge TPU</td>\n",
       "      <td>❌</td>\n",
       "      <td>0.0</td>\n",
       "      <td>NaN</td>\n",
       "      <td>NaN</td>\n",
       "    </tr>\n",
       "    <tr>\n",
       "      <th>10</th>\n",
       "      <td>TensorFlow.js</td>\n",
       "      <td>❌</td>\n",
       "      <td>0.0</td>\n",
       "      <td>NaN</td>\n",
       "      <td>NaN</td>\n",
       "    </tr>\n",
       "    <tr>\n",
       "      <th>11</th>\n",
       "      <td>PaddlePaddle</td>\n",
       "      <td>❌</td>\n",
       "      <td>0.0</td>\n",
       "      <td>NaN</td>\n",
       "      <td>NaN</td>\n",
       "    </tr>\n",
       "    <tr>\n",
       "      <th>12</th>\n",
       "      <td>NCNN</td>\n",
       "      <td>❌</td>\n",
       "      <td>0.0</td>\n",
       "      <td>NaN</td>\n",
       "      <td>NaN</td>\n",
       "    </tr>\n",
       "  </tbody>\n",
       "</table>\n",
       "</div>"
      ],
      "text/plain": [
       "                   Format Status❔  Size (MB)  metrics/mAP50-95(B)  Inference time (ms/im)\n",
       "0                 PyTorch       ✅       12.1               0.6208                   13.03\n",
       "1             TorchScript       ❌        0.0                  NaN                     NaN\n",
       "2                    ONNX       ❌        0.0                  NaN                     NaN\n",
       "3                OpenVINO       ❌        0.0                  NaN                     NaN\n",
       "4                TensorRT       ❌        0.0                  NaN                     NaN\n",
       "5                  CoreML       ❌        0.0                  NaN                     NaN\n",
       "6   TensorFlow SavedModel       ❌        0.0                  NaN                     NaN\n",
       "7     TensorFlow GraphDef       ❌        0.0                  NaN                     NaN\n",
       "8         TensorFlow Lite       ❌        0.0                  NaN                     NaN\n",
       "9     TensorFlow Edge TPU       ❌        0.0                  NaN                     NaN\n",
       "10          TensorFlow.js       ❌        0.0                  NaN                     NaN\n",
       "11           PaddlePaddle       ❌        0.0                  NaN                     NaN\n",
       "12                   NCNN       ❌        0.0                  NaN                     NaN"
      ]
     },
     "execution_count": 20,
     "metadata": {},
     "output_type": "execute_result"
    }
   ],
   "source": [
    "# coco_model = YOLO(\"yolov8n.pt\")\n",
    "# coco_model.export(format=\"onnx\", dynamic=True, imgsz=640)\n",
    "benchmark(model=\"yolov8n.onnx\", data=cwd + \"/test/data.yaml\", device=0, imgsz=640)"
   ]
  },
  {
   "cell_type": "code",
   "execution_count": 7,
   "metadata": {},
   "outputs": [
    {
     "name": "stdout",
     "output_type": "stream",
     "text": [
      "Downloading https://github.com/ultralytics/assets/releases/download/v8.1.0/yolov8n.pt to 'yolov8n.pt'...\n"
     ]
    },
    {
     "name": "stderr",
     "output_type": "stream",
     "text": [
      "100%|██████████| 6.23M/6.23M [00:00<00:00, 13.3MB/s]\n"
     ]
    },
    {
     "name": "stdout",
     "output_type": "stream",
     "text": [
      "New https://pypi.org/project/ultralytics/8.1.43 available 😃 Update with 'pip install -U ultralytics'\n",
      "Ultralytics YOLOv8.1.35 🚀 Python-3.9.13 torch-2.2.1+cu118 CUDA:0 (NVIDIA GeForce RTX 2080 Super with Max-Q Design, 8192MiB)\n",
      "\u001b[34m\u001b[1mengine\\trainer: \u001b[0mtask=detect, mode=train, model=yolov8n.pt, data=c:\\Users\\David\\Documents\\CSC478\\Improving-Object-Detection-Training-With-Diffusion-Images/Diff-Airplanes.v2i.yolov8/data.yaml, epochs=25, time=None, patience=100, batch=48, imgsz=640, save=True, save_period=-1, cache=False, device=0, workers=8, project=None, name=train, exist_ok=False, pretrained=True, optimizer=auto, verbose=True, seed=0, deterministic=True, single_cls=False, rect=False, cos_lr=False, close_mosaic=10, resume=False, amp=True, fraction=1.0, profile=False, freeze=None, multi_scale=False, overlap_mask=True, mask_ratio=4, dropout=0.0, val=True, split=val, save_json=False, save_hybrid=False, conf=None, iou=0.7, max_det=300, half=False, dnn=False, plots=True, source=None, vid_stride=1, stream_buffer=False, visualize=False, augment=False, agnostic_nms=False, classes=None, retina_masks=False, embed=None, show=False, save_frames=False, save_txt=False, save_conf=False, save_crop=False, show_labels=True, show_conf=True, show_boxes=True, line_width=None, format=torchscript, keras=False, optimize=False, int8=False, dynamic=False, simplify=False, opset=None, workspace=4, nms=False, lr0=0.01, lrf=0.01, momentum=0.937, weight_decay=0.0005, warmup_epochs=3.0, warmup_momentum=0.8, warmup_bias_lr=0.1, box=7.5, cls=0.5, dfl=1.5, pose=12.0, kobj=1.0, label_smoothing=0.0, nbs=64, hsv_h=0.015, hsv_s=0.7, hsv_v=0.4, degrees=0.0, translate=0.1, scale=0.5, shear=0.0, perspective=0.0, flipud=0.0, fliplr=0.5, bgr=0.0, mosaic=1.0, mixup=0.0, copy_paste=0.0, auto_augment=randaugment, erasing=0.4, crop_fraction=1.0, cfg=None, tracker=botsort.yaml, save_dir=runs\\detect\\train\n",
      "Overriding model.yaml nc=80 with nc=1\n",
      "\n",
      "                   from  n    params  module                                       arguments                     \n",
      "  0                  -1  1       464  ultralytics.nn.modules.conv.Conv             [3, 16, 3, 2]                 \n",
      "  1                  -1  1      4672  ultralytics.nn.modules.conv.Conv             [16, 32, 3, 2]                \n",
      "  2                  -1  1      7360  ultralytics.nn.modules.block.C2f             [32, 32, 1, True]             \n",
      "  3                  -1  1     18560  ultralytics.nn.modules.conv.Conv             [32, 64, 3, 2]                \n",
      "  4                  -1  2     49664  ultralytics.nn.modules.block.C2f             [64, 64, 2, True]             \n",
      "  5                  -1  1     73984  ultralytics.nn.modules.conv.Conv             [64, 128, 3, 2]               \n",
      "  6                  -1  2    197632  ultralytics.nn.modules.block.C2f             [128, 128, 2, True]           \n",
      "  7                  -1  1    295424  ultralytics.nn.modules.conv.Conv             [128, 256, 3, 2]              \n",
      "  8                  -1  1    460288  ultralytics.nn.modules.block.C2f             [256, 256, 1, True]           \n",
      "  9                  -1  1    164608  ultralytics.nn.modules.block.SPPF            [256, 256, 5]                 \n",
      " 10                  -1  1         0  torch.nn.modules.upsampling.Upsample         [None, 2, 'nearest']          \n",
      " 11             [-1, 6]  1         0  ultralytics.nn.modules.conv.Concat           [1]                           \n",
      " 12                  -1  1    148224  ultralytics.nn.modules.block.C2f             [384, 128, 1]                 \n",
      " 13                  -1  1         0  torch.nn.modules.upsampling.Upsample         [None, 2, 'nearest']          \n",
      " 14             [-1, 4]  1         0  ultralytics.nn.modules.conv.Concat           [1]                           \n",
      " 15                  -1  1     37248  ultralytics.nn.modules.block.C2f             [192, 64, 1]                  \n",
      " 16                  -1  1     36992  ultralytics.nn.modules.conv.Conv             [64, 64, 3, 2]                \n",
      " 17            [-1, 12]  1         0  ultralytics.nn.modules.conv.Concat           [1]                           \n",
      " 18                  -1  1    123648  ultralytics.nn.modules.block.C2f             [192, 128, 1]                 \n",
      " 19                  -1  1    147712  ultralytics.nn.modules.conv.Conv             [128, 128, 3, 2]              \n",
      " 20             [-1, 9]  1         0  ultralytics.nn.modules.conv.Concat           [1]                           \n",
      " 21                  -1  1    493056  ultralytics.nn.modules.block.C2f             [384, 256, 1]                 \n",
      " 22        [15, 18, 21]  1    751507  ultralytics.nn.modules.head.Detect           [1, [64, 128, 256]]           \n",
      "Model summary: 225 layers, 3011043 parameters, 3011027 gradients, 8.2 GFLOPs\n",
      "\n",
      "Transferred 319/355 items from pretrained weights\n",
      "\u001b[34m\u001b[1mTensorBoard: \u001b[0mStart with 'tensorboard --logdir runs\\detect\\train', view at http://localhost:6006/\n",
      "Freezing layer 'model.22.dfl.conv.weight'\n",
      "\u001b[34m\u001b[1mAMP: \u001b[0mrunning Automatic Mixed Precision (AMP) checks with YOLOv8n...\n",
      "\u001b[34m\u001b[1mAMP: \u001b[0mchecks passed ✅\n"
     ]
    },
    {
     "name": "stderr",
     "output_type": "stream",
     "text": [
      "\u001b[34m\u001b[1mtrain: \u001b[0mScanning C:\\Users\\David\\Documents\\CSC478\\Improving-Object-Detection-Training-With-Diffusion-Images\\Diff-Airplanes.v2i.yolov8\\train\\labels... 3880 images, 22 backgrounds, 0 corrupt: 100%|██████████| 3880/3880 [00:01<00:00, 2412.45it/s]\n"
     ]
    },
    {
     "name": "stdout",
     "output_type": "stream",
     "text": [
      "\u001b[34m\u001b[1mtrain: \u001b[0mNew cache created: C:\\Users\\David\\Documents\\CSC478\\Improving-Object-Detection-Training-With-Diffusion-Images\\Diff-Airplanes.v2i.yolov8\\train\\labels.cache\n"
     ]
    },
    {
     "name": "stderr",
     "output_type": "stream",
     "text": [
      "\u001b[34m\u001b[1mval: \u001b[0mScanning C:\\Users\\David\\Documents\\CSC478\\Improving-Object-Detection-Training-With-Diffusion-Images\\Diff-Airplanes.v2i.yolov8\\valid\\labels... 480 images, 0 backgrounds, 0 corrupt: 100%|██████████| 480/480 [00:00<00:00, 1447.12it/s]\n"
     ]
    },
    {
     "name": "stdout",
     "output_type": "stream",
     "text": [
      "\u001b[34m\u001b[1mval: \u001b[0mNew cache created: C:\\Users\\David\\Documents\\CSC478\\Improving-Object-Detection-Training-With-Diffusion-Images\\Diff-Airplanes.v2i.yolov8\\valid\\labels.cache\n",
      "Plotting labels to runs\\detect\\train\\labels.jpg... \n",
      "\u001b[34m\u001b[1moptimizer:\u001b[0m 'optimizer=auto' found, ignoring 'lr0=0.01' and 'momentum=0.937' and determining best 'optimizer', 'lr0' and 'momentum' automatically... \n",
      "\u001b[34m\u001b[1moptimizer:\u001b[0m AdamW(lr=0.002, momentum=0.9) with parameter groups 57 weight(decay=0.0), 64 weight(decay=0.000375), 63 bias(decay=0.0)\n",
      "\u001b[34m\u001b[1mTensorBoard: \u001b[0mmodel graph visualization added ✅\n",
      "Image sizes 640 train, 640 val\n",
      "Using 8 dataloader workers\n",
      "Logging results to \u001b[1mruns\\detect\\train\u001b[0m\n",
      "Starting training for 25 epochs...\n",
      "\n",
      "      Epoch    GPU_mem   box_loss   cls_loss   dfl_loss  Instances       Size\n"
     ]
    },
    {
     "name": "stderr",
     "output_type": "stream",
     "text": [
      "       1/25       6.6G      1.375      2.338      1.294        107        640: 100%|██████████| 81/81 [00:29<00:00,  2.75it/s]\n",
      "                 Class     Images  Instances      Box(P          R      mAP50  mAP50-95): 100%|██████████| 5/5 [00:04<00:00,  1.01it/s]\n"
     ]
    },
    {
     "name": "stdout",
     "output_type": "stream",
     "text": [
      "                   all        480        518      0.686       0.56      0.581      0.374\n",
      "\n",
      "      Epoch    GPU_mem   box_loss   cls_loss   dfl_loss  Instances       Size\n"
     ]
    },
    {
     "name": "stderr",
     "output_type": "stream",
     "text": [
      "       2/25      6.66G      1.363      1.622      1.282         74        640: 100%|██████████| 81/81 [00:34<00:00,  2.34it/s]\n",
      "                 Class     Images  Instances      Box(P          R      mAP50  mAP50-95): 100%|██████████| 5/5 [00:04<00:00,  1.04it/s]"
     ]
    },
    {
     "name": "stdout",
     "output_type": "stream",
     "text": [
      "                   all        480        518      0.611      0.309      0.358       0.17\n"
     ]
    },
    {
     "name": "stderr",
     "output_type": "stream",
     "text": [
      "\n"
     ]
    },
    {
     "name": "stdout",
     "output_type": "stream",
     "text": [
      "\n",
      "      Epoch    GPU_mem   box_loss   cls_loss   dfl_loss  Instances       Size\n"
     ]
    },
    {
     "name": "stderr",
     "output_type": "stream",
     "text": [
      "       3/25      6.61G      1.438      1.394      1.323         96        640: 100%|██████████| 81/81 [00:30<00:00,  2.70it/s]\n",
      "                 Class     Images  Instances      Box(P          R      mAP50  mAP50-95): 100%|██████████| 5/5 [00:04<00:00,  1.19it/s]"
     ]
    },
    {
     "name": "stdout",
     "output_type": "stream",
     "text": [
      "                   all        480        518      0.493      0.319      0.321      0.166\n"
     ]
    },
    {
     "name": "stderr",
     "output_type": "stream",
     "text": [
      "\n"
     ]
    },
    {
     "name": "stdout",
     "output_type": "stream",
     "text": [
      "\n",
      "      Epoch    GPU_mem   box_loss   cls_loss   dfl_loss  Instances       Size\n"
     ]
    },
    {
     "name": "stderr",
     "output_type": "stream",
     "text": [
      "       4/25      6.62G      1.412       1.27      1.318         76        640: 100%|██████████| 81/81 [00:28<00:00,  2.84it/s]\n",
      "                 Class     Images  Instances      Box(P          R      mAP50  mAP50-95): 100%|██████████| 5/5 [00:04<00:00,  1.23it/s]"
     ]
    },
    {
     "name": "stdout",
     "output_type": "stream",
     "text": [
      "                   all        480        518      0.467      0.145      0.148     0.0894\n"
     ]
    },
    {
     "name": "stderr",
     "output_type": "stream",
     "text": [
      "\n"
     ]
    },
    {
     "name": "stdout",
     "output_type": "stream",
     "text": [
      "\n",
      "      Epoch    GPU_mem   box_loss   cls_loss   dfl_loss  Instances       Size\n"
     ]
    },
    {
     "name": "stderr",
     "output_type": "stream",
     "text": [
      "       5/25      6.68G       1.31      1.143       1.26         64        640: 100%|██████████| 81/81 [00:28<00:00,  2.83it/s]\n",
      "                 Class     Images  Instances      Box(P          R      mAP50  mAP50-95): 100%|██████████| 5/5 [00:06<00:00,  1.32s/it]"
     ]
    },
    {
     "name": "stdout",
     "output_type": "stream",
     "text": [
      "                   all        480        518      0.639      0.239      0.262      0.158\n"
     ]
    },
    {
     "name": "stderr",
     "output_type": "stream",
     "text": [
      "\n"
     ]
    },
    {
     "name": "stdout",
     "output_type": "stream",
     "text": [
      "\n",
      "      Epoch    GPU_mem   box_loss   cls_loss   dfl_loss  Instances       Size\n"
     ]
    },
    {
     "name": "stderr",
     "output_type": "stream",
     "text": [
      "       6/25      6.66G      1.274      1.102      1.246         60        640: 100%|██████████| 81/81 [00:28<00:00,  2.81it/s]\n",
      "                 Class     Images  Instances      Box(P          R      mAP50  mAP50-95): 100%|██████████| 5/5 [00:03<00:00,  1.27it/s]"
     ]
    },
    {
     "name": "stdout",
     "output_type": "stream",
     "text": [
      "                   all        480        518      0.858       0.72      0.787      0.506\n"
     ]
    },
    {
     "name": "stderr",
     "output_type": "stream",
     "text": [
      "\n"
     ]
    },
    {
     "name": "stdout",
     "output_type": "stream",
     "text": [
      "\n",
      "      Epoch    GPU_mem   box_loss   cls_loss   dfl_loss  Instances       Size\n"
     ]
    },
    {
     "name": "stderr",
     "output_type": "stream",
     "text": [
      "       7/25      6.61G      1.232      1.049      1.214         89        640: 100%|██████████| 81/81 [00:29<00:00,  2.77it/s]\n",
      "                 Class     Images  Instances      Box(P          R      mAP50  mAP50-95): 100%|██████████| 5/5 [00:03<00:00,  1.31it/s]"
     ]
    },
    {
     "name": "stdout",
     "output_type": "stream",
     "text": [
      "                   all        480        518      0.863      0.792      0.833      0.574\n"
     ]
    },
    {
     "name": "stderr",
     "output_type": "stream",
     "text": [
      "\n"
     ]
    },
    {
     "name": "stdout",
     "output_type": "stream",
     "text": [
      "\n",
      "      Epoch    GPU_mem   box_loss   cls_loss   dfl_loss  Instances       Size\n"
     ]
    },
    {
     "name": "stderr",
     "output_type": "stream",
     "text": [
      "       8/25      6.69G      1.183      1.003      1.193         80        640: 100%|██████████| 81/81 [00:29<00:00,  2.79it/s]\n",
      "                 Class     Images  Instances      Box(P          R      mAP50  mAP50-95): 100%|██████████| 5/5 [00:04<00:00,  1.16it/s]"
     ]
    },
    {
     "name": "stdout",
     "output_type": "stream",
     "text": [
      "                   all        480        518      0.922      0.775      0.853      0.622\n"
     ]
    },
    {
     "name": "stderr",
     "output_type": "stream",
     "text": [
      "\n"
     ]
    },
    {
     "name": "stdout",
     "output_type": "stream",
     "text": [
      "\n",
      "      Epoch    GPU_mem   box_loss   cls_loss   dfl_loss  Instances       Size\n"
     ]
    },
    {
     "name": "stderr",
     "output_type": "stream",
     "text": [
      "       9/25      6.56G      1.146     0.9767      1.168         63        640: 100%|██████████| 81/81 [00:28<00:00,  2.83it/s]\n",
      "                 Class     Images  Instances      Box(P          R      mAP50  mAP50-95): 100%|██████████| 5/5 [00:03<00:00,  1.30it/s]"
     ]
    },
    {
     "name": "stdout",
     "output_type": "stream",
     "text": [
      "                   all        480        518      0.693      0.797      0.781      0.547\n"
     ]
    },
    {
     "name": "stderr",
     "output_type": "stream",
     "text": [
      "\n"
     ]
    },
    {
     "name": "stdout",
     "output_type": "stream",
     "text": [
      "\n",
      "      Epoch    GPU_mem   box_loss   cls_loss   dfl_loss  Instances       Size\n"
     ]
    },
    {
     "name": "stderr",
     "output_type": "stream",
     "text": [
      "      10/25      6.61G      1.114     0.9109      1.151         73        640: 100%|██████████| 81/81 [00:28<00:00,  2.89it/s]\n",
      "                 Class     Images  Instances      Box(P          R      mAP50  mAP50-95): 100%|██████████| 5/5 [00:06<00:00,  1.32s/it]"
     ]
    },
    {
     "name": "stdout",
     "output_type": "stream",
     "text": [
      "                   all        480        518      0.907      0.832      0.872      0.644\n"
     ]
    },
    {
     "name": "stderr",
     "output_type": "stream",
     "text": [
      "\n"
     ]
    },
    {
     "name": "stdout",
     "output_type": "stream",
     "text": [
      "\n",
      "      Epoch    GPU_mem   box_loss   cls_loss   dfl_loss  Instances       Size\n"
     ]
    },
    {
     "name": "stderr",
     "output_type": "stream",
     "text": [
      "      11/25      6.68G      1.081     0.8824      1.138         95        640: 100%|██████████| 81/81 [00:28<00:00,  2.85it/s]\n",
      "                 Class     Images  Instances      Box(P          R      mAP50  mAP50-95): 100%|██████████| 5/5 [00:04<00:00,  1.01it/s]"
     ]
    },
    {
     "name": "stdout",
     "output_type": "stream",
     "text": [
      "                   all        480        518      0.893      0.844      0.883      0.653\n"
     ]
    },
    {
     "name": "stderr",
     "output_type": "stream",
     "text": [
      "\n"
     ]
    },
    {
     "name": "stdout",
     "output_type": "stream",
     "text": [
      "\n",
      "      Epoch    GPU_mem   box_loss   cls_loss   dfl_loss  Instances       Size\n"
     ]
    },
    {
     "name": "stderr",
     "output_type": "stream",
     "text": [
      "      12/25      6.61G      1.063     0.8803      1.137         59        640: 100%|██████████| 81/81 [00:30<00:00,  2.66it/s]\n",
      "                 Class     Images  Instances      Box(P          R      mAP50  mAP50-95): 100%|██████████| 5/5 [00:03<00:00,  1.41it/s]"
     ]
    },
    {
     "name": "stdout",
     "output_type": "stream",
     "text": [
      "                   all        480        518      0.903      0.853      0.898      0.656\n"
     ]
    },
    {
     "name": "stderr",
     "output_type": "stream",
     "text": [
      "\n"
     ]
    },
    {
     "name": "stdout",
     "output_type": "stream",
     "text": [
      "\n",
      "      Epoch    GPU_mem   box_loss   cls_loss   dfl_loss  Instances       Size\n"
     ]
    },
    {
     "name": "stderr",
     "output_type": "stream",
     "text": [
      "      13/25       6.6G      1.037     0.8634      1.127         65        640: 100%|██████████| 81/81 [00:29<00:00,  2.71it/s]\n",
      "                 Class     Images  Instances      Box(P          R      mAP50  mAP50-95): 100%|██████████| 5/5 [00:03<00:00,  1.46it/s]"
     ]
    },
    {
     "name": "stdout",
     "output_type": "stream",
     "text": [
      "                   all        480        518       0.87      0.826      0.876      0.663\n"
     ]
    },
    {
     "name": "stderr",
     "output_type": "stream",
     "text": [
      "\n"
     ]
    },
    {
     "name": "stdout",
     "output_type": "stream",
     "text": [
      "\n",
      "      Epoch    GPU_mem   box_loss   cls_loss   dfl_loss  Instances       Size\n"
     ]
    },
    {
     "name": "stderr",
     "output_type": "stream",
     "text": [
      "      14/25      6.56G      1.008     0.8243      1.106         84        640: 100%|██████████| 81/81 [00:29<00:00,  2.71it/s]\n",
      "                 Class     Images  Instances      Box(P          R      mAP50  mAP50-95): 100%|██████████| 5/5 [00:03<00:00,  1.35it/s]"
     ]
    },
    {
     "name": "stdout",
     "output_type": "stream",
     "text": [
      "                   all        480        518      0.919       0.82      0.893      0.687\n"
     ]
    },
    {
     "name": "stderr",
     "output_type": "stream",
     "text": [
      "\n"
     ]
    },
    {
     "name": "stdout",
     "output_type": "stream",
     "text": [
      "\n",
      "      Epoch    GPU_mem   box_loss   cls_loss   dfl_loss  Instances       Size\n"
     ]
    },
    {
     "name": "stderr",
     "output_type": "stream",
     "text": [
      "      15/25      6.56G      1.017     0.8412      1.112         77        640: 100%|██████████| 81/81 [00:30<00:00,  2.68it/s]\n",
      "                 Class     Images  Instances      Box(P          R      mAP50  mAP50-95): 100%|██████████| 5/5 [00:07<00:00,  1.40s/it]"
     ]
    },
    {
     "name": "stdout",
     "output_type": "stream",
     "text": [
      "                   all        480        518      0.912      0.865      0.906      0.692\n"
     ]
    },
    {
     "name": "stderr",
     "output_type": "stream",
     "text": [
      "\n"
     ]
    },
    {
     "name": "stdout",
     "output_type": "stream",
     "text": [
      "Closing dataloader mosaic\n",
      "\n",
      "      Epoch    GPU_mem   box_loss   cls_loss   dfl_loss  Instances       Size\n"
     ]
    },
    {
     "name": "stderr",
     "output_type": "stream",
     "text": [
      "      16/25      6.65G     0.8635     0.6231      1.029         51        640: 100%|██████████| 81/81 [00:29<00:00,  2.75it/s]\n",
      "                 Class     Images  Instances      Box(P          R      mAP50  mAP50-95): 100%|██████████| 5/5 [00:03<00:00,  1.45it/s]"
     ]
    },
    {
     "name": "stdout",
     "output_type": "stream",
     "text": [
      "                   all        480        518      0.902      0.868      0.903      0.703\n"
     ]
    },
    {
     "name": "stderr",
     "output_type": "stream",
     "text": [
      "\n"
     ]
    },
    {
     "name": "stdout",
     "output_type": "stream",
     "text": [
      "\n",
      "      Epoch    GPU_mem   box_loss   cls_loss   dfl_loss  Instances       Size\n"
     ]
    },
    {
     "name": "stderr",
     "output_type": "stream",
     "text": [
      "      17/25      6.56G     0.8297     0.5997      1.013         52        640: 100%|██████████| 81/81 [00:28<00:00,  2.84it/s]\n",
      "                 Class     Images  Instances      Box(P          R      mAP50  mAP50-95): 100%|██████████| 5/5 [00:03<00:00,  1.50it/s]"
     ]
    },
    {
     "name": "stdout",
     "output_type": "stream",
     "text": [
      "                   all        480        518       0.93      0.891      0.913      0.708\n"
     ]
    },
    {
     "name": "stderr",
     "output_type": "stream",
     "text": [
      "\n"
     ]
    },
    {
     "name": "stdout",
     "output_type": "stream",
     "text": [
      "\n",
      "      Epoch    GPU_mem   box_loss   cls_loss   dfl_loss  Instances       Size\n"
     ]
    },
    {
     "name": "stderr",
     "output_type": "stream",
     "text": [
      "      18/25      6.61G     0.8102     0.5704     0.9992         46        640: 100%|██████████| 81/81 [00:28<00:00,  2.82it/s]\n",
      "                 Class     Images  Instances      Box(P          R      mAP50  mAP50-95): 100%|██████████| 5/5 [00:03<00:00,  1.51it/s]"
     ]
    },
    {
     "name": "stdout",
     "output_type": "stream",
     "text": [
      "                   all        480        518      0.941      0.865      0.903      0.712\n"
     ]
    },
    {
     "name": "stderr",
     "output_type": "stream",
     "text": [
      "\n"
     ]
    },
    {
     "name": "stdout",
     "output_type": "stream",
     "text": [
      "\n",
      "      Epoch    GPU_mem   box_loss   cls_loss   dfl_loss  Instances       Size\n"
     ]
    },
    {
     "name": "stderr",
     "output_type": "stream",
     "text": [
      "      19/25      6.61G     0.8057     0.5504     0.9917         47        640: 100%|██████████| 81/81 [00:29<00:00,  2.75it/s]\n",
      "                 Class     Images  Instances      Box(P          R      mAP50  mAP50-95): 100%|██████████| 5/5 [00:03<00:00,  1.38it/s]"
     ]
    },
    {
     "name": "stdout",
     "output_type": "stream",
     "text": [
      "                   all        480        518       0.96      0.843      0.905       0.71\n"
     ]
    },
    {
     "name": "stderr",
     "output_type": "stream",
     "text": [
      "\n"
     ]
    },
    {
     "name": "stdout",
     "output_type": "stream",
     "text": [
      "\n",
      "      Epoch    GPU_mem   box_loss   cls_loss   dfl_loss  Instances       Size\n"
     ]
    },
    {
     "name": "stderr",
     "output_type": "stream",
     "text": [
      "      20/25      6.56G     0.7763     0.5321     0.9861         54        640: 100%|██████████| 81/81 [00:29<00:00,  2.71it/s]\n",
      "                 Class     Images  Instances      Box(P          R      mAP50  mAP50-95): 100%|██████████| 5/5 [00:07<00:00,  1.52s/it]"
     ]
    },
    {
     "name": "stdout",
     "output_type": "stream",
     "text": [
      "                   all        480        518      0.956      0.896      0.939      0.752\n"
     ]
    },
    {
     "name": "stderr",
     "output_type": "stream",
     "text": [
      "\n"
     ]
    },
    {
     "name": "stdout",
     "output_type": "stream",
     "text": [
      "\n",
      "      Epoch    GPU_mem   box_loss   cls_loss   dfl_loss  Instances       Size\n"
     ]
    },
    {
     "name": "stderr",
     "output_type": "stream",
     "text": [
      "      21/25      6.65G     0.7505     0.5151      0.979         51        640: 100%|██████████| 81/81 [00:29<00:00,  2.74it/s]\n",
      "                 Class     Images  Instances      Box(P          R      mAP50  mAP50-95): 100%|██████████| 5/5 [00:05<00:00,  1.00s/it]"
     ]
    },
    {
     "name": "stdout",
     "output_type": "stream",
     "text": [
      "                   all        480        518       0.95      0.883      0.918       0.73\n"
     ]
    },
    {
     "name": "stderr",
     "output_type": "stream",
     "text": [
      "\n"
     ]
    },
    {
     "name": "stdout",
     "output_type": "stream",
     "text": [
      "\n",
      "      Epoch    GPU_mem   box_loss   cls_loss   dfl_loss  Instances       Size\n"
     ]
    },
    {
     "name": "stderr",
     "output_type": "stream",
     "text": [
      "      22/25      6.56G     0.7327     0.4908     0.9626         49        640: 100%|██████████| 81/81 [00:29<00:00,  2.70it/s]\n",
      "                 Class     Images  Instances      Box(P          R      mAP50  mAP50-95): 100%|██████████| 5/5 [00:03<00:00,  1.35it/s]"
     ]
    },
    {
     "name": "stdout",
     "output_type": "stream",
     "text": [
      "                   all        480        518      0.955      0.893      0.935      0.748\n"
     ]
    },
    {
     "name": "stderr",
     "output_type": "stream",
     "text": [
      "\n"
     ]
    },
    {
     "name": "stdout",
     "output_type": "stream",
     "text": [
      "\n",
      "      Epoch    GPU_mem   box_loss   cls_loss   dfl_loss  Instances       Size\n"
     ]
    },
    {
     "name": "stderr",
     "output_type": "stream",
     "text": [
      "      23/25      6.65G     0.7242     0.4812     0.9584         51        640: 100%|██████████| 81/81 [00:28<00:00,  2.84it/s]\n",
      "                 Class     Images  Instances      Box(P          R      mAP50  mAP50-95): 100%|██████████| 5/5 [00:03<00:00,  1.35it/s]"
     ]
    },
    {
     "name": "stdout",
     "output_type": "stream",
     "text": [
      "                   all        480        518      0.955      0.895      0.925      0.737\n"
     ]
    },
    {
     "name": "stderr",
     "output_type": "stream",
     "text": [
      "\n"
     ]
    },
    {
     "name": "stdout",
     "output_type": "stream",
     "text": [
      "\n",
      "      Epoch    GPU_mem   box_loss   cls_loss   dfl_loss  Instances       Size\n"
     ]
    },
    {
     "name": "stderr",
     "output_type": "stream",
     "text": [
      "      24/25      6.56G     0.7019     0.4661      0.949         48        640: 100%|██████████| 81/81 [00:28<00:00,  2.83it/s]\n",
      "                 Class     Images  Instances      Box(P          R      mAP50  mAP50-95): 100%|██████████| 5/5 [00:03<00:00,  1.41it/s]"
     ]
    },
    {
     "name": "stdout",
     "output_type": "stream",
     "text": [
      "                   all        480        518      0.953      0.898      0.928      0.755\n"
     ]
    },
    {
     "name": "stderr",
     "output_type": "stream",
     "text": [
      "\n"
     ]
    },
    {
     "name": "stdout",
     "output_type": "stream",
     "text": [
      "\n",
      "      Epoch    GPU_mem   box_loss   cls_loss   dfl_loss  Instances       Size\n"
     ]
    },
    {
     "name": "stderr",
     "output_type": "stream",
     "text": [
      "      25/25       6.6G     0.6938     0.4576     0.9449         50        640: 100%|██████████| 81/81 [00:29<00:00,  2.76it/s]\n",
      "                 Class     Images  Instances      Box(P          R      mAP50  mAP50-95): 100%|██████████| 5/5 [00:06<00:00,  1.40s/it]"
     ]
    },
    {
     "name": "stdout",
     "output_type": "stream",
     "text": [
      "                   all        480        518      0.967      0.905      0.934      0.763\n"
     ]
    },
    {
     "name": "stderr",
     "output_type": "stream",
     "text": [
      "\n"
     ]
    },
    {
     "name": "stdout",
     "output_type": "stream",
     "text": [
      "\n",
      "25 epochs completed in 0.254 hours.\n",
      "Optimizer stripped from runs\\detect\\train\\weights\\last.pt, 6.2MB\n",
      "Optimizer stripped from runs\\detect\\train\\weights\\best.pt, 6.2MB\n",
      "\n",
      "Validating runs\\detect\\train\\weights\\best.pt...\n",
      "Ultralytics YOLOv8.1.35 🚀 Python-3.9.13 torch-2.2.1+cu118 CUDA:0 (NVIDIA GeForce RTX 2080 Super with Max-Q Design, 8192MiB)\n",
      "Model summary (fused): 168 layers, 3005843 parameters, 0 gradients, 8.1 GFLOPs\n"
     ]
    },
    {
     "name": "stderr",
     "output_type": "stream",
     "text": [
      "                 Class     Images  Instances      Box(P          R      mAP50  mAP50-95): 100%|██████████| 5/5 [00:04<00:00,  1.14it/s]\n"
     ]
    },
    {
     "name": "stdout",
     "output_type": "stream",
     "text": [
      "                   all        480        518      0.967      0.905      0.934      0.762\n",
      "Speed: 0.3ms preprocess, 1.9ms inference, 0.0ms loss, 1.7ms postprocess per image\n",
      "Results saved to \u001b[1mruns\\detect\\train\u001b[0m\n"
     ]
    },
    {
     "data": {
      "text/plain": [
       "ultralytics.utils.metrics.DetMetrics object with attributes:\n",
       "\n",
       "ap_class_index: array([0])\n",
       "box: ultralytics.utils.metrics.Metric object\n",
       "confusion_matrix: <ultralytics.utils.metrics.ConfusionMatrix object at 0x000002303C0617F0>\n",
       "curves: ['Precision-Recall(B)', 'F1-Confidence(B)', 'Precision-Confidence(B)', 'Recall-Confidence(B)']\n",
       "curves_results: [[array([          0,    0.001001,    0.002002,    0.003003,    0.004004,    0.005005,    0.006006,    0.007007,    0.008008,    0.009009,     0.01001,    0.011011,    0.012012,    0.013013,    0.014014,    0.015015,    0.016016,    0.017017,    0.018018,    0.019019,     0.02002,    0.021021,    0.022022,    0.023023,\n",
       "          0.024024,    0.025025,    0.026026,    0.027027,    0.028028,    0.029029,     0.03003,    0.031031,    0.032032,    0.033033,    0.034034,    0.035035,    0.036036,    0.037037,    0.038038,    0.039039,     0.04004,    0.041041,    0.042042,    0.043043,    0.044044,    0.045045,    0.046046,    0.047047,\n",
       "          0.048048,    0.049049,     0.05005,    0.051051,    0.052052,    0.053053,    0.054054,    0.055055,    0.056056,    0.057057,    0.058058,    0.059059,     0.06006,    0.061061,    0.062062,    0.063063,    0.064064,    0.065065,    0.066066,    0.067067,    0.068068,    0.069069,     0.07007,    0.071071,\n",
       "          0.072072,    0.073073,    0.074074,    0.075075,    0.076076,    0.077077,    0.078078,    0.079079,     0.08008,    0.081081,    0.082082,    0.083083,    0.084084,    0.085085,    0.086086,    0.087087,    0.088088,    0.089089,     0.09009,    0.091091,    0.092092,    0.093093,    0.094094,    0.095095,\n",
       "          0.096096,    0.097097,    0.098098,    0.099099,      0.1001,      0.1011,      0.1021,      0.1031,      0.1041,     0.10511,     0.10611,     0.10711,     0.10811,     0.10911,     0.11011,     0.11111,     0.11211,     0.11311,     0.11411,     0.11512,     0.11612,     0.11712,     0.11812,     0.11912,\n",
       "           0.12012,     0.12112,     0.12212,     0.12312,     0.12412,     0.12513,     0.12613,     0.12713,     0.12813,     0.12913,     0.13013,     0.13113,     0.13213,     0.13313,     0.13413,     0.13514,     0.13614,     0.13714,     0.13814,     0.13914,     0.14014,     0.14114,     0.14214,     0.14314,\n",
       "           0.14414,     0.14515,     0.14615,     0.14715,     0.14815,     0.14915,     0.15015,     0.15115,     0.15215,     0.15315,     0.15415,     0.15516,     0.15616,     0.15716,     0.15816,     0.15916,     0.16016,     0.16116,     0.16216,     0.16316,     0.16416,     0.16517,     0.16617,     0.16717,\n",
       "           0.16817,     0.16917,     0.17017,     0.17117,     0.17217,     0.17317,     0.17417,     0.17518,     0.17618,     0.17718,     0.17818,     0.17918,     0.18018,     0.18118,     0.18218,     0.18318,     0.18418,     0.18519,     0.18619,     0.18719,     0.18819,     0.18919,     0.19019,     0.19119,\n",
       "           0.19219,     0.19319,     0.19419,      0.1952,      0.1962,      0.1972,      0.1982,      0.1992,      0.2002,      0.2012,      0.2022,      0.2032,      0.2042,     0.20521,     0.20621,     0.20721,     0.20821,     0.20921,     0.21021,     0.21121,     0.21221,     0.21321,     0.21421,     0.21522,\n",
       "           0.21622,     0.21722,     0.21822,     0.21922,     0.22022,     0.22122,     0.22222,     0.22322,     0.22422,     0.22523,     0.22623,     0.22723,     0.22823,     0.22923,     0.23023,     0.23123,     0.23223,     0.23323,     0.23423,     0.23524,     0.23624,     0.23724,     0.23824,     0.23924,\n",
       "           0.24024,     0.24124,     0.24224,     0.24324,     0.24424,     0.24525,     0.24625,     0.24725,     0.24825,     0.24925,     0.25025,     0.25125,     0.25225,     0.25325,     0.25425,     0.25526,     0.25626,     0.25726,     0.25826,     0.25926,     0.26026,     0.26126,     0.26226,     0.26326,\n",
       "           0.26426,     0.26527,     0.26627,     0.26727,     0.26827,     0.26927,     0.27027,     0.27127,     0.27227,     0.27327,     0.27427,     0.27528,     0.27628,     0.27728,     0.27828,     0.27928,     0.28028,     0.28128,     0.28228,     0.28328,     0.28428,     0.28529,     0.28629,     0.28729,\n",
       "           0.28829,     0.28929,     0.29029,     0.29129,     0.29229,     0.29329,     0.29429,      0.2953,      0.2963,      0.2973,      0.2983,      0.2993,      0.3003,      0.3013,      0.3023,      0.3033,      0.3043,     0.30531,     0.30631,     0.30731,     0.30831,     0.30931,     0.31031,     0.31131,\n",
       "           0.31231,     0.31331,     0.31431,     0.31532,     0.31632,     0.31732,     0.31832,     0.31932,     0.32032,     0.32132,     0.32232,     0.32332,     0.32432,     0.32533,     0.32633,     0.32733,     0.32833,     0.32933,     0.33033,     0.33133,     0.33233,     0.33333,     0.33433,     0.33534,\n",
       "           0.33634,     0.33734,     0.33834,     0.33934,     0.34034,     0.34134,     0.34234,     0.34334,     0.34434,     0.34535,     0.34635,     0.34735,     0.34835,     0.34935,     0.35035,     0.35135,     0.35235,     0.35335,     0.35435,     0.35536,     0.35636,     0.35736,     0.35836,     0.35936,\n",
       "           0.36036,     0.36136,     0.36236,     0.36336,     0.36436,     0.36537,     0.36637,     0.36737,     0.36837,     0.36937,     0.37037,     0.37137,     0.37237,     0.37337,     0.37437,     0.37538,     0.37638,     0.37738,     0.37838,     0.37938,     0.38038,     0.38138,     0.38238,     0.38338,\n",
       "           0.38438,     0.38539,     0.38639,     0.38739,     0.38839,     0.38939,     0.39039,     0.39139,     0.39239,     0.39339,     0.39439,      0.3954,      0.3964,      0.3974,      0.3984,      0.3994,      0.4004,      0.4014,      0.4024,      0.4034,      0.4044,     0.40541,     0.40641,     0.40741,\n",
       "           0.40841,     0.40941,     0.41041,     0.41141,     0.41241,     0.41341,     0.41441,     0.41542,     0.41642,     0.41742,     0.41842,     0.41942,     0.42042,     0.42142,     0.42242,     0.42342,     0.42442,     0.42543,     0.42643,     0.42743,     0.42843,     0.42943,     0.43043,     0.43143,\n",
       "           0.43243,     0.43343,     0.43443,     0.43544,     0.43644,     0.43744,     0.43844,     0.43944,     0.44044,     0.44144,     0.44244,     0.44344,     0.44444,     0.44545,     0.44645,     0.44745,     0.44845,     0.44945,     0.45045,     0.45145,     0.45245,     0.45345,     0.45445,     0.45546,\n",
       "           0.45646,     0.45746,     0.45846,     0.45946,     0.46046,     0.46146,     0.46246,     0.46346,     0.46446,     0.46547,     0.46647,     0.46747,     0.46847,     0.46947,     0.47047,     0.47147,     0.47247,     0.47347,     0.47447,     0.47548,     0.47648,     0.47748,     0.47848,     0.47948,\n",
       "           0.48048,     0.48148,     0.48248,     0.48348,     0.48448,     0.48549,     0.48649,     0.48749,     0.48849,     0.48949,     0.49049,     0.49149,     0.49249,     0.49349,     0.49449,      0.4955,      0.4965,      0.4975,      0.4985,      0.4995,      0.5005,      0.5015,      0.5025,      0.5035,\n",
       "            0.5045,     0.50551,     0.50651,     0.50751,     0.50851,     0.50951,     0.51051,     0.51151,     0.51251,     0.51351,     0.51451,     0.51552,     0.51652,     0.51752,     0.51852,     0.51952,     0.52052,     0.52152,     0.52252,     0.52352,     0.52452,     0.52553,     0.52653,     0.52753,\n",
       "           0.52853,     0.52953,     0.53053,     0.53153,     0.53253,     0.53353,     0.53453,     0.53554,     0.53654,     0.53754,     0.53854,     0.53954,     0.54054,     0.54154,     0.54254,     0.54354,     0.54454,     0.54555,     0.54655,     0.54755,     0.54855,     0.54955,     0.55055,     0.55155,\n",
       "           0.55255,     0.55355,     0.55455,     0.55556,     0.55656,     0.55756,     0.55856,     0.55956,     0.56056,     0.56156,     0.56256,     0.56356,     0.56456,     0.56557,     0.56657,     0.56757,     0.56857,     0.56957,     0.57057,     0.57157,     0.57257,     0.57357,     0.57457,     0.57558,\n",
       "           0.57658,     0.57758,     0.57858,     0.57958,     0.58058,     0.58158,     0.58258,     0.58358,     0.58458,     0.58559,     0.58659,     0.58759,     0.58859,     0.58959,     0.59059,     0.59159,     0.59259,     0.59359,     0.59459,      0.5956,      0.5966,      0.5976,      0.5986,      0.5996,\n",
       "            0.6006,      0.6016,      0.6026,      0.6036,      0.6046,     0.60561,     0.60661,     0.60761,     0.60861,     0.60961,     0.61061,     0.61161,     0.61261,     0.61361,     0.61461,     0.61562,     0.61662,     0.61762,     0.61862,     0.61962,     0.62062,     0.62162,     0.62262,     0.62362,\n",
       "           0.62462,     0.62563,     0.62663,     0.62763,     0.62863,     0.62963,     0.63063,     0.63163,     0.63263,     0.63363,     0.63463,     0.63564,     0.63664,     0.63764,     0.63864,     0.63964,     0.64064,     0.64164,     0.64264,     0.64364,     0.64464,     0.64565,     0.64665,     0.64765,\n",
       "           0.64865,     0.64965,     0.65065,     0.65165,     0.65265,     0.65365,     0.65465,     0.65566,     0.65666,     0.65766,     0.65866,     0.65966,     0.66066,     0.66166,     0.66266,     0.66366,     0.66466,     0.66567,     0.66667,     0.66767,     0.66867,     0.66967,     0.67067,     0.67167,\n",
       "           0.67267,     0.67367,     0.67467,     0.67568,     0.67668,     0.67768,     0.67868,     0.67968,     0.68068,     0.68168,     0.68268,     0.68368,     0.68468,     0.68569,     0.68669,     0.68769,     0.68869,     0.68969,     0.69069,     0.69169,     0.69269,     0.69369,     0.69469,      0.6957,\n",
       "            0.6967,      0.6977,      0.6987,      0.6997,      0.7007,      0.7017,      0.7027,      0.7037,      0.7047,     0.70571,     0.70671,     0.70771,     0.70871,     0.70971,     0.71071,     0.71171,     0.71271,     0.71371,     0.71471,     0.71572,     0.71672,     0.71772,     0.71872,     0.71972,\n",
       "           0.72072,     0.72172,     0.72272,     0.72372,     0.72472,     0.72573,     0.72673,     0.72773,     0.72873,     0.72973,     0.73073,     0.73173,     0.73273,     0.73373,     0.73473,     0.73574,     0.73674,     0.73774,     0.73874,     0.73974,     0.74074,     0.74174,     0.74274,     0.74374,\n",
       "           0.74474,     0.74575,     0.74675,     0.74775,     0.74875,     0.74975,     0.75075,     0.75175,     0.75275,     0.75375,     0.75475,     0.75576,     0.75676,     0.75776,     0.75876,     0.75976,     0.76076,     0.76176,     0.76276,     0.76376,     0.76476,     0.76577,     0.76677,     0.76777,\n",
       "           0.76877,     0.76977,     0.77077,     0.77177,     0.77277,     0.77377,     0.77477,     0.77578,     0.77678,     0.77778,     0.77878,     0.77978,     0.78078,     0.78178,     0.78278,     0.78378,     0.78478,     0.78579,     0.78679,     0.78779,     0.78879,     0.78979,     0.79079,     0.79179,\n",
       "           0.79279,     0.79379,     0.79479,      0.7958,      0.7968,      0.7978,      0.7988,      0.7998,      0.8008,      0.8018,      0.8028,      0.8038,      0.8048,     0.80581,     0.80681,     0.80781,     0.80881,     0.80981,     0.81081,     0.81181,     0.81281,     0.81381,     0.81481,     0.81582,\n",
       "           0.81682,     0.81782,     0.81882,     0.81982,     0.82082,     0.82182,     0.82282,     0.82382,     0.82482,     0.82583,     0.82683,     0.82783,     0.82883,     0.82983,     0.83083,     0.83183,     0.83283,     0.83383,     0.83483,     0.83584,     0.83684,     0.83784,     0.83884,     0.83984,\n",
       "           0.84084,     0.84184,     0.84284,     0.84384,     0.84484,     0.84585,     0.84685,     0.84785,     0.84885,     0.84985,     0.85085,     0.85185,     0.85285,     0.85385,     0.85485,     0.85586,     0.85686,     0.85786,     0.85886,     0.85986,     0.86086,     0.86186,     0.86286,     0.86386,\n",
       "           0.86486,     0.86587,     0.86687,     0.86787,     0.86887,     0.86987,     0.87087,     0.87187,     0.87287,     0.87387,     0.87487,     0.87588,     0.87688,     0.87788,     0.87888,     0.87988,     0.88088,     0.88188,     0.88288,     0.88388,     0.88488,     0.88589,     0.88689,     0.88789,\n",
       "           0.88889,     0.88989,     0.89089,     0.89189,     0.89289,     0.89389,     0.89489,      0.8959,      0.8969,      0.8979,      0.8989,      0.8999,      0.9009,      0.9019,      0.9029,      0.9039,      0.9049,     0.90591,     0.90691,     0.90791,     0.90891,     0.90991,     0.91091,     0.91191,\n",
       "           0.91291,     0.91391,     0.91491,     0.91592,     0.91692,     0.91792,     0.91892,     0.91992,     0.92092,     0.92192,     0.92292,     0.92392,     0.92492,     0.92593,     0.92693,     0.92793,     0.92893,     0.92993,     0.93093,     0.93193,     0.93293,     0.93393,     0.93493,     0.93594,\n",
       "           0.93694,     0.93794,     0.93894,     0.93994,     0.94094,     0.94194,     0.94294,     0.94394,     0.94494,     0.94595,     0.94695,     0.94795,     0.94895,     0.94995,     0.95095,     0.95195,     0.95295,     0.95395,     0.95495,     0.95596,     0.95696,     0.95796,     0.95896,     0.95996,\n",
       "           0.96096,     0.96196,     0.96296,     0.96396,     0.96496,     0.96597,     0.96697,     0.96797,     0.96897,     0.96997,     0.97097,     0.97197,     0.97297,     0.97397,     0.97497,     0.97598,     0.97698,     0.97798,     0.97898,     0.97998,     0.98098,     0.98198,     0.98298,     0.98398,\n",
       "           0.98498,     0.98599,     0.98699,     0.98799,     0.98899,     0.98999,     0.99099,     0.99199,     0.99299,     0.99399,     0.99499,       0.996,       0.997,       0.998,       0.999,           1]), array([[          1,           1,           1,           1,           1,           1,           1,           1,           1,           1,           1,           1,           1,           1,           1,           1,           1,           1,           1,           1,           1,           1,           1,\n",
       "                  1,           1,           1,           1,           1,           1,           1,           1,           1,           1,           1,           1,           1,           1,           1,           1,           1,           1,           1,           1,           1,           1,           1,\n",
       "                  1,           1,           1,           1,           1,           1,           1,           1,           1,           1,           1,           1,           1,           1,           1,           1,           1,           1,           1,           1,           1,           1,           1,\n",
       "                  1,           1,           1,           1,           1,           1,           1,           1,           1,           1,           1,           1,           1,           1,           1,           1,           1,           1,           1,           1,           1,           1,           1,\n",
       "                  1,           1,           1,           1,           1,           1,           1,           1,           1,           1,           1,           1,           1,           1,           1,           1,           1,           1,           1,           1,           1,           1,           1,\n",
       "                  1,           1,           1,           1,           1,           1,           1,           1,           1,           1,           1,           1,           1,           1,           1,           1,           1,           1,           1,           1,           1,           1,           1,\n",
       "                  1,           1,           1,           1,           1,           1,           1,           1,           1,           1,           1,           1,           1,           1,           1,           1,           1,           1,           1,           1,           1,           1,           1,\n",
       "                  1,           1,           1,           1,           1,           1,           1,           1,           1,           1,           1,           1,           1,           1,           1,           1,           1,           1,           1,           1,           1,           1,           1,\n",
       "                  1,           1,           1,           1,           1,           1,           1,           1,           1,           1,           1,           1,           1,           1,           1,           1,           1,           1,           1,           1,           1,           1,           1,\n",
       "                  1,           1,           1,           1,           1,           1,           1,           1,           1,           1,           1,           1,           1,           1,           1,           1,           1,           1,           1,           1,           1,           1,           1,\n",
       "                  1,           1,           1,           1,           1,           1,           1,           1,           1,           1,           1,           1,           1,           1,           1,           1,           1,           1,           1,           1,           1,           1,           1,\n",
       "                  1,           1,           1,           1,           1,           1,           1,           1,           1,           1,           1,           1,           1,           1,           1,           1,           1,           1,           1,           1,           1,           1,           1,\n",
       "                  1,           1,           1,           1,           1,           1,           1,           1,           1,           1,           1,           1,           1,           1,           1,           1,           1,           1,           1,           1,           1,           1,           1,\n",
       "                  1,           1,           1,           1,           1,           1,           1,           1,           1,           1,           1,           1,           1,           1,           1,           1,           1,           1,           1,           1,           1,           1,           1,\n",
       "                  1,           1,           1,           1,           1,           1,           1,           1,           1,           1,           1,           1,           1,           1,           1,           1,           1,           1,           1,           1,           1,           1,           1,\n",
       "                  1,           1,           1,           1,           1,           1,           1,           1,           1,           1,           1,           1,           1,           1,           1,           1,           1,           1,           1,           1,           1,           1,           1,\n",
       "                  1,           1,           1,           1,           1,           1,           1,           1,           1,           1,           1,           1,           1,           1,           1,           1,           1,           1,           1,           1,           1,           1,           1,\n",
       "                  1,           1,           1,           1,           1,           1,           1,           1,           1,           1,           1,           1,           1,           1,           1,           1,           1,           1,           1,           1,           1,           1,           1,\n",
       "                  1,           1,           1,           1,           1,           1,           1,           1,           1,           1,           1,           1,           1,           1,           1,           1,           1,           1,           1,           1,           1,           1,           1,\n",
       "                  1,           1,           1,           1,           1,           1,           1,           1,           1,           1,           1,           1,           1,           1,           1,           1,           1,           1,           1,           1,           1,           1,           1,\n",
       "                  1,           1,           1,           1,           1,           1,           1,           1,           1,           1,           1,           1,           1,           1,           1,           1,           1,           1,           1,           1,           1,           1,           1,\n",
       "                  1,           1,           1,           1,           1,           1,           1,           1,           1,           1,           1,           1,           1,           1,           1,           1,           1,           1,           1,           1,           1,           1,           1,\n",
       "                  1,           1,           1,           1,           1,           1,           1,           1,           1,           1,           1,           1,           1,           1,           1,           1,           1,           1,           1,           1,           1,           1,           1,\n",
       "                  1,           1,           1,           1,           1,           1,           1,           1,           1,           1,           1,           1,           1,           1,           1,           1,           1,           1,           1,           1,           1,           1,           1,\n",
       "                  1,           1,           1,           1,           1,           1,           1,           1,           1,           1,           1,           1,           1,           1,           1,           1,           1,           1,           1,           1,           1,           1,           1,\n",
       "                  1,           1,           1,           1,           1,           1,           1,           1,           1,           1,           1,           1,           1,           1,           1,           1,           1,           1,           1,           1,           1,           1,           1,\n",
       "                  1,           1,           1,           1,           1,           1,           1,           1,           1,           1,     0.99718,     0.99718,     0.99718,     0.99718,     0.99718,     0.99718,     0.99718,     0.99718,     0.99718,     0.99718,     0.99718,     0.99718,     0.99718,\n",
       "            0.99718,     0.99718,     0.99718,     0.99718,     0.99718,     0.99718,     0.99718,     0.99718,     0.99718,     0.99718,     0.99718,     0.99718,     0.99718,     0.99718,     0.99718,     0.99718,     0.99718,     0.99718,     0.99718,     0.99718,     0.99718,     0.99718,     0.99718,\n",
       "            0.99718,     0.99718,     0.99718,     0.99718,     0.99718,     0.99718,     0.99718,     0.99718,     0.99718,     0.99718,     0.99718,     0.99718,     0.99718,     0.99718,     0.99718,     0.99718,     0.99718,     0.99718,     0.99718,     0.99718,     0.99718,     0.99718,     0.99718,\n",
       "            0.99718,     0.99718,     0.99718,     0.99718,     0.99718,     0.99718,     0.99718,     0.99718,     0.99718,     0.99718,     0.99718,     0.99718,     0.99718,     0.99718,     0.99491,     0.99491,     0.99491,     0.99491,     0.99491,     0.99491,     0.99491,     0.99491,     0.99491,\n",
       "            0.99491,     0.99491,     0.99491,     0.99491,     0.99491,     0.99491,     0.99491,     0.99491,     0.99491,     0.99491,     0.99491,     0.99491,     0.99491,     0.99491,     0.99491,     0.99491,     0.99491,     0.99491,     0.99491,     0.99491,     0.99491,     0.99491,     0.99491,\n",
       "            0.99491,     0.99491,     0.99491,     0.99491,     0.99491,     0.99491,     0.99491,     0.99491,     0.99491,     0.99491,     0.99491,     0.99491,     0.99491,     0.99491,     0.99491,     0.99491,     0.99491,     0.99491,     0.99491,     0.99491,     0.99491,     0.99491,     0.99491,\n",
       "            0.99491,     0.99491,     0.99491,     0.99491,     0.99491,     0.99491,     0.99491,     0.99491,     0.99491,     0.99491,     0.99491,     0.99491,     0.99491,     0.99491,     0.99491,     0.99491,     0.99491,     0.99491,     0.99491,     0.99246,     0.99246,     0.99246,     0.99246,\n",
       "            0.99246,     0.99246,     0.99246,     0.99024,     0.99024,     0.99024,     0.99024,     0.99024,     0.99024,     0.99024,     0.99024,     0.99024,     0.99024,     0.99024,     0.99024,     0.99024,     0.99024,     0.99024,     0.99024,     0.99024,     0.99024,     0.99024,     0.99024,\n",
       "            0.99024,     0.98792,     0.98792,     0.98792,     0.98792,     0.98792,     0.98792,     0.98611,     0.98611,     0.98611,     0.98611,     0.98611,     0.98611,     0.98611,     0.98611,     0.98611,     0.98611,     0.98611,     0.98611,     0.98611,     0.98611,     0.98611,     0.98611,\n",
       "            0.98611,     0.98611,     0.98611,     0.98611,     0.98611,     0.98611,     0.98611,     0.98611,     0.98611,     0.98611,     0.98611,     0.98611,     0.98611,     0.98611,     0.98611,     0.98611,     0.98611,     0.98218,     0.98218,     0.98218,     0.98218,     0.98218,     0.98218,\n",
       "            0.98218,     0.98218,     0.98218,     0.98218,     0.98218,     0.98218,     0.98218,     0.98218,     0.98218,     0.98218,     0.98218,     0.98218,     0.98218,     0.98218,     0.98218,     0.98218,     0.98218,     0.98218,     0.98218,     0.98218,     0.98218,     0.98218,     0.98218,\n",
       "            0.97812,     0.97812,     0.97812,     0.97812,     0.97812,     0.97812,     0.97812,     0.97812,     0.97812,     0.97812,     0.97812,     0.97812,     0.97629,     0.97629,     0.97629,     0.97629,     0.97629,     0.97629,     0.97629,     0.97629,     0.97629,     0.97629,     0.97629,\n",
       "            0.97452,     0.97452,     0.97452,     0.97452,     0.97452,     0.97452,     0.97452,     0.97452,     0.97452,     0.97452,     0.97452,     0.97452,     0.97257,     0.97257,     0.97257,     0.97257,     0.97089,     0.97089,     0.97089,     0.97089,     0.97089,     0.97089,     0.97089,\n",
       "            0.97089,     0.97089,     0.97089,     0.97089,     0.96701,     0.96701,     0.96701,     0.96701,     0.96115,     0.96115,      0.9496,      0.9496,     0.93478,     0.93478,     0.93478,     0.93478,     0.92759,     0.92759,     0.91876,     0.91876,     0.90152,     0.90152,     0.83538,\n",
       "            0.78878,     0.78878,     0.78268,     0.78268,     0.74074,     0.74074,     0.65621,     0.65621,     0.62354,     0.62354,     0.54392,     0.54392,     0.54018,     0.54018,     0.52603,     0.52603,     0.43902,     0.43902,     0.39306,     0.39306,     0.31565,     0.31565,     0.27242,\n",
       "            0.27242,     0.27237,     0.24937,     0.24937,     0.20205,     0.20205,     0.19943,     0.19943,     0.19943,     0.19943,     0.17993,     0.17993,     0.16544,     0.16544,     0.11018,     0.11018,    0.095898,    0.095898,    0.093428,    0.093428,    0.088015,     0.08557,    0.083126,\n",
       "           0.080681,    0.078236,    0.075791,    0.073346,    0.070901,    0.068456,    0.066012,    0.063567,    0.061122,    0.058677,    0.056232,    0.053787,    0.051342,    0.048897,    0.046453,    0.044008,    0.041563,    0.039118,    0.036673,    0.034228,    0.031783,    0.029338,    0.026894,\n",
       "           0.024449,    0.022004,    0.019559,    0.017114,    0.014669,    0.012224,   0.0097795,   0.0073346,   0.0048897,   0.0024449,           0]]), 'Recall', 'Precision'], [array([          0,    0.001001,    0.002002,    0.003003,    0.004004,    0.005005,    0.006006,    0.007007,    0.008008,    0.009009,     0.01001,    0.011011,    0.012012,    0.013013,    0.014014,    0.015015,    0.016016,    0.017017,    0.018018,    0.019019,     0.02002,    0.021021,    0.022022,    0.023023,\n",
       "          0.024024,    0.025025,    0.026026,    0.027027,    0.028028,    0.029029,     0.03003,    0.031031,    0.032032,    0.033033,    0.034034,    0.035035,    0.036036,    0.037037,    0.038038,    0.039039,     0.04004,    0.041041,    0.042042,    0.043043,    0.044044,    0.045045,    0.046046,    0.047047,\n",
       "          0.048048,    0.049049,     0.05005,    0.051051,    0.052052,    0.053053,    0.054054,    0.055055,    0.056056,    0.057057,    0.058058,    0.059059,     0.06006,    0.061061,    0.062062,    0.063063,    0.064064,    0.065065,    0.066066,    0.067067,    0.068068,    0.069069,     0.07007,    0.071071,\n",
       "          0.072072,    0.073073,    0.074074,    0.075075,    0.076076,    0.077077,    0.078078,    0.079079,     0.08008,    0.081081,    0.082082,    0.083083,    0.084084,    0.085085,    0.086086,    0.087087,    0.088088,    0.089089,     0.09009,    0.091091,    0.092092,    0.093093,    0.094094,    0.095095,\n",
       "          0.096096,    0.097097,    0.098098,    0.099099,      0.1001,      0.1011,      0.1021,      0.1031,      0.1041,     0.10511,     0.10611,     0.10711,     0.10811,     0.10911,     0.11011,     0.11111,     0.11211,     0.11311,     0.11411,     0.11512,     0.11612,     0.11712,     0.11812,     0.11912,\n",
       "           0.12012,     0.12112,     0.12212,     0.12312,     0.12412,     0.12513,     0.12613,     0.12713,     0.12813,     0.12913,     0.13013,     0.13113,     0.13213,     0.13313,     0.13413,     0.13514,     0.13614,     0.13714,     0.13814,     0.13914,     0.14014,     0.14114,     0.14214,     0.14314,\n",
       "           0.14414,     0.14515,     0.14615,     0.14715,     0.14815,     0.14915,     0.15015,     0.15115,     0.15215,     0.15315,     0.15415,     0.15516,     0.15616,     0.15716,     0.15816,     0.15916,     0.16016,     0.16116,     0.16216,     0.16316,     0.16416,     0.16517,     0.16617,     0.16717,\n",
       "           0.16817,     0.16917,     0.17017,     0.17117,     0.17217,     0.17317,     0.17417,     0.17518,     0.17618,     0.17718,     0.17818,     0.17918,     0.18018,     0.18118,     0.18218,     0.18318,     0.18418,     0.18519,     0.18619,     0.18719,     0.18819,     0.18919,     0.19019,     0.19119,\n",
       "           0.19219,     0.19319,     0.19419,      0.1952,      0.1962,      0.1972,      0.1982,      0.1992,      0.2002,      0.2012,      0.2022,      0.2032,      0.2042,     0.20521,     0.20621,     0.20721,     0.20821,     0.20921,     0.21021,     0.21121,     0.21221,     0.21321,     0.21421,     0.21522,\n",
       "           0.21622,     0.21722,     0.21822,     0.21922,     0.22022,     0.22122,     0.22222,     0.22322,     0.22422,     0.22523,     0.22623,     0.22723,     0.22823,     0.22923,     0.23023,     0.23123,     0.23223,     0.23323,     0.23423,     0.23524,     0.23624,     0.23724,     0.23824,     0.23924,\n",
       "           0.24024,     0.24124,     0.24224,     0.24324,     0.24424,     0.24525,     0.24625,     0.24725,     0.24825,     0.24925,     0.25025,     0.25125,     0.25225,     0.25325,     0.25425,     0.25526,     0.25626,     0.25726,     0.25826,     0.25926,     0.26026,     0.26126,     0.26226,     0.26326,\n",
       "           0.26426,     0.26527,     0.26627,     0.26727,     0.26827,     0.26927,     0.27027,     0.27127,     0.27227,     0.27327,     0.27427,     0.27528,     0.27628,     0.27728,     0.27828,     0.27928,     0.28028,     0.28128,     0.28228,     0.28328,     0.28428,     0.28529,     0.28629,     0.28729,\n",
       "           0.28829,     0.28929,     0.29029,     0.29129,     0.29229,     0.29329,     0.29429,      0.2953,      0.2963,      0.2973,      0.2983,      0.2993,      0.3003,      0.3013,      0.3023,      0.3033,      0.3043,     0.30531,     0.30631,     0.30731,     0.30831,     0.30931,     0.31031,     0.31131,\n",
       "           0.31231,     0.31331,     0.31431,     0.31532,     0.31632,     0.31732,     0.31832,     0.31932,     0.32032,     0.32132,     0.32232,     0.32332,     0.32432,     0.32533,     0.32633,     0.32733,     0.32833,     0.32933,     0.33033,     0.33133,     0.33233,     0.33333,     0.33433,     0.33534,\n",
       "           0.33634,     0.33734,     0.33834,     0.33934,     0.34034,     0.34134,     0.34234,     0.34334,     0.34434,     0.34535,     0.34635,     0.34735,     0.34835,     0.34935,     0.35035,     0.35135,     0.35235,     0.35335,     0.35435,     0.35536,     0.35636,     0.35736,     0.35836,     0.35936,\n",
       "           0.36036,     0.36136,     0.36236,     0.36336,     0.36436,     0.36537,     0.36637,     0.36737,     0.36837,     0.36937,     0.37037,     0.37137,     0.37237,     0.37337,     0.37437,     0.37538,     0.37638,     0.37738,     0.37838,     0.37938,     0.38038,     0.38138,     0.38238,     0.38338,\n",
       "           0.38438,     0.38539,     0.38639,     0.38739,     0.38839,     0.38939,     0.39039,     0.39139,     0.39239,     0.39339,     0.39439,      0.3954,      0.3964,      0.3974,      0.3984,      0.3994,      0.4004,      0.4014,      0.4024,      0.4034,      0.4044,     0.40541,     0.40641,     0.40741,\n",
       "           0.40841,     0.40941,     0.41041,     0.41141,     0.41241,     0.41341,     0.41441,     0.41542,     0.41642,     0.41742,     0.41842,     0.41942,     0.42042,     0.42142,     0.42242,     0.42342,     0.42442,     0.42543,     0.42643,     0.42743,     0.42843,     0.42943,     0.43043,     0.43143,\n",
       "           0.43243,     0.43343,     0.43443,     0.43544,     0.43644,     0.43744,     0.43844,     0.43944,     0.44044,     0.44144,     0.44244,     0.44344,     0.44444,     0.44545,     0.44645,     0.44745,     0.44845,     0.44945,     0.45045,     0.45145,     0.45245,     0.45345,     0.45445,     0.45546,\n",
       "           0.45646,     0.45746,     0.45846,     0.45946,     0.46046,     0.46146,     0.46246,     0.46346,     0.46446,     0.46547,     0.46647,     0.46747,     0.46847,     0.46947,     0.47047,     0.47147,     0.47247,     0.47347,     0.47447,     0.47548,     0.47648,     0.47748,     0.47848,     0.47948,\n",
       "           0.48048,     0.48148,     0.48248,     0.48348,     0.48448,     0.48549,     0.48649,     0.48749,     0.48849,     0.48949,     0.49049,     0.49149,     0.49249,     0.49349,     0.49449,      0.4955,      0.4965,      0.4975,      0.4985,      0.4995,      0.5005,      0.5015,      0.5025,      0.5035,\n",
       "            0.5045,     0.50551,     0.50651,     0.50751,     0.50851,     0.50951,     0.51051,     0.51151,     0.51251,     0.51351,     0.51451,     0.51552,     0.51652,     0.51752,     0.51852,     0.51952,     0.52052,     0.52152,     0.52252,     0.52352,     0.52452,     0.52553,     0.52653,     0.52753,\n",
       "           0.52853,     0.52953,     0.53053,     0.53153,     0.53253,     0.53353,     0.53453,     0.53554,     0.53654,     0.53754,     0.53854,     0.53954,     0.54054,     0.54154,     0.54254,     0.54354,     0.54454,     0.54555,     0.54655,     0.54755,     0.54855,     0.54955,     0.55055,     0.55155,\n",
       "           0.55255,     0.55355,     0.55455,     0.55556,     0.55656,     0.55756,     0.55856,     0.55956,     0.56056,     0.56156,     0.56256,     0.56356,     0.56456,     0.56557,     0.56657,     0.56757,     0.56857,     0.56957,     0.57057,     0.57157,     0.57257,     0.57357,     0.57457,     0.57558,\n",
       "           0.57658,     0.57758,     0.57858,     0.57958,     0.58058,     0.58158,     0.58258,     0.58358,     0.58458,     0.58559,     0.58659,     0.58759,     0.58859,     0.58959,     0.59059,     0.59159,     0.59259,     0.59359,     0.59459,      0.5956,      0.5966,      0.5976,      0.5986,      0.5996,\n",
       "            0.6006,      0.6016,      0.6026,      0.6036,      0.6046,     0.60561,     0.60661,     0.60761,     0.60861,     0.60961,     0.61061,     0.61161,     0.61261,     0.61361,     0.61461,     0.61562,     0.61662,     0.61762,     0.61862,     0.61962,     0.62062,     0.62162,     0.62262,     0.62362,\n",
       "           0.62462,     0.62563,     0.62663,     0.62763,     0.62863,     0.62963,     0.63063,     0.63163,     0.63263,     0.63363,     0.63463,     0.63564,     0.63664,     0.63764,     0.63864,     0.63964,     0.64064,     0.64164,     0.64264,     0.64364,     0.64464,     0.64565,     0.64665,     0.64765,\n",
       "           0.64865,     0.64965,     0.65065,     0.65165,     0.65265,     0.65365,     0.65465,     0.65566,     0.65666,     0.65766,     0.65866,     0.65966,     0.66066,     0.66166,     0.66266,     0.66366,     0.66466,     0.66567,     0.66667,     0.66767,     0.66867,     0.66967,     0.67067,     0.67167,\n",
       "           0.67267,     0.67367,     0.67467,     0.67568,     0.67668,     0.67768,     0.67868,     0.67968,     0.68068,     0.68168,     0.68268,     0.68368,     0.68468,     0.68569,     0.68669,     0.68769,     0.68869,     0.68969,     0.69069,     0.69169,     0.69269,     0.69369,     0.69469,      0.6957,\n",
       "            0.6967,      0.6977,      0.6987,      0.6997,      0.7007,      0.7017,      0.7027,      0.7037,      0.7047,     0.70571,     0.70671,     0.70771,     0.70871,     0.70971,     0.71071,     0.71171,     0.71271,     0.71371,     0.71471,     0.71572,     0.71672,     0.71772,     0.71872,     0.71972,\n",
       "           0.72072,     0.72172,     0.72272,     0.72372,     0.72472,     0.72573,     0.72673,     0.72773,     0.72873,     0.72973,     0.73073,     0.73173,     0.73273,     0.73373,     0.73473,     0.73574,     0.73674,     0.73774,     0.73874,     0.73974,     0.74074,     0.74174,     0.74274,     0.74374,\n",
       "           0.74474,     0.74575,     0.74675,     0.74775,     0.74875,     0.74975,     0.75075,     0.75175,     0.75275,     0.75375,     0.75475,     0.75576,     0.75676,     0.75776,     0.75876,     0.75976,     0.76076,     0.76176,     0.76276,     0.76376,     0.76476,     0.76577,     0.76677,     0.76777,\n",
       "           0.76877,     0.76977,     0.77077,     0.77177,     0.77277,     0.77377,     0.77477,     0.77578,     0.77678,     0.77778,     0.77878,     0.77978,     0.78078,     0.78178,     0.78278,     0.78378,     0.78478,     0.78579,     0.78679,     0.78779,     0.78879,     0.78979,     0.79079,     0.79179,\n",
       "           0.79279,     0.79379,     0.79479,      0.7958,      0.7968,      0.7978,      0.7988,      0.7998,      0.8008,      0.8018,      0.8028,      0.8038,      0.8048,     0.80581,     0.80681,     0.80781,     0.80881,     0.80981,     0.81081,     0.81181,     0.81281,     0.81381,     0.81481,     0.81582,\n",
       "           0.81682,     0.81782,     0.81882,     0.81982,     0.82082,     0.82182,     0.82282,     0.82382,     0.82482,     0.82583,     0.82683,     0.82783,     0.82883,     0.82983,     0.83083,     0.83183,     0.83283,     0.83383,     0.83483,     0.83584,     0.83684,     0.83784,     0.83884,     0.83984,\n",
       "           0.84084,     0.84184,     0.84284,     0.84384,     0.84484,     0.84585,     0.84685,     0.84785,     0.84885,     0.84985,     0.85085,     0.85185,     0.85285,     0.85385,     0.85485,     0.85586,     0.85686,     0.85786,     0.85886,     0.85986,     0.86086,     0.86186,     0.86286,     0.86386,\n",
       "           0.86486,     0.86587,     0.86687,     0.86787,     0.86887,     0.86987,     0.87087,     0.87187,     0.87287,     0.87387,     0.87487,     0.87588,     0.87688,     0.87788,     0.87888,     0.87988,     0.88088,     0.88188,     0.88288,     0.88388,     0.88488,     0.88589,     0.88689,     0.88789,\n",
       "           0.88889,     0.88989,     0.89089,     0.89189,     0.89289,     0.89389,     0.89489,      0.8959,      0.8969,      0.8979,      0.8989,      0.8999,      0.9009,      0.9019,      0.9029,      0.9039,      0.9049,     0.90591,     0.90691,     0.90791,     0.90891,     0.90991,     0.91091,     0.91191,\n",
       "           0.91291,     0.91391,     0.91491,     0.91592,     0.91692,     0.91792,     0.91892,     0.91992,     0.92092,     0.92192,     0.92292,     0.92392,     0.92492,     0.92593,     0.92693,     0.92793,     0.92893,     0.92993,     0.93093,     0.93193,     0.93293,     0.93393,     0.93493,     0.93594,\n",
       "           0.93694,     0.93794,     0.93894,     0.93994,     0.94094,     0.94194,     0.94294,     0.94394,     0.94494,     0.94595,     0.94695,     0.94795,     0.94895,     0.94995,     0.95095,     0.95195,     0.95295,     0.95395,     0.95495,     0.95596,     0.95696,     0.95796,     0.95896,     0.95996,\n",
       "           0.96096,     0.96196,     0.96296,     0.96396,     0.96496,     0.96597,     0.96697,     0.96797,     0.96897,     0.96997,     0.97097,     0.97197,     0.97297,     0.97397,     0.97497,     0.97598,     0.97698,     0.97798,     0.97898,     0.97998,     0.98098,     0.98198,     0.98298,     0.98398,\n",
       "           0.98498,     0.98599,     0.98699,     0.98799,     0.98899,     0.98999,     0.99099,     0.99199,     0.99299,     0.99399,     0.99499,       0.996,       0.997,       0.998,       0.999,           1]), array([[    0.16393,     0.16393,     0.25235,     0.31921,     0.35983,     0.39446,     0.42188,      0.4402,      0.4589,     0.47622,     0.49492,     0.50849,     0.54204,     0.56637,     0.58594,     0.60249,     0.61004,     0.61814,     0.62924,     0.64242,     0.64573,     0.64965,     0.66007,\n",
       "            0.66618,     0.67349,     0.67579,     0.67932,     0.68052,     0.68288,     0.68601,     0.69137,     0.69361,     0.69575,     0.69898,     0.71163,     0.71524,      0.7252,     0.72806,     0.73038,     0.73635,     0.73751,     0.74072,     0.74264,     0.74444,     0.74619,     0.74584,\n",
       "             0.7476,     0.74833,     0.74931,     0.75639,     0.75704,     0.75846,     0.75948,     0.76062,     0.76359,     0.76569,     0.76834,     0.76959,      0.7721,     0.77423,      0.7747,     0.77583,     0.77739,     0.77773,     0.77814,     0.77907,     0.78101,     0.78239,     0.78605,\n",
       "            0.78897,     0.78947,     0.78998,     0.79117,      0.7925,     0.79458,     0.79639,      0.8046,     0.80677,     0.80718,     0.80814,     0.80854,     0.80927,     0.81012,     0.81057,     0.81175,     0.81356,     0.81394,     0.81581,     0.81782,     0.81873,     0.82051,     0.82071,\n",
       "             0.8209,      0.8211,     0.82196,     0.82237,     0.82319,     0.82256,      0.8229,     0.82371,     0.82494,     0.82534,     0.82568,     0.82629,     0.82868,     0.83493,     0.83566,     0.83689,      0.8387,     0.83964,     0.83983,     0.84001,     0.84019,     0.84037,     0.84052,\n",
       "            0.84067,     0.84081,     0.84096,     0.84133,     0.84259,     0.84282,     0.84304,     0.84327,     0.84401,     0.84442,      0.8448,     0.84524,     0.84561,     0.84583,     0.84605,     0.84626,     0.84697,     0.84712,     0.84721,      0.8473,      0.8474,     0.84749,     0.84758,\n",
       "            0.84767,     0.84776,     0.84752,     0.84716,     0.84679,     0.84771,     0.84791,     0.84812,     0.84904,     0.84955,     0.85007,     0.84967,     0.85034,     0.85047,     0.85059,     0.85072,     0.85084,     0.85097,     0.85143,     0.85414,     0.85553,     0.85636,     0.85773,\n",
       "            0.85888,     0.85937,     0.86792,     0.86901,     0.86974,     0.87044,     0.87069,     0.87093,     0.87117,     0.87286,     0.87298,      0.8731,     0.87321,     0.87333,     0.87345,     0.87357,     0.87388,     0.87435,     0.87466,     0.87493,      0.8752,     0.87549,     0.87607,\n",
       "             0.8764,     0.87679,     0.87726,     0.87764,     0.87797,     0.87908,     0.87928,     0.87948,     0.87967,     0.87996,     0.88073,     0.88086,     0.88099,     0.88112,     0.88125,     0.88138,     0.88247,     0.88313,     0.88345,     0.88377,     0.88457,     0.89279,     0.89885,\n",
       "            0.89991,     0.90024,     0.90057,     0.90166,     0.90357,     0.90601,     0.90672,     0.90684,     0.90696,     0.90708,      0.9072,     0.90732,     0.90744,     0.90754,     0.90759,     0.90764,     0.90769,     0.90774,     0.90778,     0.90783,     0.90788,     0.90793,     0.90798,\n",
       "            0.90803,     0.90807,     0.90812,     0.90817,     0.90822,     0.90827,     0.90832,     0.90836,     0.90859,     0.90918,     0.90941,     0.90959,     0.90976,     0.90994,     0.91011,     0.90995,     0.90975,     0.90954,     0.90933,     0.90912,      0.9092,     0.90932,     0.90945,\n",
       "            0.90957,      0.9097,     0.90983,     0.90995,     0.91043,     0.91156,     0.91192,     0.91215,     0.91237,     0.91265,     0.91353,     0.91373,     0.91393,     0.91413,     0.91433,     0.91447,     0.91461,     0.91475,     0.91489,     0.91503,     0.91516,     0.91536,     0.91558,\n",
       "            0.91581,     0.91603,     0.91689,     0.91699,     0.91715,     0.91732,     0.91748,     0.91765,     0.91781,     0.91797,     0.91813,     0.91829,     0.91844,      0.9186,     0.91871,     0.91882,     0.91894,     0.91905,     0.91916,     0.91927,     0.91938,     0.91949,     0.91965,\n",
       "            0.91982,     0.91998,     0.92015,     0.92032,     0.92062,     0.92103,     0.92116,     0.92083,      0.9205,     0.92029,     0.92055,     0.92081,     0.92107,     0.92122,     0.92134,     0.92146,     0.92158,      0.9217,     0.92182,     0.92194,      0.9221,     0.92244,     0.92277,\n",
       "             0.9236,     0.92366,     0.92346,     0.92325,     0.92305,     0.92284,      0.9225,     0.92211,     0.92173,      0.9221,     0.92247,     0.92293,     0.92346,     0.92465,      0.9249,     0.92515,     0.92541,     0.92575,     0.92609,      0.9263,     0.92637,     0.92645,     0.92653,\n",
       "            0.92661,     0.92669,     0.92677,     0.92685,     0.92693,     0.92701,     0.92709,     0.92717,     0.92723,     0.92729,     0.92735,     0.92741,     0.92747,     0.92753,     0.92759,     0.92765,     0.92771,     0.92777,     0.92783,     0.92789,     0.92795,     0.92801,     0.92807,\n",
       "            0.92821,     0.92836,      0.9285,     0.92865,     0.92879,     0.92894,     0.92835,     0.92852,      0.9292,     0.92974,     0.92985,     0.92993,     0.93001,      0.9301,     0.93018,     0.93026,     0.93034,     0.93042,     0.93051,     0.93059,     0.93067,     0.93094,     0.93128,\n",
       "            0.93163,     0.93211,     0.93262,     0.93346,      0.9334,     0.93333,     0.93327,     0.93321,     0.93314,     0.93308,     0.93302,     0.93296,     0.93289,     0.93283,     0.93277,      0.9327,     0.93264,     0.93258,     0.93251,     0.93245,     0.93342,     0.93374,     0.93406,\n",
       "            0.93429,     0.93439,     0.93448,     0.93457,     0.93466,     0.93475,     0.93484,     0.93493,     0.93502,     0.93511,     0.93519,     0.93516,     0.93512,     0.93509,     0.93505,     0.93502,     0.93498,     0.93495,     0.93491,     0.93488,     0.93485,     0.93481,     0.93478,\n",
       "            0.93474,     0.93471,     0.93467,     0.93464,      0.9346,     0.93457,     0.93453,      0.9345,     0.93446,     0.93443,      0.9344,     0.93436,     0.93433,     0.93429,     0.93426,     0.93422,     0.93419,     0.93415,     0.93393,     0.93338,     0.93317,     0.93341,     0.93365,\n",
       "            0.93389,      0.9345,     0.93482,      0.9346,     0.93438,     0.93416,     0.93394,     0.93243,     0.93188,     0.93146,      0.9311,     0.93073,     0.93053,     0.93037,     0.93021,     0.93006,      0.9299,     0.92974,     0.92958,     0.92931,     0.92904,     0.92876,      0.9285,\n",
       "            0.92854,     0.92857,      0.9286,     0.92864,     0.92867,     0.92871,     0.92874,     0.92878,     0.92881,     0.92884,     0.92888,     0.92891,     0.92895,     0.92898,     0.92902,     0.92905,     0.92908,     0.92912,     0.92915,     0.92919,     0.92922,     0.92926,     0.92929,\n",
       "            0.92932,     0.92936,     0.92939,     0.92943,     0.92861,     0.92793,     0.92737,     0.92753,     0.92786,     0.92818,      0.9281,     0.92798,     0.92785,     0.92773,     0.92761,     0.92748,     0.92736,     0.92724,       0.927,     0.92602,     0.92588,     0.92574,      0.9256,\n",
       "            0.92546,     0.92532,     0.92518,     0.92504,     0.92476,     0.92421,     0.92383,     0.92374,     0.92365,     0.92357,     0.92348,     0.92339,     0.92331,     0.92322,     0.92314,     0.92305,     0.92296,     0.92288,     0.92279,      0.9225,     0.92213,     0.92175,     0.92185,\n",
       "            0.92209,     0.92233,     0.92258,     0.92246,     0.92228,     0.92211,     0.92194,     0.92176,     0.92159,     0.92121,     0.92065,     0.92034,     0.92021,     0.92009,     0.91996,     0.91983,     0.91971,     0.91958,     0.91946,     0.91933,     0.91886,     0.91829,     0.91724,\n",
       "            0.91682,     0.91556,     0.91527,     0.91499,      0.9147,     0.91445,     0.91419,     0.91394,     0.91368,     0.91289,     0.91228,       0.912,     0.91171,     0.91142,     0.91051,     0.91094,     0.91141,     0.91173,     0.91205,     0.91188,     0.91163,     0.91137,     0.91111,\n",
       "            0.90958,       0.909,      0.9086,     0.90836,     0.90813,      0.9079,     0.90767,     0.90722,     0.90664,      0.9063,     0.90609,     0.90588,     0.90567,     0.90545,     0.90526,     0.90513,     0.90499,     0.90485,     0.90471,     0.90458,     0.90444,      0.9043,     0.90416,\n",
       "            0.90377,     0.90338,     0.90298,     0.90251,     0.90204,     0.90162,     0.90123,     0.90084,     0.89873,     0.89837,     0.89828,      0.8982,     0.89811,     0.89803,     0.89794,     0.89786,     0.89777,     0.89769,     0.89761,     0.89752,     0.89744,     0.89735,     0.89591,\n",
       "            0.89525,     0.89573,     0.89608,     0.89636,     0.89663,     0.89656,     0.89562,     0.89541,     0.89519,     0.89497,     0.89476,     0.89454,     0.89398,     0.89338,     0.89185,     0.89151,     0.89117,     0.89037,     0.88939,     0.88864,     0.88852,      0.8884,     0.88828,\n",
       "            0.88816,     0.88804,     0.88792,      0.8878,     0.88768,     0.88755,      0.8872,      0.8864,     0.88576,     0.88516,     0.88339,     0.88098,     0.88011,     0.87962,     0.87914,     0.87893,     0.87873,     0.87852,     0.87832,     0.87811,     0.87793,     0.87783,     0.87774,\n",
       "            0.87764,     0.87755,     0.87745,     0.87736,     0.87726,     0.87717,     0.87707,     0.87698,     0.87688,     0.87679,     0.87727,     0.87522,     0.87407,     0.87432,     0.87456,      0.8748,      0.8748,     0.87373,     0.87342,      0.8731,     0.87279,     0.87243,     0.87193,\n",
       "            0.87143,     0.87109,     0.87077,     0.87046,     0.87015,     0.86989,     0.86964,     0.86939,     0.86914,     0.86889,     0.86866,     0.86843,      0.8682,     0.86798,     0.86775,     0.86632,     0.86568,       0.865,     0.86415,     0.86248,     0.86163,     0.86214,     0.86177,\n",
       "            0.86141,      0.8601,     0.85955,     0.85913,     0.85869,     0.85784,     0.85772,     0.85821,     0.85788,     0.85585,     0.85556,     0.85527,     0.85498,      0.8547,     0.85145,     0.85064,     0.84999,     0.84912,     0.84815,     0.84778,      0.8474,     0.84703,     0.84659,\n",
       "            0.84616,     0.84568,     0.84246,     0.83927,     0.83897,     0.83868,     0.83838,     0.83808,     0.83739,     0.83655,     0.83588,     0.83128,     0.83061,     0.82877,     0.82859,     0.82841,     0.82823,     0.82805,     0.82787,     0.82769,     0.82751,     0.82617,     0.82526,\n",
       "            0.82201,     0.82046,     0.81978,     0.81924,     0.81878,     0.81832,     0.81669,       0.816,      0.8139,     0.81297,     0.81223,     0.81153,     0.81025,     0.80885,     0.80927,     0.80903,     0.80762,     0.80622,     0.80409,     0.79718,     0.79622,     0.79401,     0.79329,\n",
       "             0.7898,     0.78848,       0.788,     0.78752,     0.78633,     0.78435,     0.78362,     0.78281,     0.78184,     0.77829,     0.77682,     0.77328,     0.77095,     0.76946,     0.76723,     0.75983,     0.75831,      0.7562,     0.75475,     0.75414,     0.75352,      0.7523,     0.74864,\n",
       "            0.74787,     0.74502,     0.74231,     0.73875,     0.73728,     0.73605,     0.73235,     0.72665,     0.72505,     0.72379,     0.72298,     0.72217,     0.72137,     0.71926,     0.71601,     0.71401,     0.71266,     0.70932,     0.70849,     0.70274,     0.69988,     0.69877,     0.69432,\n",
       "             0.6906,      0.6889,     0.68601,     0.68466,     0.68228,     0.67978,     0.67863,     0.67748,      0.6752,     0.66659,     0.66275,     0.66187,      0.6596,     0.65761,     0.65398,     0.65308,     0.64859,     0.64688,     0.64598,     0.64307,     0.64114,     0.63389,       0.629,\n",
       "            0.62281,     0.61886,      0.6126,     0.61133,     0.60945,     0.60566,     0.60437,     0.60274,     0.59991,     0.59861,     0.59384,     0.58606,     0.58146,     0.57811,     0.57213,     0.56808,     0.56555,     0.55591,     0.54771,     0.54526,     0.54137,     0.53341,     0.52873,\n",
       "            0.51725,      0.5158,     0.51364,     0.50392,     0.49834,     0.48522,      0.4805,     0.47412,     0.47319,     0.47227,     0.46814,      0.4527,     0.44562,     0.43708,     0.43587,     0.43115,     0.42387,     0.41379,     0.40395,     0.39523,     0.38655,     0.38139,     0.36979,\n",
       "            0.35985,     0.34743,     0.33421,      0.3285,     0.32024,     0.30913,     0.29788,     0.28846,     0.28065,     0.27477,     0.26597,     0.25648,     0.25052,     0.23601,     0.22223,     0.22014,     0.21249,     0.20622,     0.19991,     0.19513,     0.18556,     0.18215,     0.16914,\n",
       "            0.13938,     0.12235,       0.105,     0.09498,     0.08786,    0.080686,    0.077035,    0.072388,    0.065007,    0.062059,      0.0602,    0.053555,    0.049336,    0.038444,     0.02705,    0.021111,    0.017229,    0.014883,    0.014016,    0.013148,     0.01228,    0.010568,   0.0068629,\n",
       "          0.0055519,   0.0042391,           0,           0,           0,           0,           0,           0,           0,           0,           0,           0,           0,           0,           0,           0,           0,           0,           0,           0,           0,           0,           0,\n",
       "                  0,           0,           0,           0,           0,           0,           0,           0,           0,           0,           0]]), 'Confidence', 'F1'], [array([          0,    0.001001,    0.002002,    0.003003,    0.004004,    0.005005,    0.006006,    0.007007,    0.008008,    0.009009,     0.01001,    0.011011,    0.012012,    0.013013,    0.014014,    0.015015,    0.016016,    0.017017,    0.018018,    0.019019,     0.02002,    0.021021,    0.022022,    0.023023,\n",
       "          0.024024,    0.025025,    0.026026,    0.027027,    0.028028,    0.029029,     0.03003,    0.031031,    0.032032,    0.033033,    0.034034,    0.035035,    0.036036,    0.037037,    0.038038,    0.039039,     0.04004,    0.041041,    0.042042,    0.043043,    0.044044,    0.045045,    0.046046,    0.047047,\n",
       "          0.048048,    0.049049,     0.05005,    0.051051,    0.052052,    0.053053,    0.054054,    0.055055,    0.056056,    0.057057,    0.058058,    0.059059,     0.06006,    0.061061,    0.062062,    0.063063,    0.064064,    0.065065,    0.066066,    0.067067,    0.068068,    0.069069,     0.07007,    0.071071,\n",
       "          0.072072,    0.073073,    0.074074,    0.075075,    0.076076,    0.077077,    0.078078,    0.079079,     0.08008,    0.081081,    0.082082,    0.083083,    0.084084,    0.085085,    0.086086,    0.087087,    0.088088,    0.089089,     0.09009,    0.091091,    0.092092,    0.093093,    0.094094,    0.095095,\n",
       "          0.096096,    0.097097,    0.098098,    0.099099,      0.1001,      0.1011,      0.1021,      0.1031,      0.1041,     0.10511,     0.10611,     0.10711,     0.10811,     0.10911,     0.11011,     0.11111,     0.11211,     0.11311,     0.11411,     0.11512,     0.11612,     0.11712,     0.11812,     0.11912,\n",
       "           0.12012,     0.12112,     0.12212,     0.12312,     0.12412,     0.12513,     0.12613,     0.12713,     0.12813,     0.12913,     0.13013,     0.13113,     0.13213,     0.13313,     0.13413,     0.13514,     0.13614,     0.13714,     0.13814,     0.13914,     0.14014,     0.14114,     0.14214,     0.14314,\n",
       "           0.14414,     0.14515,     0.14615,     0.14715,     0.14815,     0.14915,     0.15015,     0.15115,     0.15215,     0.15315,     0.15415,     0.15516,     0.15616,     0.15716,     0.15816,     0.15916,     0.16016,     0.16116,     0.16216,     0.16316,     0.16416,     0.16517,     0.16617,     0.16717,\n",
       "           0.16817,     0.16917,     0.17017,     0.17117,     0.17217,     0.17317,     0.17417,     0.17518,     0.17618,     0.17718,     0.17818,     0.17918,     0.18018,     0.18118,     0.18218,     0.18318,     0.18418,     0.18519,     0.18619,     0.18719,     0.18819,     0.18919,     0.19019,     0.19119,\n",
       "           0.19219,     0.19319,     0.19419,      0.1952,      0.1962,      0.1972,      0.1982,      0.1992,      0.2002,      0.2012,      0.2022,      0.2032,      0.2042,     0.20521,     0.20621,     0.20721,     0.20821,     0.20921,     0.21021,     0.21121,     0.21221,     0.21321,     0.21421,     0.21522,\n",
       "           0.21622,     0.21722,     0.21822,     0.21922,     0.22022,     0.22122,     0.22222,     0.22322,     0.22422,     0.22523,     0.22623,     0.22723,     0.22823,     0.22923,     0.23023,     0.23123,     0.23223,     0.23323,     0.23423,     0.23524,     0.23624,     0.23724,     0.23824,     0.23924,\n",
       "           0.24024,     0.24124,     0.24224,     0.24324,     0.24424,     0.24525,     0.24625,     0.24725,     0.24825,     0.24925,     0.25025,     0.25125,     0.25225,     0.25325,     0.25425,     0.25526,     0.25626,     0.25726,     0.25826,     0.25926,     0.26026,     0.26126,     0.26226,     0.26326,\n",
       "           0.26426,     0.26527,     0.26627,     0.26727,     0.26827,     0.26927,     0.27027,     0.27127,     0.27227,     0.27327,     0.27427,     0.27528,     0.27628,     0.27728,     0.27828,     0.27928,     0.28028,     0.28128,     0.28228,     0.28328,     0.28428,     0.28529,     0.28629,     0.28729,\n",
       "           0.28829,     0.28929,     0.29029,     0.29129,     0.29229,     0.29329,     0.29429,      0.2953,      0.2963,      0.2973,      0.2983,      0.2993,      0.3003,      0.3013,      0.3023,      0.3033,      0.3043,     0.30531,     0.30631,     0.30731,     0.30831,     0.30931,     0.31031,     0.31131,\n",
       "           0.31231,     0.31331,     0.31431,     0.31532,     0.31632,     0.31732,     0.31832,     0.31932,     0.32032,     0.32132,     0.32232,     0.32332,     0.32432,     0.32533,     0.32633,     0.32733,     0.32833,     0.32933,     0.33033,     0.33133,     0.33233,     0.33333,     0.33433,     0.33534,\n",
       "           0.33634,     0.33734,     0.33834,     0.33934,     0.34034,     0.34134,     0.34234,     0.34334,     0.34434,     0.34535,     0.34635,     0.34735,     0.34835,     0.34935,     0.35035,     0.35135,     0.35235,     0.35335,     0.35435,     0.35536,     0.35636,     0.35736,     0.35836,     0.35936,\n",
       "           0.36036,     0.36136,     0.36236,     0.36336,     0.36436,     0.36537,     0.36637,     0.36737,     0.36837,     0.36937,     0.37037,     0.37137,     0.37237,     0.37337,     0.37437,     0.37538,     0.37638,     0.37738,     0.37838,     0.37938,     0.38038,     0.38138,     0.38238,     0.38338,\n",
       "           0.38438,     0.38539,     0.38639,     0.38739,     0.38839,     0.38939,     0.39039,     0.39139,     0.39239,     0.39339,     0.39439,      0.3954,      0.3964,      0.3974,      0.3984,      0.3994,      0.4004,      0.4014,      0.4024,      0.4034,      0.4044,     0.40541,     0.40641,     0.40741,\n",
       "           0.40841,     0.40941,     0.41041,     0.41141,     0.41241,     0.41341,     0.41441,     0.41542,     0.41642,     0.41742,     0.41842,     0.41942,     0.42042,     0.42142,     0.42242,     0.42342,     0.42442,     0.42543,     0.42643,     0.42743,     0.42843,     0.42943,     0.43043,     0.43143,\n",
       "           0.43243,     0.43343,     0.43443,     0.43544,     0.43644,     0.43744,     0.43844,     0.43944,     0.44044,     0.44144,     0.44244,     0.44344,     0.44444,     0.44545,     0.44645,     0.44745,     0.44845,     0.44945,     0.45045,     0.45145,     0.45245,     0.45345,     0.45445,     0.45546,\n",
       "           0.45646,     0.45746,     0.45846,     0.45946,     0.46046,     0.46146,     0.46246,     0.46346,     0.46446,     0.46547,     0.46647,     0.46747,     0.46847,     0.46947,     0.47047,     0.47147,     0.47247,     0.47347,     0.47447,     0.47548,     0.47648,     0.47748,     0.47848,     0.47948,\n",
       "           0.48048,     0.48148,     0.48248,     0.48348,     0.48448,     0.48549,     0.48649,     0.48749,     0.48849,     0.48949,     0.49049,     0.49149,     0.49249,     0.49349,     0.49449,      0.4955,      0.4965,      0.4975,      0.4985,      0.4995,      0.5005,      0.5015,      0.5025,      0.5035,\n",
       "            0.5045,     0.50551,     0.50651,     0.50751,     0.50851,     0.50951,     0.51051,     0.51151,     0.51251,     0.51351,     0.51451,     0.51552,     0.51652,     0.51752,     0.51852,     0.51952,     0.52052,     0.52152,     0.52252,     0.52352,     0.52452,     0.52553,     0.52653,     0.52753,\n",
       "           0.52853,     0.52953,     0.53053,     0.53153,     0.53253,     0.53353,     0.53453,     0.53554,     0.53654,     0.53754,     0.53854,     0.53954,     0.54054,     0.54154,     0.54254,     0.54354,     0.54454,     0.54555,     0.54655,     0.54755,     0.54855,     0.54955,     0.55055,     0.55155,\n",
       "           0.55255,     0.55355,     0.55455,     0.55556,     0.55656,     0.55756,     0.55856,     0.55956,     0.56056,     0.56156,     0.56256,     0.56356,     0.56456,     0.56557,     0.56657,     0.56757,     0.56857,     0.56957,     0.57057,     0.57157,     0.57257,     0.57357,     0.57457,     0.57558,\n",
       "           0.57658,     0.57758,     0.57858,     0.57958,     0.58058,     0.58158,     0.58258,     0.58358,     0.58458,     0.58559,     0.58659,     0.58759,     0.58859,     0.58959,     0.59059,     0.59159,     0.59259,     0.59359,     0.59459,      0.5956,      0.5966,      0.5976,      0.5986,      0.5996,\n",
       "            0.6006,      0.6016,      0.6026,      0.6036,      0.6046,     0.60561,     0.60661,     0.60761,     0.60861,     0.60961,     0.61061,     0.61161,     0.61261,     0.61361,     0.61461,     0.61562,     0.61662,     0.61762,     0.61862,     0.61962,     0.62062,     0.62162,     0.62262,     0.62362,\n",
       "           0.62462,     0.62563,     0.62663,     0.62763,     0.62863,     0.62963,     0.63063,     0.63163,     0.63263,     0.63363,     0.63463,     0.63564,     0.63664,     0.63764,     0.63864,     0.63964,     0.64064,     0.64164,     0.64264,     0.64364,     0.64464,     0.64565,     0.64665,     0.64765,\n",
       "           0.64865,     0.64965,     0.65065,     0.65165,     0.65265,     0.65365,     0.65465,     0.65566,     0.65666,     0.65766,     0.65866,     0.65966,     0.66066,     0.66166,     0.66266,     0.66366,     0.66466,     0.66567,     0.66667,     0.66767,     0.66867,     0.66967,     0.67067,     0.67167,\n",
       "           0.67267,     0.67367,     0.67467,     0.67568,     0.67668,     0.67768,     0.67868,     0.67968,     0.68068,     0.68168,     0.68268,     0.68368,     0.68468,     0.68569,     0.68669,     0.68769,     0.68869,     0.68969,     0.69069,     0.69169,     0.69269,     0.69369,     0.69469,      0.6957,\n",
       "            0.6967,      0.6977,      0.6987,      0.6997,      0.7007,      0.7017,      0.7027,      0.7037,      0.7047,     0.70571,     0.70671,     0.70771,     0.70871,     0.70971,     0.71071,     0.71171,     0.71271,     0.71371,     0.71471,     0.71572,     0.71672,     0.71772,     0.71872,     0.71972,\n",
       "           0.72072,     0.72172,     0.72272,     0.72372,     0.72472,     0.72573,     0.72673,     0.72773,     0.72873,     0.72973,     0.73073,     0.73173,     0.73273,     0.73373,     0.73473,     0.73574,     0.73674,     0.73774,     0.73874,     0.73974,     0.74074,     0.74174,     0.74274,     0.74374,\n",
       "           0.74474,     0.74575,     0.74675,     0.74775,     0.74875,     0.74975,     0.75075,     0.75175,     0.75275,     0.75375,     0.75475,     0.75576,     0.75676,     0.75776,     0.75876,     0.75976,     0.76076,     0.76176,     0.76276,     0.76376,     0.76476,     0.76577,     0.76677,     0.76777,\n",
       "           0.76877,     0.76977,     0.77077,     0.77177,     0.77277,     0.77377,     0.77477,     0.77578,     0.77678,     0.77778,     0.77878,     0.77978,     0.78078,     0.78178,     0.78278,     0.78378,     0.78478,     0.78579,     0.78679,     0.78779,     0.78879,     0.78979,     0.79079,     0.79179,\n",
       "           0.79279,     0.79379,     0.79479,      0.7958,      0.7968,      0.7978,      0.7988,      0.7998,      0.8008,      0.8018,      0.8028,      0.8038,      0.8048,     0.80581,     0.80681,     0.80781,     0.80881,     0.80981,     0.81081,     0.81181,     0.81281,     0.81381,     0.81481,     0.81582,\n",
       "           0.81682,     0.81782,     0.81882,     0.81982,     0.82082,     0.82182,     0.82282,     0.82382,     0.82482,     0.82583,     0.82683,     0.82783,     0.82883,     0.82983,     0.83083,     0.83183,     0.83283,     0.83383,     0.83483,     0.83584,     0.83684,     0.83784,     0.83884,     0.83984,\n",
       "           0.84084,     0.84184,     0.84284,     0.84384,     0.84484,     0.84585,     0.84685,     0.84785,     0.84885,     0.84985,     0.85085,     0.85185,     0.85285,     0.85385,     0.85485,     0.85586,     0.85686,     0.85786,     0.85886,     0.85986,     0.86086,     0.86186,     0.86286,     0.86386,\n",
       "           0.86486,     0.86587,     0.86687,     0.86787,     0.86887,     0.86987,     0.87087,     0.87187,     0.87287,     0.87387,     0.87487,     0.87588,     0.87688,     0.87788,     0.87888,     0.87988,     0.88088,     0.88188,     0.88288,     0.88388,     0.88488,     0.88589,     0.88689,     0.88789,\n",
       "           0.88889,     0.88989,     0.89089,     0.89189,     0.89289,     0.89389,     0.89489,      0.8959,      0.8969,      0.8979,      0.8989,      0.8999,      0.9009,      0.9019,      0.9029,      0.9039,      0.9049,     0.90591,     0.90691,     0.90791,     0.90891,     0.90991,     0.91091,     0.91191,\n",
       "           0.91291,     0.91391,     0.91491,     0.91592,     0.91692,     0.91792,     0.91892,     0.91992,     0.92092,     0.92192,     0.92292,     0.92392,     0.92492,     0.92593,     0.92693,     0.92793,     0.92893,     0.92993,     0.93093,     0.93193,     0.93293,     0.93393,     0.93493,     0.93594,\n",
       "           0.93694,     0.93794,     0.93894,     0.93994,     0.94094,     0.94194,     0.94294,     0.94394,     0.94494,     0.94595,     0.94695,     0.94795,     0.94895,     0.94995,     0.95095,     0.95195,     0.95295,     0.95395,     0.95495,     0.95596,     0.95696,     0.95796,     0.95896,     0.95996,\n",
       "           0.96096,     0.96196,     0.96296,     0.96396,     0.96496,     0.96597,     0.96697,     0.96797,     0.96897,     0.96997,     0.97097,     0.97197,     0.97297,     0.97397,     0.97497,     0.97598,     0.97698,     0.97798,     0.97898,     0.97998,     0.98098,     0.98198,     0.98298,     0.98398,\n",
       "           0.98498,     0.98599,     0.98699,     0.98799,     0.98899,     0.98999,     0.99099,     0.99199,     0.99299,     0.99399,     0.99499,       0.996,       0.997,       0.998,       0.999,           1]), array([[   0.089587,    0.089587,     0.14532,     0.19169,     0.22206,     0.24919,     0.27148,      0.2872,     0.30332,     0.31886,     0.33586,     0.34849,     0.38079,     0.40561,     0.42599,     0.44414,     0.45241,     0.46137,     0.47384,     0.48895,      0.4928,     0.49738,      0.5097,\n",
       "            0.51703,     0.52588,     0.52931,     0.53365,     0.53514,     0.53807,     0.54261,     0.55002,     0.55286,     0.55559,     0.55971,     0.57612,     0.58087,     0.59411,     0.59796,     0.60111,     0.60924,     0.61082,     0.61524,     0.61789,     0.62039,     0.62283,      0.6232,\n",
       "            0.62566,     0.62668,     0.62806,     0.63808,     0.63899,     0.64102,     0.64249,     0.64412,     0.64839,     0.65143,     0.65624,     0.65806,     0.66174,     0.66487,     0.66557,     0.66724,     0.66954,     0.67006,     0.67067,     0.67204,     0.67493,       0.677,      0.6825,\n",
       "            0.68691,     0.68768,     0.68845,     0.69025,     0.69229,     0.69547,     0.69824,     0.71096,     0.71436,       0.715,     0.71652,     0.71715,     0.71829,     0.71963,     0.72034,      0.7222,     0.72508,     0.72568,     0.72866,     0.73188,     0.73334,      0.7362,     0.73651,\n",
       "            0.73683,     0.73714,     0.73853,     0.73919,     0.74052,     0.74074,     0.74129,      0.7426,      0.7446,     0.74526,      0.7458,     0.74681,     0.75071,     0.76104,     0.76226,      0.7643,     0.76732,     0.76891,     0.76922,     0.76952,     0.76983,     0.77013,     0.77038,\n",
       "            0.77063,     0.77087,     0.77112,     0.77174,     0.77387,     0.77425,     0.77463,     0.77501,     0.77627,     0.77695,      0.7776,     0.77834,     0.77897,     0.77934,     0.77971,     0.78009,     0.78128,     0.78154,      0.7817,     0.78186,     0.78201,     0.78217,     0.78233,\n",
       "            0.78248,     0.78264,     0.78259,     0.78246,     0.78233,     0.78393,     0.78429,     0.78464,     0.78621,     0.78709,     0.78798,      0.7887,     0.78987,     0.79008,      0.7903,     0.79051,     0.79073,     0.79094,     0.79174,     0.79644,     0.79887,     0.80031,      0.8027,\n",
       "            0.80472,     0.80558,     0.82074,      0.8227,       0.824,     0.82527,     0.82571,     0.82614,     0.82658,     0.82962,     0.82983,     0.83005,     0.83027,     0.83048,      0.8307,     0.83091,     0.83147,     0.83232,     0.83288,     0.83337,     0.83387,     0.83598,     0.83704,\n",
       "            0.83765,     0.83835,     0.83921,     0.83991,     0.84052,     0.84256,     0.84292,     0.84328,     0.84364,     0.84416,     0.84558,     0.84583,     0.84607,     0.84631,     0.84655,     0.84679,     0.84879,     0.85002,     0.85061,      0.8512,     0.85269,     0.86811,     0.87965,\n",
       "            0.88167,     0.88231,     0.88295,     0.88504,     0.88873,     0.89346,     0.89484,     0.89508,     0.89531,     0.89554,     0.89578,     0.89601,     0.89625,     0.89645,     0.89654,     0.89663,     0.89673,     0.89682,     0.89692,     0.89701,     0.89711,      0.8972,     0.89729,\n",
       "            0.89739,     0.89748,     0.89758,     0.89767,     0.89777,     0.89786,     0.89795,     0.89805,     0.89849,     0.89965,      0.9001,     0.90044,     0.90079,     0.90113,     0.90147,     0.90148,     0.90145,     0.90141,     0.90137,     0.90133,     0.90154,     0.90179,     0.90203,\n",
       "            0.90228,     0.90253,     0.90277,     0.90302,     0.90396,     0.90619,     0.90691,     0.90736,      0.9078,     0.90835,     0.91009,     0.91049,     0.91089,     0.91128,     0.91168,     0.91197,     0.91224,     0.91252,      0.9128,     0.91307,     0.91335,     0.91373,     0.91418,\n",
       "            0.91463,     0.91508,     0.91861,     0.91892,     0.91926,     0.91959,     0.91992,     0.92025,     0.92058,      0.9209,     0.92122,     0.92154,     0.92185,     0.92217,      0.9224,     0.92262,     0.92285,     0.92307,     0.92329,     0.92352,     0.92374,     0.92396,     0.92429,\n",
       "            0.92463,     0.92496,      0.9253,     0.92564,     0.92625,     0.92708,     0.92758,     0.92753,     0.92749,     0.92756,     0.92809,     0.92863,     0.92916,     0.92946,     0.92971,     0.92995,     0.93019,     0.93043,     0.93067,     0.93092,     0.93126,     0.93194,     0.93263,\n",
       "            0.93431,     0.93476,     0.93474,     0.93471,     0.93469,     0.93466,     0.93462,     0.93457,     0.93453,     0.93529,     0.93605,       0.937,      0.9381,     0.94056,     0.94108,     0.94159,     0.94214,     0.94285,     0.94355,     0.94397,     0.94414,      0.9443,     0.94447,\n",
       "            0.94464,      0.9448,     0.94497,     0.94513,      0.9453,     0.94546,     0.94563,     0.94579,     0.94592,     0.94604,     0.94617,     0.94629,     0.94642,     0.94655,     0.94667,      0.9468,     0.94692,     0.94705,     0.94717,      0.9473,     0.94743,     0.94755,     0.94768,\n",
       "            0.94797,     0.94827,     0.94857,     0.94887,     0.94917,     0.94947,     0.94953,     0.95071,     0.95214,     0.95327,     0.95351,     0.95368,     0.95385,     0.95403,      0.9542,     0.95437,     0.95454,     0.95472,     0.95489,     0.95506,     0.95524,      0.9558,     0.95653,\n",
       "            0.95726,     0.95827,     0.95935,     0.96114,     0.96114,     0.96114,     0.96113,     0.96113,     0.96112,     0.96112,     0.96111,     0.96111,      0.9611,      0.9611,     0.96109,     0.96109,     0.96108,     0.96108,     0.96107,     0.96107,     0.96323,      0.9639,     0.96458,\n",
       "            0.96509,     0.96528,     0.96548,     0.96567,     0.96587,     0.96606,     0.96625,     0.96645,     0.96664,     0.96684,     0.96701,     0.96701,     0.96701,       0.967,       0.967,       0.967,       0.967,     0.96699,     0.96699,     0.96699,     0.96699,     0.96699,     0.96698,\n",
       "            0.96698,     0.96698,     0.96698,     0.96697,     0.96697,     0.96697,     0.96697,     0.96697,     0.96696,     0.96696,     0.96696,     0.96696,     0.96695,     0.96695,     0.96695,     0.96695,     0.96695,     0.96694,     0.96693,     0.96689,     0.96709,     0.96761,     0.96812,\n",
       "            0.96863,     0.96996,     0.97089,     0.97087,     0.97086,     0.97085,     0.97084,     0.97075,     0.97072,      0.9707,     0.97068,     0.97065,     0.97064,     0.97063,     0.97062,     0.97062,     0.97061,      0.9706,     0.97059,     0.97057,     0.97056,     0.97054,     0.97053,\n",
       "            0.97061,     0.97068,     0.97076,     0.97083,     0.97091,     0.97098,     0.97106,     0.97113,     0.97121,     0.97128,     0.97136,     0.97143,     0.97151,     0.97158,     0.97166,     0.97173,     0.97181,     0.97188,     0.97196,     0.97203,      0.9721,     0.97218,     0.97225,\n",
       "            0.97233,      0.9724,     0.97248,     0.97255,     0.97253,     0.97249,     0.97246,     0.97303,     0.97374,     0.97445,     0.97452,     0.97451,      0.9745,      0.9745,     0.97449,     0.97449,     0.97448,     0.97447,     0.97446,     0.97441,     0.97441,      0.9744,     0.97439,\n",
       "            0.97438,     0.97438,     0.97437,     0.97436,     0.97435,     0.97432,      0.9743,      0.9743,     0.97429,     0.97429,     0.97429,     0.97428,     0.97428,     0.97427,     0.97427,     0.97426,     0.97426,     0.97425,     0.97425,     0.97424,     0.97422,      0.9742,     0.97461,\n",
       "            0.97515,     0.97568,     0.97622,     0.97629,     0.97628,     0.97627,     0.97626,     0.97625,     0.97625,     0.97623,      0.9762,     0.97619,     0.97618,     0.97618,     0.97617,     0.97616,     0.97616,     0.97615,     0.97615,     0.97614,     0.97612,     0.97609,     0.97604,\n",
       "            0.97788,     0.97806,     0.97805,     0.97803,     0.97802,     0.97801,       0.978,     0.97799,     0.97798,     0.97794,     0.97792,      0.9779,     0.97789,     0.97788,     0.97784,     0.97949,     0.98057,     0.98132,     0.98207,     0.98217,     0.98217,     0.98216,     0.98215,\n",
       "            0.98209,     0.98207,     0.98206,     0.98205,     0.98204,     0.98203,     0.98203,     0.98201,     0.98199,     0.98198,     0.98197,     0.98196,     0.98195,     0.98195,     0.98194,     0.98193,     0.98193,     0.98193,     0.98192,     0.98192,     0.98191,     0.98191,      0.9819,\n",
       "            0.98189,     0.98187,     0.98186,     0.98184,     0.98182,     0.98181,     0.98179,     0.98178,      0.9817,     0.98169,     0.98169,     0.98168,     0.98168,     0.98168,     0.98168,     0.98167,     0.98167,     0.98167,     0.98166,     0.98166,     0.98166,     0.98165,      0.9816,\n",
       "            0.98227,     0.98343,     0.98427,     0.98493,      0.9856,      0.9861,     0.98608,     0.98607,     0.98607,     0.98606,     0.98605,     0.98605,     0.98603,     0.98601,     0.98597,     0.98596,     0.98595,     0.98593,      0.9859,     0.98588,     0.98588,     0.98588,     0.98587,\n",
       "            0.98587,     0.98586,     0.98586,     0.98586,     0.98585,     0.98585,     0.98584,     0.98582,      0.9858,     0.98578,     0.98573,     0.98566,     0.98564,     0.98563,     0.98561,     0.98561,      0.9856,     0.98559,     0.98559,     0.98558,     0.98558,     0.98557,     0.98557,\n",
       "            0.98557,     0.98557,     0.98556,     0.98556,     0.98556,     0.98555,     0.98555,     0.98555,     0.98555,     0.98554,     0.98791,     0.98786,     0.98788,     0.98849,     0.98911,     0.98973,     0.99024,     0.99022,     0.99021,     0.99021,      0.9902,     0.99019,     0.99018,\n",
       "            0.99017,     0.99017,     0.99016,     0.99015,     0.99015,     0.99014,     0.99014,     0.99013,     0.99013,     0.99012,     0.99012,     0.99011,     0.99011,      0.9901,      0.9901,     0.99007,     0.99006,     0.99005,     0.99003,     0.98999,     0.98998,     0.99246,     0.99245,\n",
       "            0.99245,     0.99243,     0.99242,     0.99241,      0.9924,     0.99239,      0.9931,      0.9944,     0.99491,     0.99488,     0.99488,     0.99488,     0.99488,     0.99487,     0.99484,     0.99483,     0.99482,     0.99481,      0.9948,      0.9948,      0.9948,     0.99479,     0.99479,\n",
       "            0.99478,     0.99478,     0.99474,     0.99471,     0.99471,      0.9947,      0.9947,      0.9947,     0.99469,     0.99468,     0.99467,     0.99462,     0.99461,     0.99459,     0.99459,     0.99459,     0.99459,     0.99459,     0.99458,     0.99458,     0.99458,     0.99457,     0.99455,\n",
       "            0.99452,      0.9945,     0.99449,     0.99449,     0.99448,     0.99448,     0.99446,     0.99445,     0.99443,     0.99442,     0.99441,      0.9944,     0.99438,     0.99437,     0.99609,     0.99717,     0.99716,     0.99716,     0.99714,      0.9971,      0.9971,     0.99708,     0.99708,\n",
       "            0.99706,     0.99705,     0.99705,     0.99704,     0.99703,     0.99702,     0.99702,     0.99701,     0.99701,     0.99698,     0.99698,     0.99695,     0.99694,     0.99693,     0.99691,     0.99687,     0.99685,           1,           1,           1,           1,           1,           1,\n",
       "                  1,           1,           1,           1,           1,           1,           1,           1,           1,           1,           1,           1,           1,           1,           1,           1,           1,           1,           1,           1,           1,           1,           1,\n",
       "                  1,           1,           1,           1,           1,           1,           1,           1,           1,           1,           1,           1,           1,           1,           1,           1,           1,           1,           1,           1,           1,           1,           1,\n",
       "                  1,           1,           1,           1,           1,           1,           1,           1,           1,           1,           1,           1,           1,           1,           1,           1,           1,           1,           1,           1,           1,           1,           1,\n",
       "                  1,           1,           1,           1,           1,           1,           1,           1,           1,           1,           1,           1,           1,           1,           1,           1,           1,           1,           1,           1,           1,           1,           1,\n",
       "                  1,           1,           1,           1,           1,           1,           1,           1,           1,           1,           1,           1,           1,           1,           1,           1,           1,           1,           1,           1,           1,           1,           1,\n",
       "                  1,           1,           1,           1,           1,           1,           1,           1,           1,           1,           1,           1,           1,           1,           1,           1,           1,           1,           1,           1,           1,           1,           1,\n",
       "                  1,           1,           1,           1,           1,           1,           1,           1,           1,           1,           1,           1,           1,           1,           1,           1,           1,           1,           1,           1,           1,           1,           1,\n",
       "                  1,           1,           1,           1,           1,           1,           1,           1,           1,           1,           1]]), 'Confidence', 'Precision'], [array([          0,    0.001001,    0.002002,    0.003003,    0.004004,    0.005005,    0.006006,    0.007007,    0.008008,    0.009009,     0.01001,    0.011011,    0.012012,    0.013013,    0.014014,    0.015015,    0.016016,    0.017017,    0.018018,    0.019019,     0.02002,    0.021021,    0.022022,    0.023023,\n",
       "          0.024024,    0.025025,    0.026026,    0.027027,    0.028028,    0.029029,     0.03003,    0.031031,    0.032032,    0.033033,    0.034034,    0.035035,    0.036036,    0.037037,    0.038038,    0.039039,     0.04004,    0.041041,    0.042042,    0.043043,    0.044044,    0.045045,    0.046046,    0.047047,\n",
       "          0.048048,    0.049049,     0.05005,    0.051051,    0.052052,    0.053053,    0.054054,    0.055055,    0.056056,    0.057057,    0.058058,    0.059059,     0.06006,    0.061061,    0.062062,    0.063063,    0.064064,    0.065065,    0.066066,    0.067067,    0.068068,    0.069069,     0.07007,    0.071071,\n",
       "          0.072072,    0.073073,    0.074074,    0.075075,    0.076076,    0.077077,    0.078078,    0.079079,     0.08008,    0.081081,    0.082082,    0.083083,    0.084084,    0.085085,    0.086086,    0.087087,    0.088088,    0.089089,     0.09009,    0.091091,    0.092092,    0.093093,    0.094094,    0.095095,\n",
       "          0.096096,    0.097097,    0.098098,    0.099099,      0.1001,      0.1011,      0.1021,      0.1031,      0.1041,     0.10511,     0.10611,     0.10711,     0.10811,     0.10911,     0.11011,     0.11111,     0.11211,     0.11311,     0.11411,     0.11512,     0.11612,     0.11712,     0.11812,     0.11912,\n",
       "           0.12012,     0.12112,     0.12212,     0.12312,     0.12412,     0.12513,     0.12613,     0.12713,     0.12813,     0.12913,     0.13013,     0.13113,     0.13213,     0.13313,     0.13413,     0.13514,     0.13614,     0.13714,     0.13814,     0.13914,     0.14014,     0.14114,     0.14214,     0.14314,\n",
       "           0.14414,     0.14515,     0.14615,     0.14715,     0.14815,     0.14915,     0.15015,     0.15115,     0.15215,     0.15315,     0.15415,     0.15516,     0.15616,     0.15716,     0.15816,     0.15916,     0.16016,     0.16116,     0.16216,     0.16316,     0.16416,     0.16517,     0.16617,     0.16717,\n",
       "           0.16817,     0.16917,     0.17017,     0.17117,     0.17217,     0.17317,     0.17417,     0.17518,     0.17618,     0.17718,     0.17818,     0.17918,     0.18018,     0.18118,     0.18218,     0.18318,     0.18418,     0.18519,     0.18619,     0.18719,     0.18819,     0.18919,     0.19019,     0.19119,\n",
       "           0.19219,     0.19319,     0.19419,      0.1952,      0.1962,      0.1972,      0.1982,      0.1992,      0.2002,      0.2012,      0.2022,      0.2032,      0.2042,     0.20521,     0.20621,     0.20721,     0.20821,     0.20921,     0.21021,     0.21121,     0.21221,     0.21321,     0.21421,     0.21522,\n",
       "           0.21622,     0.21722,     0.21822,     0.21922,     0.22022,     0.22122,     0.22222,     0.22322,     0.22422,     0.22523,     0.22623,     0.22723,     0.22823,     0.22923,     0.23023,     0.23123,     0.23223,     0.23323,     0.23423,     0.23524,     0.23624,     0.23724,     0.23824,     0.23924,\n",
       "           0.24024,     0.24124,     0.24224,     0.24324,     0.24424,     0.24525,     0.24625,     0.24725,     0.24825,     0.24925,     0.25025,     0.25125,     0.25225,     0.25325,     0.25425,     0.25526,     0.25626,     0.25726,     0.25826,     0.25926,     0.26026,     0.26126,     0.26226,     0.26326,\n",
       "           0.26426,     0.26527,     0.26627,     0.26727,     0.26827,     0.26927,     0.27027,     0.27127,     0.27227,     0.27327,     0.27427,     0.27528,     0.27628,     0.27728,     0.27828,     0.27928,     0.28028,     0.28128,     0.28228,     0.28328,     0.28428,     0.28529,     0.28629,     0.28729,\n",
       "           0.28829,     0.28929,     0.29029,     0.29129,     0.29229,     0.29329,     0.29429,      0.2953,      0.2963,      0.2973,      0.2983,      0.2993,      0.3003,      0.3013,      0.3023,      0.3033,      0.3043,     0.30531,     0.30631,     0.30731,     0.30831,     0.30931,     0.31031,     0.31131,\n",
       "           0.31231,     0.31331,     0.31431,     0.31532,     0.31632,     0.31732,     0.31832,     0.31932,     0.32032,     0.32132,     0.32232,     0.32332,     0.32432,     0.32533,     0.32633,     0.32733,     0.32833,     0.32933,     0.33033,     0.33133,     0.33233,     0.33333,     0.33433,     0.33534,\n",
       "           0.33634,     0.33734,     0.33834,     0.33934,     0.34034,     0.34134,     0.34234,     0.34334,     0.34434,     0.34535,     0.34635,     0.34735,     0.34835,     0.34935,     0.35035,     0.35135,     0.35235,     0.35335,     0.35435,     0.35536,     0.35636,     0.35736,     0.35836,     0.35936,\n",
       "           0.36036,     0.36136,     0.36236,     0.36336,     0.36436,     0.36537,     0.36637,     0.36737,     0.36837,     0.36937,     0.37037,     0.37137,     0.37237,     0.37337,     0.37437,     0.37538,     0.37638,     0.37738,     0.37838,     0.37938,     0.38038,     0.38138,     0.38238,     0.38338,\n",
       "           0.38438,     0.38539,     0.38639,     0.38739,     0.38839,     0.38939,     0.39039,     0.39139,     0.39239,     0.39339,     0.39439,      0.3954,      0.3964,      0.3974,      0.3984,      0.3994,      0.4004,      0.4014,      0.4024,      0.4034,      0.4044,     0.40541,     0.40641,     0.40741,\n",
       "           0.40841,     0.40941,     0.41041,     0.41141,     0.41241,     0.41341,     0.41441,     0.41542,     0.41642,     0.41742,     0.41842,     0.41942,     0.42042,     0.42142,     0.42242,     0.42342,     0.42442,     0.42543,     0.42643,     0.42743,     0.42843,     0.42943,     0.43043,     0.43143,\n",
       "           0.43243,     0.43343,     0.43443,     0.43544,     0.43644,     0.43744,     0.43844,     0.43944,     0.44044,     0.44144,     0.44244,     0.44344,     0.44444,     0.44545,     0.44645,     0.44745,     0.44845,     0.44945,     0.45045,     0.45145,     0.45245,     0.45345,     0.45445,     0.45546,\n",
       "           0.45646,     0.45746,     0.45846,     0.45946,     0.46046,     0.46146,     0.46246,     0.46346,     0.46446,     0.46547,     0.46647,     0.46747,     0.46847,     0.46947,     0.47047,     0.47147,     0.47247,     0.47347,     0.47447,     0.47548,     0.47648,     0.47748,     0.47848,     0.47948,\n",
       "           0.48048,     0.48148,     0.48248,     0.48348,     0.48448,     0.48549,     0.48649,     0.48749,     0.48849,     0.48949,     0.49049,     0.49149,     0.49249,     0.49349,     0.49449,      0.4955,      0.4965,      0.4975,      0.4985,      0.4995,      0.5005,      0.5015,      0.5025,      0.5035,\n",
       "            0.5045,     0.50551,     0.50651,     0.50751,     0.50851,     0.50951,     0.51051,     0.51151,     0.51251,     0.51351,     0.51451,     0.51552,     0.51652,     0.51752,     0.51852,     0.51952,     0.52052,     0.52152,     0.52252,     0.52352,     0.52452,     0.52553,     0.52653,     0.52753,\n",
       "           0.52853,     0.52953,     0.53053,     0.53153,     0.53253,     0.53353,     0.53453,     0.53554,     0.53654,     0.53754,     0.53854,     0.53954,     0.54054,     0.54154,     0.54254,     0.54354,     0.54454,     0.54555,     0.54655,     0.54755,     0.54855,     0.54955,     0.55055,     0.55155,\n",
       "           0.55255,     0.55355,     0.55455,     0.55556,     0.55656,     0.55756,     0.55856,     0.55956,     0.56056,     0.56156,     0.56256,     0.56356,     0.56456,     0.56557,     0.56657,     0.56757,     0.56857,     0.56957,     0.57057,     0.57157,     0.57257,     0.57357,     0.57457,     0.57558,\n",
       "           0.57658,     0.57758,     0.57858,     0.57958,     0.58058,     0.58158,     0.58258,     0.58358,     0.58458,     0.58559,     0.58659,     0.58759,     0.58859,     0.58959,     0.59059,     0.59159,     0.59259,     0.59359,     0.59459,      0.5956,      0.5966,      0.5976,      0.5986,      0.5996,\n",
       "            0.6006,      0.6016,      0.6026,      0.6036,      0.6046,     0.60561,     0.60661,     0.60761,     0.60861,     0.60961,     0.61061,     0.61161,     0.61261,     0.61361,     0.61461,     0.61562,     0.61662,     0.61762,     0.61862,     0.61962,     0.62062,     0.62162,     0.62262,     0.62362,\n",
       "           0.62462,     0.62563,     0.62663,     0.62763,     0.62863,     0.62963,     0.63063,     0.63163,     0.63263,     0.63363,     0.63463,     0.63564,     0.63664,     0.63764,     0.63864,     0.63964,     0.64064,     0.64164,     0.64264,     0.64364,     0.64464,     0.64565,     0.64665,     0.64765,\n",
       "           0.64865,     0.64965,     0.65065,     0.65165,     0.65265,     0.65365,     0.65465,     0.65566,     0.65666,     0.65766,     0.65866,     0.65966,     0.66066,     0.66166,     0.66266,     0.66366,     0.66466,     0.66567,     0.66667,     0.66767,     0.66867,     0.66967,     0.67067,     0.67167,\n",
       "           0.67267,     0.67367,     0.67467,     0.67568,     0.67668,     0.67768,     0.67868,     0.67968,     0.68068,     0.68168,     0.68268,     0.68368,     0.68468,     0.68569,     0.68669,     0.68769,     0.68869,     0.68969,     0.69069,     0.69169,     0.69269,     0.69369,     0.69469,      0.6957,\n",
       "            0.6967,      0.6977,      0.6987,      0.6997,      0.7007,      0.7017,      0.7027,      0.7037,      0.7047,     0.70571,     0.70671,     0.70771,     0.70871,     0.70971,     0.71071,     0.71171,     0.71271,     0.71371,     0.71471,     0.71572,     0.71672,     0.71772,     0.71872,     0.71972,\n",
       "           0.72072,     0.72172,     0.72272,     0.72372,     0.72472,     0.72573,     0.72673,     0.72773,     0.72873,     0.72973,     0.73073,     0.73173,     0.73273,     0.73373,     0.73473,     0.73574,     0.73674,     0.73774,     0.73874,     0.73974,     0.74074,     0.74174,     0.74274,     0.74374,\n",
       "           0.74474,     0.74575,     0.74675,     0.74775,     0.74875,     0.74975,     0.75075,     0.75175,     0.75275,     0.75375,     0.75475,     0.75576,     0.75676,     0.75776,     0.75876,     0.75976,     0.76076,     0.76176,     0.76276,     0.76376,     0.76476,     0.76577,     0.76677,     0.76777,\n",
       "           0.76877,     0.76977,     0.77077,     0.77177,     0.77277,     0.77377,     0.77477,     0.77578,     0.77678,     0.77778,     0.77878,     0.77978,     0.78078,     0.78178,     0.78278,     0.78378,     0.78478,     0.78579,     0.78679,     0.78779,     0.78879,     0.78979,     0.79079,     0.79179,\n",
       "           0.79279,     0.79379,     0.79479,      0.7958,      0.7968,      0.7978,      0.7988,      0.7998,      0.8008,      0.8018,      0.8028,      0.8038,      0.8048,     0.80581,     0.80681,     0.80781,     0.80881,     0.80981,     0.81081,     0.81181,     0.81281,     0.81381,     0.81481,     0.81582,\n",
       "           0.81682,     0.81782,     0.81882,     0.81982,     0.82082,     0.82182,     0.82282,     0.82382,     0.82482,     0.82583,     0.82683,     0.82783,     0.82883,     0.82983,     0.83083,     0.83183,     0.83283,     0.83383,     0.83483,     0.83584,     0.83684,     0.83784,     0.83884,     0.83984,\n",
       "           0.84084,     0.84184,     0.84284,     0.84384,     0.84484,     0.84585,     0.84685,     0.84785,     0.84885,     0.84985,     0.85085,     0.85185,     0.85285,     0.85385,     0.85485,     0.85586,     0.85686,     0.85786,     0.85886,     0.85986,     0.86086,     0.86186,     0.86286,     0.86386,\n",
       "           0.86486,     0.86587,     0.86687,     0.86787,     0.86887,     0.86987,     0.87087,     0.87187,     0.87287,     0.87387,     0.87487,     0.87588,     0.87688,     0.87788,     0.87888,     0.87988,     0.88088,     0.88188,     0.88288,     0.88388,     0.88488,     0.88589,     0.88689,     0.88789,\n",
       "           0.88889,     0.88989,     0.89089,     0.89189,     0.89289,     0.89389,     0.89489,      0.8959,      0.8969,      0.8979,      0.8989,      0.8999,      0.9009,      0.9019,      0.9029,      0.9039,      0.9049,     0.90591,     0.90691,     0.90791,     0.90891,     0.90991,     0.91091,     0.91191,\n",
       "           0.91291,     0.91391,     0.91491,     0.91592,     0.91692,     0.91792,     0.91892,     0.91992,     0.92092,     0.92192,     0.92292,     0.92392,     0.92492,     0.92593,     0.92693,     0.92793,     0.92893,     0.92993,     0.93093,     0.93193,     0.93293,     0.93393,     0.93493,     0.93594,\n",
       "           0.93694,     0.93794,     0.93894,     0.93994,     0.94094,     0.94194,     0.94294,     0.94394,     0.94494,     0.94595,     0.94695,     0.94795,     0.94895,     0.94995,     0.95095,     0.95195,     0.95295,     0.95395,     0.95495,     0.95596,     0.95696,     0.95796,     0.95896,     0.95996,\n",
       "           0.96096,     0.96196,     0.96296,     0.96396,     0.96496,     0.96597,     0.96697,     0.96797,     0.96897,     0.96997,     0.97097,     0.97197,     0.97297,     0.97397,     0.97497,     0.97598,     0.97698,     0.97798,     0.97898,     0.97998,     0.98098,     0.98198,     0.98298,     0.98398,\n",
       "           0.98498,     0.98599,     0.98699,     0.98799,     0.98899,     0.98999,     0.99099,     0.99199,     0.99299,     0.99399,     0.99499,       0.996,       0.997,       0.998,       0.999,           1]), array([[    0.96332,     0.96332,     0.95753,     0.95367,     0.94788,     0.94595,     0.94595,     0.94208,     0.94208,     0.94015,     0.94015,     0.94015,     0.94015,     0.93822,     0.93822,     0.93629,     0.93629,     0.93629,     0.93629,     0.93629,     0.93629,     0.93629,     0.93629,\n",
       "            0.93629,     0.93629,     0.93436,     0.93436,     0.93436,     0.93436,     0.93243,      0.9305,      0.9305,      0.9305,      0.9305,      0.9305,      0.9305,      0.9305,      0.9305,      0.9305,      0.9305,      0.9305,      0.9305,      0.9305,      0.9305,      0.9305,     0.92857,\n",
       "            0.92857,     0.92857,     0.92857,     0.92857,     0.92857,     0.92857,     0.92857,     0.92857,     0.92857,     0.92857,     0.92664,     0.92664,     0.92664,     0.92664,     0.92664,     0.92664,     0.92664,     0.92664,     0.92664,     0.92664,     0.92664,     0.92664,     0.92664,\n",
       "            0.92664,     0.92664,     0.92664,     0.92664,     0.92664,     0.92664,     0.92664,     0.92664,     0.92664,     0.92664,     0.92664,     0.92664,     0.92664,     0.92664,     0.92664,     0.92664,     0.92664,     0.92664,     0.92664,     0.92664,     0.92664,     0.92664,     0.92664,\n",
       "            0.92664,     0.92664,     0.92664,     0.92664,     0.92664,     0.92471,     0.92471,     0.92471,     0.92471,     0.92471,     0.92471,     0.92471,     0.92471,     0.92471,     0.92471,     0.92471,     0.92471,     0.92471,     0.92471,     0.92471,     0.92471,     0.92471,     0.92471,\n",
       "            0.92471,     0.92471,     0.92471,     0.92471,     0.92471,     0.92471,     0.92471,     0.92471,     0.92471,     0.92471,     0.92471,     0.92471,     0.92471,     0.92471,     0.92471,     0.92471,     0.92471,     0.92471,     0.92471,     0.92471,     0.92471,     0.92471,     0.92471,\n",
       "            0.92471,     0.92471,      0.9242,     0.92352,     0.92283,     0.92278,     0.92278,     0.92278,     0.92278,     0.92278,     0.92278,     0.92085,     0.92085,     0.92085,     0.92085,     0.92085,     0.92085,     0.92085,     0.92085,     0.92085,     0.92085,     0.92085,     0.92085,\n",
       "            0.92085,     0.92085,     0.92085,     0.92085,     0.92085,     0.92085,     0.92085,     0.92085,     0.92085,     0.92085,     0.92085,     0.92085,     0.92085,     0.92085,     0.92085,     0.92085,     0.92085,     0.92085,     0.92085,     0.92085,     0.92085,     0.91892,     0.91892,\n",
       "            0.91892,     0.91892,     0.91892,     0.91892,     0.91892,     0.91892,     0.91892,     0.91892,     0.91892,     0.91892,     0.91892,     0.91892,     0.91892,     0.91892,     0.91892,     0.91892,     0.91892,     0.91892,     0.91892,     0.91892,     0.91892,     0.91892,     0.91892,\n",
       "            0.91892,     0.91892,     0.91892,     0.91892,     0.91892,     0.91892,     0.91892,     0.91892,     0.91892,     0.91892,     0.91892,     0.91892,     0.91892,     0.91892,     0.91892,     0.91892,     0.91892,     0.91892,     0.91892,     0.91892,     0.91892,     0.91892,     0.91892,\n",
       "            0.91892,     0.91892,     0.91892,     0.91892,     0.91892,     0.91892,     0.91892,     0.91892,     0.91892,     0.91892,     0.91892,     0.91892,     0.91892,     0.91892,     0.91892,     0.91859,      0.9182,     0.91781,     0.91743,     0.91704,     0.91699,     0.91699,     0.91699,\n",
       "            0.91699,     0.91699,     0.91699,     0.91699,     0.91699,     0.91699,     0.91699,     0.91699,     0.91699,     0.91699,     0.91699,     0.91699,     0.91699,     0.91699,     0.91699,     0.91699,     0.91699,     0.91699,     0.91699,     0.91699,     0.91699,     0.91699,     0.91699,\n",
       "            0.91699,     0.91699,     0.91517,     0.91506,     0.91506,     0.91506,     0.91506,     0.91506,     0.91506,     0.91506,     0.91506,     0.91506,     0.91506,     0.91506,     0.91506,     0.91506,     0.91506,     0.91506,     0.91506,     0.91506,     0.91506,     0.91506,     0.91506,\n",
       "            0.91506,     0.91506,     0.91506,     0.91506,     0.91506,     0.91506,     0.91483,     0.91422,     0.91361,     0.91313,     0.91313,     0.91313,     0.91313,     0.91313,     0.91313,     0.91313,     0.91313,     0.91313,     0.91313,     0.91313,     0.91313,     0.91313,     0.91313,\n",
       "            0.91313,     0.91282,     0.91244,     0.91207,     0.91169,     0.91131,      0.9107,     0.90998,     0.90927,     0.90927,     0.90927,     0.90927,     0.90927,     0.90927,     0.90927,     0.90927,     0.90927,     0.90927,     0.90927,     0.90927,     0.90927,     0.90927,     0.90927,\n",
       "            0.90927,     0.90927,     0.90927,     0.90927,     0.90927,     0.90927,     0.90927,     0.90927,     0.90927,     0.90927,     0.90927,     0.90927,     0.90927,     0.90927,     0.90927,     0.90927,     0.90927,     0.90927,     0.90927,     0.90927,     0.90927,     0.90927,     0.90927,\n",
       "            0.90927,     0.90927,     0.90927,     0.90927,     0.90927,     0.90927,     0.90809,     0.90734,     0.90734,     0.90734,     0.90734,     0.90734,     0.90734,     0.90734,     0.90734,     0.90734,     0.90734,     0.90734,     0.90734,     0.90734,     0.90734,     0.90734,     0.90734,\n",
       "            0.90734,     0.90734,     0.90734,     0.90732,     0.90721,     0.90709,     0.90698,     0.90686,     0.90675,     0.90664,     0.90652,     0.90641,     0.90629,     0.90618,     0.90606,     0.90595,     0.90583,     0.90572,      0.9056,     0.90549,     0.90541,     0.90541,     0.90541,\n",
       "            0.90541,     0.90541,     0.90541,     0.90541,     0.90541,     0.90541,     0.90541,     0.90541,     0.90541,     0.90541,      0.9054,     0.90534,     0.90527,     0.90521,     0.90515,     0.90508,     0.90502,     0.90496,      0.9049,     0.90483,     0.90477,     0.90471,     0.90464,\n",
       "            0.90458,     0.90452,     0.90446,     0.90439,     0.90433,     0.90427,     0.90421,     0.90414,     0.90408,     0.90402,     0.90395,     0.90389,     0.90383,     0.90377,      0.9037,     0.90364,     0.90358,     0.90351,      0.9031,     0.90211,     0.90154,     0.90154,     0.90154,\n",
       "            0.90154,     0.90154,     0.90133,     0.90093,     0.90054,     0.90014,     0.89974,     0.89702,     0.89603,     0.89528,     0.89462,     0.89396,      0.8936,     0.89332,     0.89303,     0.89275,     0.89247,     0.89219,      0.8919,     0.89142,     0.89092,     0.89043,     0.88996,\n",
       "            0.88996,     0.88996,     0.88996,     0.88996,     0.88996,     0.88996,     0.88996,     0.88996,     0.88996,     0.88996,     0.88996,     0.88996,     0.88996,     0.88996,     0.88996,     0.88996,     0.88996,     0.88996,     0.88996,     0.88996,     0.88996,     0.88996,     0.88996,\n",
       "            0.88996,     0.88996,     0.88996,     0.88996,     0.88849,     0.88727,     0.88628,      0.8861,      0.8861,      0.8861,      0.8859,     0.88568,     0.88546,     0.88524,     0.88503,     0.88481,     0.88459,     0.88437,     0.88395,     0.88221,     0.88196,     0.88171,     0.88146,\n",
       "            0.88122,     0.88097,     0.88072,     0.88047,     0.87998,     0.87899,     0.87832,     0.87817,     0.87802,     0.87786,     0.87771,     0.87756,     0.87741,     0.87726,      0.8771,     0.87695,      0.8768,     0.87665,     0.87649,     0.87599,     0.87533,     0.87467,     0.87452,\n",
       "            0.87452,     0.87452,     0.87452,     0.87425,     0.87395,     0.87364,     0.87334,     0.87304,     0.87273,     0.87207,     0.87108,     0.87053,     0.87031,     0.87009,     0.86987,     0.86965,     0.86943,     0.86921,     0.86899,     0.86877,     0.86794,     0.86695,     0.86513,\n",
       "            0.86293,     0.86056,     0.86007,     0.85957,     0.85908,     0.85864,      0.8582,     0.85776,     0.85732,     0.85596,      0.8549,     0.85441,     0.85391,     0.85342,     0.85185,     0.85135,     0.85135,     0.85135,     0.85135,     0.85098,     0.85054,      0.8501,     0.84966,\n",
       "            0.84704,     0.84605,     0.84536,     0.84497,     0.84457,     0.84417,     0.84378,     0.84301,     0.84202,     0.84146,      0.8411,     0.84074,     0.84038,     0.84002,      0.8397,     0.83946,     0.83923,       0.839,     0.83877,     0.83853,      0.8383,     0.83807,     0.83783,\n",
       "            0.83717,     0.83651,     0.83584,     0.83505,     0.83425,     0.83355,     0.83289,     0.83223,     0.82869,     0.82808,     0.82794,      0.8278,     0.82766,     0.82751,     0.82737,     0.82723,     0.82709,     0.82695,     0.82681,     0.82667,     0.82652,     0.82638,     0.82397,\n",
       "            0.82239,     0.82239,     0.82239,     0.82239,     0.82239,     0.82193,     0.82037,     0.82001,     0.81965,     0.81929,     0.81893,     0.81857,     0.81765,     0.81666,     0.81414,     0.81357,     0.81301,      0.8117,     0.81008,     0.80886,     0.80866,     0.80847,     0.80827,\n",
       "            0.80807,     0.80787,     0.80768,     0.80748,     0.80728,     0.80708,     0.80651,     0.80519,     0.80416,     0.80317,     0.80031,      0.7964,     0.79499,      0.7942,     0.79342,     0.79309,     0.79276,     0.79243,      0.7921,     0.79177,     0.79148,     0.79133,     0.79117,\n",
       "            0.79102,     0.79087,     0.79072,     0.79056,     0.79041,     0.79026,     0.79011,     0.78996,      0.7898,     0.78965,     0.78891,     0.78563,     0.78378,     0.78378,     0.78378,     0.78378,     0.78346,     0.78176,     0.78127,     0.78077,     0.78028,      0.7797,     0.77891,\n",
       "            0.77811,     0.77757,     0.77708,     0.77658,     0.77609,     0.77569,     0.77529,      0.7749,      0.7745,     0.77411,     0.77375,     0.77339,     0.77303,     0.77267,     0.77231,     0.77006,     0.76907,     0.76799,     0.76668,     0.76407,     0.76275,     0.76207,      0.7615,\n",
       "            0.76094,     0.75891,     0.75806,      0.7574,     0.75673,     0.75541,     0.75483,     0.75483,     0.75403,      0.7509,     0.75046,     0.75002,     0.74958,     0.74914,     0.74418,     0.74296,     0.74197,     0.74065,     0.73918,     0.73861,     0.73805,     0.73748,     0.73683,\n",
       "            0.73617,     0.73545,     0.73061,     0.72584,      0.7254,     0.72496,     0.72452,     0.72408,     0.72304,      0.7218,     0.72081,     0.71403,     0.71304,     0.71034,     0.71008,     0.70981,     0.70955,     0.70929,     0.70902,     0.70876,      0.7085,     0.70654,     0.70522,\n",
       "             0.7005,     0.69827,     0.69728,      0.6965,     0.69584,     0.69518,     0.69284,     0.69185,     0.68884,     0.68752,     0.68647,     0.68548,     0.68365,     0.68167,     0.68147,     0.68061,     0.67863,     0.67665,     0.67367,     0.66403,     0.66272,     0.65966,     0.65867,\n",
       "            0.65388,     0.65208,     0.65142,     0.65076,     0.64914,     0.64646,     0.64547,     0.64438,     0.64306,     0.63828,      0.6363,     0.63158,     0.62848,      0.6265,     0.62357,     0.61386,     0.61188,     0.60797,      0.6061,     0.60531,     0.60452,     0.60295,     0.59827,\n",
       "            0.59728,     0.59365,     0.59021,     0.58573,     0.58389,     0.58234,     0.57772,     0.57066,     0.56869,     0.56714,     0.56615,     0.56516,     0.56417,      0.5616,     0.55764,     0.55522,     0.55359,     0.54957,     0.54858,     0.54171,     0.53833,     0.53701,     0.53177,\n",
       "            0.52742,     0.52544,     0.52208,     0.52052,     0.51777,      0.5149,     0.51358,     0.51226,     0.50967,     0.49992,     0.49561,     0.49462,     0.49209,     0.48988,     0.48586,     0.48487,     0.47994,     0.47807,     0.47708,     0.47391,     0.47183,     0.46401,     0.45879,\n",
       "            0.45223,     0.44808,     0.44154,     0.44022,     0.43828,     0.43437,     0.43305,     0.43138,     0.42848,     0.42716,     0.42231,     0.41449,      0.4099,     0.40657,     0.40069,     0.39673,     0.39426,     0.38495,     0.37713,     0.37481,     0.37115,     0.36371,     0.35937,\n",
       "            0.34884,     0.34753,     0.34556,     0.33683,     0.33186,     0.32032,     0.31623,     0.31072,     0.30992,     0.30913,      0.3056,     0.29258,     0.28669,     0.27966,     0.27867,     0.27482,     0.26893,     0.26086,     0.25309,     0.24629,     0.23958,     0.23563,     0.22684,\n",
       "             0.2194,     0.21024,     0.20063,     0.19653,     0.19064,     0.18283,     0.17501,     0.16854,     0.16323,     0.15927,     0.15339,     0.14711,      0.1432,     0.13379,       0.125,     0.12368,     0.11887,     0.11496,     0.11106,     0.10811,     0.10227,      0.1002,     0.09238,\n",
       "           0.074909,     0.06516,    0.055411,    0.049858,    0.045948,    0.042039,     0.04006,    0.037553,    0.033595,    0.032023,    0.031034,    0.027514,    0.025292,    0.019599,    0.013711,    0.010668,   0.0086892,   0.0074972,   0.0070575,   0.0066177,    0.006178,   0.0053123,   0.0034433,\n",
       "          0.0027837,   0.0021241,           0,           0,           0,           0,           0,           0,           0,           0,           0,           0,           0,           0,           0,           0,           0,           0,           0,           0,           0,           0,           0,\n",
       "                  0,           0,           0,           0,           0,           0,           0,           0,           0,           0,           0]]), 'Confidence', 'Recall']]\n",
       "fitness: 0.7791362360725269\n",
       "keys: ['metrics/precision(B)', 'metrics/recall(B)', 'metrics/mAP50(B)', 'metrics/mAP50-95(B)']\n",
       "maps: array([    0.76192])\n",
       "names: {0: 'airplane'}\n",
       "plot: True\n",
       "results_dict: {'metrics/precision(B)': 0.9670034160089351, 'metrics/recall(B)': 0.9052101681874312, 'metrics/mAP50(B)': 0.9340508307319777, 'metrics/mAP50-95(B)': 0.7619235033325878, 'fitness': 0.7791362360725269}\n",
       "save_dir: WindowsPath('runs/detect/train')\n",
       "speed: {'preprocess': 0.3130674362182617, 'inference': 1.874453822771708, 'loss': 0.0, 'postprocess': 1.6973361372947693}\n",
       "task: 'detect'"
      ]
     },
     "execution_count": 7,
     "metadata": {},
     "output_type": "execute_result"
    }
   ],
   "source": [
    "# DO NOT RUN UNLESS YOU WANT A NEW MODEL\n",
    "# diff_model = YOLO('yolov8n.pt')\n",
    "# diff_model.train(data=cwd + \"/Diff-Airplanes.v2i.yolov8/data.yaml\", epochs=25, batch=48, imgsz=640, device=0, plots=True)"
   ]
  },
  {
   "cell_type": "code",
   "execution_count": 21,
   "metadata": {},
   "outputs": [
    {
     "name": "stdout",
     "output_type": "stream",
     "text": [
      "Setup complete ✅ (12 CPUs, 31.8 GB RAM, 412.7/872.4 GB disk)\n",
      "\n",
      "Benchmarks complete for last.onnx on c:\\Users\\David\\Documents\\CSC478\\Improving-Object-Detection-Training-With-Diffusion-Images/datasets/data.yaml at imgsz=640 (55.03s)\n",
      "                   Format Status❔  Size (MB)  metrics/mAP50-95(B)  Inference time (ms/im)\n",
      "0                 PyTorch       ✅       11.5               0.2639                   41.79\n",
      "1             TorchScript       ❌        0.0                  NaN                     NaN\n",
      "2                    ONNX       ❌        0.0                  NaN                     NaN\n",
      "3                OpenVINO       ❌        0.0                  NaN                     NaN\n",
      "4                TensorRT       ❌        0.0                  NaN                     NaN\n",
      "5                  CoreML       ❌        0.0                  NaN                     NaN\n",
      "6   TensorFlow SavedModel       ❌        0.0                  NaN                     NaN\n",
      "7     TensorFlow GraphDef       ❌        0.0                  NaN                     NaN\n",
      "8         TensorFlow Lite       ❌        0.0                  NaN                     NaN\n",
      "9     TensorFlow Edge TPU       ❌        0.0                  NaN                     NaN\n",
      "10          TensorFlow.js       ❌        0.0                  NaN                     NaN\n",
      "11           PaddlePaddle       ❌        0.0                  NaN                     NaN\n",
      "12                   NCNN       ❌        0.0                  NaN                     NaN\n",
      "\n"
     ]
    },
    {
     "data": {
      "text/html": [
       "<div>\n",
       "<style scoped>\n",
       "    .dataframe tbody tr th:only-of-type {\n",
       "        vertical-align: middle;\n",
       "    }\n",
       "\n",
       "    .dataframe tbody tr th {\n",
       "        vertical-align: top;\n",
       "    }\n",
       "\n",
       "    .dataframe thead th {\n",
       "        text-align: right;\n",
       "    }\n",
       "</style>\n",
       "<table border=\"1\" class=\"dataframe\">\n",
       "  <thead>\n",
       "    <tr style=\"text-align: right;\">\n",
       "      <th></th>\n",
       "      <th>Format</th>\n",
       "      <th>Status❔</th>\n",
       "      <th>Size (MB)</th>\n",
       "      <th>metrics/mAP50-95(B)</th>\n",
       "      <th>Inference time (ms/im)</th>\n",
       "    </tr>\n",
       "  </thead>\n",
       "  <tbody>\n",
       "    <tr>\n",
       "      <th>0</th>\n",
       "      <td>PyTorch</td>\n",
       "      <td>✅</td>\n",
       "      <td>11.5</td>\n",
       "      <td>0.2639</td>\n",
       "      <td>41.79</td>\n",
       "    </tr>\n",
       "    <tr>\n",
       "      <th>1</th>\n",
       "      <td>TorchScript</td>\n",
       "      <td>❌</td>\n",
       "      <td>0.0</td>\n",
       "      <td>NaN</td>\n",
       "      <td>NaN</td>\n",
       "    </tr>\n",
       "    <tr>\n",
       "      <th>2</th>\n",
       "      <td>ONNX</td>\n",
       "      <td>❌</td>\n",
       "      <td>0.0</td>\n",
       "      <td>NaN</td>\n",
       "      <td>NaN</td>\n",
       "    </tr>\n",
       "    <tr>\n",
       "      <th>3</th>\n",
       "      <td>OpenVINO</td>\n",
       "      <td>❌</td>\n",
       "      <td>0.0</td>\n",
       "      <td>NaN</td>\n",
       "      <td>NaN</td>\n",
       "    </tr>\n",
       "    <tr>\n",
       "      <th>4</th>\n",
       "      <td>TensorRT</td>\n",
       "      <td>❌</td>\n",
       "      <td>0.0</td>\n",
       "      <td>NaN</td>\n",
       "      <td>NaN</td>\n",
       "    </tr>\n",
       "    <tr>\n",
       "      <th>5</th>\n",
       "      <td>CoreML</td>\n",
       "      <td>❌</td>\n",
       "      <td>0.0</td>\n",
       "      <td>NaN</td>\n",
       "      <td>NaN</td>\n",
       "    </tr>\n",
       "    <tr>\n",
       "      <th>6</th>\n",
       "      <td>TensorFlow SavedModel</td>\n",
       "      <td>❌</td>\n",
       "      <td>0.0</td>\n",
       "      <td>NaN</td>\n",
       "      <td>NaN</td>\n",
       "    </tr>\n",
       "    <tr>\n",
       "      <th>7</th>\n",
       "      <td>TensorFlow GraphDef</td>\n",
       "      <td>❌</td>\n",
       "      <td>0.0</td>\n",
       "      <td>NaN</td>\n",
       "      <td>NaN</td>\n",
       "    </tr>\n",
       "    <tr>\n",
       "      <th>8</th>\n",
       "      <td>TensorFlow Lite</td>\n",
       "      <td>❌</td>\n",
       "      <td>0.0</td>\n",
       "      <td>NaN</td>\n",
       "      <td>NaN</td>\n",
       "    </tr>\n",
       "    <tr>\n",
       "      <th>9</th>\n",
       "      <td>TensorFlow Edge TPU</td>\n",
       "      <td>❌</td>\n",
       "      <td>0.0</td>\n",
       "      <td>NaN</td>\n",
       "      <td>NaN</td>\n",
       "    </tr>\n",
       "    <tr>\n",
       "      <th>10</th>\n",
       "      <td>TensorFlow.js</td>\n",
       "      <td>❌</td>\n",
       "      <td>0.0</td>\n",
       "      <td>NaN</td>\n",
       "      <td>NaN</td>\n",
       "    </tr>\n",
       "    <tr>\n",
       "      <th>11</th>\n",
       "      <td>PaddlePaddle</td>\n",
       "      <td>❌</td>\n",
       "      <td>0.0</td>\n",
       "      <td>NaN</td>\n",
       "      <td>NaN</td>\n",
       "    </tr>\n",
       "    <tr>\n",
       "      <th>12</th>\n",
       "      <td>NCNN</td>\n",
       "      <td>❌</td>\n",
       "      <td>0.0</td>\n",
       "      <td>NaN</td>\n",
       "      <td>NaN</td>\n",
       "    </tr>\n",
       "  </tbody>\n",
       "</table>\n",
       "</div>"
      ],
      "text/plain": [
       "                   Format Status❔  Size (MB)  metrics/mAP50-95(B)  Inference time (ms/im)\n",
       "0                 PyTorch       ✅       11.5               0.2639                   41.79\n",
       "1             TorchScript       ❌        0.0                  NaN                     NaN\n",
       "2                    ONNX       ❌        0.0                  NaN                     NaN\n",
       "3                OpenVINO       ❌        0.0                  NaN                     NaN\n",
       "4                TensorRT       ❌        0.0                  NaN                     NaN\n",
       "5                  CoreML       ❌        0.0                  NaN                     NaN\n",
       "6   TensorFlow SavedModel       ❌        0.0                  NaN                     NaN\n",
       "7     TensorFlow GraphDef       ❌        0.0                  NaN                     NaN\n",
       "8         TensorFlow Lite       ❌        0.0                  NaN                     NaN\n",
       "9     TensorFlow Edge TPU       ❌        0.0                  NaN                     NaN\n",
       "10          TensorFlow.js       ❌        0.0                  NaN                     NaN\n",
       "11           PaddlePaddle       ❌        0.0                  NaN                     NaN\n",
       "12                   NCNN       ❌        0.0                  NaN                     NaN"
      ]
     },
     "execution_count": 21,
     "metadata": {},
     "output_type": "execute_result"
    }
   ],
   "source": [
    "# diff_trained_model = YOLO(\"runs/detect/train/weights/last.pt\")\n",
    "# diff_trained_model.export(format='onnx', dynamic=True)\n",
    "benchmark(model=\"runs/detect/train/weights/last.onnx\", data=cwd + \"/datasets/data.yaml\", device=0, imgsz=640)"
   ]
  },
  {
   "cell_type": "code",
   "execution_count": 13,
   "metadata": {},
   "outputs": [
    {
     "name": "stdout",
     "output_type": "stream",
     "text": [
      "New https://pypi.org/project/ultralytics/8.1.43 available 😃 Update with 'pip install -U ultralytics'\n",
      "Ultralytics YOLOv8.1.35 🚀 Python-3.9.13 torch-2.2.1+cu118 CUDA:0 (NVIDIA GeForce RTX 2080 Super with Max-Q Design, 8192MiB)\n",
      "\u001b[34m\u001b[1mengine\\trainer: \u001b[0mtask=detect, mode=train, model=yolov8n.pt, data=c:\\Users\\David\\Documents\\CSC478\\Improving-Object-Detection-Training-With-Diffusion-Images/Airplanes.v5i.yolov8/data.yaml, epochs=25, time=None, patience=100, batch=48, imgsz=640, save=True, save_period=-1, cache=False, device=0, workers=8, project=None, name=train2, exist_ok=False, pretrained=True, optimizer=auto, verbose=True, seed=0, deterministic=True, single_cls=False, rect=False, cos_lr=False, close_mosaic=10, resume=False, amp=True, fraction=1.0, profile=False, freeze=None, multi_scale=False, overlap_mask=True, mask_ratio=4, dropout=0.0, val=True, split=val, save_json=False, save_hybrid=False, conf=None, iou=0.7, max_det=300, half=False, dnn=False, plots=True, source=None, vid_stride=1, stream_buffer=False, visualize=False, augment=False, agnostic_nms=False, classes=None, retina_masks=False, embed=None, show=False, save_frames=False, save_txt=False, save_conf=False, save_crop=False, show_labels=True, show_conf=True, show_boxes=True, line_width=None, format=torchscript, keras=False, optimize=False, int8=False, dynamic=False, simplify=False, opset=None, workspace=4, nms=False, lr0=0.01, lrf=0.01, momentum=0.937, weight_decay=0.0005, warmup_epochs=3.0, warmup_momentum=0.8, warmup_bias_lr=0.1, box=7.5, cls=0.5, dfl=1.5, pose=12.0, kobj=1.0, label_smoothing=0.0, nbs=64, hsv_h=0.015, hsv_s=0.7, hsv_v=0.4, degrees=0.0, translate=0.1, scale=0.5, shear=0.0, perspective=0.0, flipud=0.0, fliplr=0.5, bgr=0.0, mosaic=1.0, mixup=0.0, copy_paste=0.0, auto_augment=randaugment, erasing=0.4, crop_fraction=1.0, cfg=None, tracker=botsort.yaml, save_dir=runs\\detect\\train2\n",
      "Overriding model.yaml nc=80 with nc=1\n",
      "\n",
      "                   from  n    params  module                                       arguments                     \n",
      "  0                  -1  1       464  ultralytics.nn.modules.conv.Conv             [3, 16, 3, 2]                 \n",
      "  1                  -1  1      4672  ultralytics.nn.modules.conv.Conv             [16, 32, 3, 2]                \n",
      "  2                  -1  1      7360  ultralytics.nn.modules.block.C2f             [32, 32, 1, True]             \n",
      "  3                  -1  1     18560  ultralytics.nn.modules.conv.Conv             [32, 64, 3, 2]                \n",
      "  4                  -1  2     49664  ultralytics.nn.modules.block.C2f             [64, 64, 2, True]             \n",
      "  5                  -1  1     73984  ultralytics.nn.modules.conv.Conv             [64, 128, 3, 2]               \n",
      "  6                  -1  2    197632  ultralytics.nn.modules.block.C2f             [128, 128, 2, True]           \n",
      "  7                  -1  1    295424  ultralytics.nn.modules.conv.Conv             [128, 256, 3, 2]              \n",
      "  8                  -1  1    460288  ultralytics.nn.modules.block.C2f             [256, 256, 1, True]           \n",
      "  9                  -1  1    164608  ultralytics.nn.modules.block.SPPF            [256, 256, 5]                 \n",
      " 10                  -1  1         0  torch.nn.modules.upsampling.Upsample         [None, 2, 'nearest']          \n",
      " 11             [-1, 6]  1         0  ultralytics.nn.modules.conv.Concat           [1]                           \n",
      " 12                  -1  1    148224  ultralytics.nn.modules.block.C2f             [384, 128, 1]                 \n",
      " 13                  -1  1         0  torch.nn.modules.upsampling.Upsample         [None, 2, 'nearest']          \n",
      " 14             [-1, 4]  1         0  ultralytics.nn.modules.conv.Concat           [1]                           \n",
      " 15                  -1  1     37248  ultralytics.nn.modules.block.C2f             [192, 64, 1]                  \n",
      " 16                  -1  1     36992  ultralytics.nn.modules.conv.Conv             [64, 64, 3, 2]                \n",
      " 17            [-1, 12]  1         0  ultralytics.nn.modules.conv.Concat           [1]                           \n",
      " 18                  -1  1    123648  ultralytics.nn.modules.block.C2f             [192, 128, 1]                 \n",
      " 19                  -1  1    147712  ultralytics.nn.modules.conv.Conv             [128, 128, 3, 2]              \n",
      " 20             [-1, 9]  1         0  ultralytics.nn.modules.conv.Concat           [1]                           \n",
      " 21                  -1  1    493056  ultralytics.nn.modules.block.C2f             [384, 256, 1]                 \n",
      " 22        [15, 18, 21]  1    751507  ultralytics.nn.modules.head.Detect           [1, [64, 128, 256]]           \n",
      "Model summary: 225 layers, 3011043 parameters, 3011027 gradients, 8.2 GFLOPs\n",
      "\n",
      "Transferred 319/355 items from pretrained weights\n",
      "\u001b[34m\u001b[1mTensorBoard: \u001b[0mStart with 'tensorboard --logdir runs\\detect\\train2', view at http://localhost:6006/\n",
      "Freezing layer 'model.22.dfl.conv.weight'\n",
      "\u001b[34m\u001b[1mAMP: \u001b[0mrunning Automatic Mixed Precision (AMP) checks with YOLOv8n...\n",
      "\u001b[34m\u001b[1mAMP: \u001b[0mchecks passed ✅\n"
     ]
    },
    {
     "name": "stderr",
     "output_type": "stream",
     "text": [
      "\u001b[34m\u001b[1mtrain: \u001b[0mScanning C:\\Users\\David\\Documents\\CSC478\\Improving-Object-Detection-Training-With-Diffusion-Images\\Airplanes.v5i.yolov8\\train\\labels... 3840 images, 5 backgrounds, 0 corrupt: 100%|██████████| 3840/3840 [00:01<00:00, 2011.17it/s]\n"
     ]
    },
    {
     "name": "stdout",
     "output_type": "stream",
     "text": [
      "\u001b[34m\u001b[1mtrain: \u001b[0mNew cache created: C:\\Users\\David\\Documents\\CSC478\\Improving-Object-Detection-Training-With-Diffusion-Images\\Airplanes.v5i.yolov8\\train\\labels.cache\n"
     ]
    },
    {
     "name": "stderr",
     "output_type": "stream",
     "text": [
      "\u001b[34m\u001b[1mval: \u001b[0mScanning C:\\Users\\David\\Documents\\CSC478\\Improving-Object-Detection-Training-With-Diffusion-Images\\Airplanes.v5i.yolov8\\valid\\labels... 479 images, 0 backgrounds, 0 corrupt: 100%|██████████| 479/479 [00:00<00:00, 1352.42it/s]\n"
     ]
    },
    {
     "name": "stdout",
     "output_type": "stream",
     "text": [
      "\u001b[34m\u001b[1mval: \u001b[0mNew cache created: C:\\Users\\David\\Documents\\CSC478\\Improving-Object-Detection-Training-With-Diffusion-Images\\Airplanes.v5i.yolov8\\valid\\labels.cache\n",
      "Plotting labels to runs\\detect\\train2\\labels.jpg... \n",
      "\u001b[34m\u001b[1moptimizer:\u001b[0m 'optimizer=auto' found, ignoring 'lr0=0.01' and 'momentum=0.937' and determining best 'optimizer', 'lr0' and 'momentum' automatically... \n",
      "\u001b[34m\u001b[1moptimizer:\u001b[0m AdamW(lr=0.002, momentum=0.9) with parameter groups 57 weight(decay=0.0), 64 weight(decay=0.000375), 63 bias(decay=0.0)\n",
      "\u001b[34m\u001b[1mTensorBoard: \u001b[0mmodel graph visualization added ✅\n",
      "Image sizes 640 train, 640 val\n",
      "Using 8 dataloader workers\n",
      "Logging results to \u001b[1mruns\\detect\\train2\u001b[0m\n",
      "Starting training for 25 epochs...\n",
      "\n",
      "      Epoch    GPU_mem   box_loss   cls_loss   dfl_loss  Instances       Size\n"
     ]
    },
    {
     "name": "stderr",
     "output_type": "stream",
     "text": [
      "       1/25      6.88G      1.211      2.291      1.214         92        640: 100%|██████████| 80/80 [00:29<00:00,  2.75it/s]\n",
      "                 Class     Images  Instances      Box(P          R      mAP50  mAP50-95): 100%|██████████| 5/5 [00:05<00:00,  1.06s/it]"
     ]
    },
    {
     "name": "stdout",
     "output_type": "stream",
     "text": [
      "                   all        479        517      0.485      0.118      0.111     0.0464\n"
     ]
    },
    {
     "name": "stderr",
     "output_type": "stream",
     "text": [
      "\n"
     ]
    },
    {
     "name": "stdout",
     "output_type": "stream",
     "text": [
      "\n",
      "      Epoch    GPU_mem   box_loss   cls_loss   dfl_loss  Instances       Size\n"
     ]
    },
    {
     "name": "stderr",
     "output_type": "stream",
     "text": [
      "       2/25      6.94G       1.31      1.629       1.25         83        640: 100%|██████████| 80/80 [00:28<00:00,  2.76it/s]\n",
      "                 Class     Images  Instances      Box(P          R      mAP50  mAP50-95): 100%|██████████| 5/5 [00:04<00:00,  1.15it/s]"
     ]
    },
    {
     "name": "stdout",
     "output_type": "stream",
     "text": [
      "                   all        479        517      0.343      0.411      0.327       0.19\n"
     ]
    },
    {
     "name": "stderr",
     "output_type": "stream",
     "text": [
      "\n"
     ]
    },
    {
     "name": "stdout",
     "output_type": "stream",
     "text": [
      "\n",
      "      Epoch    GPU_mem   box_loss   cls_loss   dfl_loss  Instances       Size\n"
     ]
    },
    {
     "name": "stderr",
     "output_type": "stream",
     "text": [
      "       3/25      6.93G      1.391      1.437      1.301         77        640: 100%|██████████| 80/80 [00:29<00:00,  2.72it/s]\n",
      "                 Class     Images  Instances      Box(P          R      mAP50  mAP50-95): 100%|██████████| 5/5 [00:05<00:00,  1.05s/it]"
     ]
    },
    {
     "name": "stdout",
     "output_type": "stream",
     "text": [
      "                   all        479        517      0.435      0.385      0.324      0.202\n"
     ]
    },
    {
     "name": "stderr",
     "output_type": "stream",
     "text": [
      "\n"
     ]
    },
    {
     "name": "stdout",
     "output_type": "stream",
     "text": [
      "\n",
      "      Epoch    GPU_mem   box_loss   cls_loss   dfl_loss  Instances       Size\n"
     ]
    },
    {
     "name": "stderr",
     "output_type": "stream",
     "text": [
      "       4/25      6.93G      1.363      1.266       1.29         84        640: 100%|██████████| 80/80 [00:29<00:00,  2.75it/s]\n",
      "                 Class     Images  Instances      Box(P          R      mAP50  mAP50-95): 100%|██████████| 5/5 [00:04<00:00,  1.18it/s]"
     ]
    },
    {
     "name": "stdout",
     "output_type": "stream",
     "text": [
      "                   all        479        517      0.853      0.485      0.595      0.394\n"
     ]
    },
    {
     "name": "stderr",
     "output_type": "stream",
     "text": [
      "\n"
     ]
    },
    {
     "name": "stdout",
     "output_type": "stream",
     "text": [
      "\n",
      "      Epoch    GPU_mem   box_loss   cls_loss   dfl_loss  Instances       Size\n"
     ]
    },
    {
     "name": "stderr",
     "output_type": "stream",
     "text": [
      "       5/25      6.99G      1.292      1.183       1.25         94        640: 100%|██████████| 80/80 [00:29<00:00,  2.74it/s]\n",
      "                 Class     Images  Instances      Box(P          R      mAP50  mAP50-95): 100%|██████████| 5/5 [00:06<00:00,  1.25s/it]"
     ]
    },
    {
     "name": "stdout",
     "output_type": "stream",
     "text": [
      "                   all        479        517      0.809      0.667      0.742      0.478\n"
     ]
    },
    {
     "name": "stderr",
     "output_type": "stream",
     "text": [
      "\n"
     ]
    },
    {
     "name": "stdout",
     "output_type": "stream",
     "text": [
      "\n",
      "      Epoch    GPU_mem   box_loss   cls_loss   dfl_loss  Instances       Size\n"
     ]
    },
    {
     "name": "stderr",
     "output_type": "stream",
     "text": [
      "       6/25      6.99G      1.211      1.066      1.219         84        640: 100%|██████████| 80/80 [00:29<00:00,  2.73it/s]\n",
      "                 Class     Images  Instances      Box(P          R      mAP50  mAP50-95): 100%|██████████| 5/5 [00:05<00:00,  1.04s/it]"
     ]
    },
    {
     "name": "stdout",
     "output_type": "stream",
     "text": [
      "                   all        479        517      0.877      0.691      0.814      0.569\n"
     ]
    },
    {
     "name": "stderr",
     "output_type": "stream",
     "text": [
      "\n"
     ]
    },
    {
     "name": "stdout",
     "output_type": "stream",
     "text": [
      "\n",
      "      Epoch    GPU_mem   box_loss   cls_loss   dfl_loss  Instances       Size\n"
     ]
    },
    {
     "name": "stderr",
     "output_type": "stream",
     "text": [
      "       7/25      6.93G      1.204      1.072      1.212         76        640: 100%|██████████| 80/80 [00:30<00:00,  2.64it/s]\n",
      "                 Class     Images  Instances      Box(P          R      mAP50  mAP50-95): 100%|██████████| 5/5 [00:04<00:00,  1.13it/s]"
     ]
    },
    {
     "name": "stdout",
     "output_type": "stream",
     "text": [
      "                   all        479        517      0.814      0.793      0.841      0.572\n"
     ]
    },
    {
     "name": "stderr",
     "output_type": "stream",
     "text": [
      "\n"
     ]
    },
    {
     "name": "stdout",
     "output_type": "stream",
     "text": [
      "\n",
      "      Epoch    GPU_mem   box_loss   cls_loss   dfl_loss  Instances       Size\n"
     ]
    },
    {
     "name": "stderr",
     "output_type": "stream",
     "text": [
      "       8/25      6.93G      1.152     0.9997      1.191         74        640: 100%|██████████| 80/80 [00:29<00:00,  2.73it/s]\n",
      "                 Class     Images  Instances      Box(P          R      mAP50  mAP50-95): 100%|██████████| 5/5 [00:04<00:00,  1.22it/s]"
     ]
    },
    {
     "name": "stdout",
     "output_type": "stream",
     "text": [
      "                   all        479        517      0.871      0.834      0.871      0.617\n"
     ]
    },
    {
     "name": "stderr",
     "output_type": "stream",
     "text": [
      "\n"
     ]
    },
    {
     "name": "stdout",
     "output_type": "stream",
     "text": [
      "\n",
      "      Epoch    GPU_mem   box_loss   cls_loss   dfl_loss  Instances       Size\n"
     ]
    },
    {
     "name": "stderr",
     "output_type": "stream",
     "text": [
      "       9/25      6.94G      1.108     0.9308       1.17         82        640: 100%|██████████| 80/80 [00:28<00:00,  2.80it/s]\n",
      "                 Class     Images  Instances      Box(P          R      mAP50  mAP50-95): 100%|██████████| 5/5 [00:04<00:00,  1.24it/s]"
     ]
    },
    {
     "name": "stdout",
     "output_type": "stream",
     "text": [
      "                   all        479        517      0.878      0.791      0.869      0.624\n"
     ]
    },
    {
     "name": "stderr",
     "output_type": "stream",
     "text": [
      "\n"
     ]
    },
    {
     "name": "stdout",
     "output_type": "stream",
     "text": [
      "\n",
      "      Epoch    GPU_mem   box_loss   cls_loss   dfl_loss  Instances       Size\n"
     ]
    },
    {
     "name": "stderr",
     "output_type": "stream",
     "text": [
      "      10/25      6.93G      1.087     0.9164      1.163         77        640: 100%|██████████| 80/80 [00:28<00:00,  2.84it/s]\n",
      "                 Class     Images  Instances      Box(P          R      mAP50  mAP50-95): 100%|██████████| 5/5 [00:05<00:00,  1.10s/it]"
     ]
    },
    {
     "name": "stdout",
     "output_type": "stream",
     "text": [
      "                   all        479        517      0.866      0.876      0.907      0.691\n"
     ]
    },
    {
     "name": "stderr",
     "output_type": "stream",
     "text": [
      "\n"
     ]
    },
    {
     "name": "stdout",
     "output_type": "stream",
     "text": [
      "\n",
      "      Epoch    GPU_mem   box_loss   cls_loss   dfl_loss  Instances       Size\n"
     ]
    },
    {
     "name": "stderr",
     "output_type": "stream",
     "text": [
      "      11/25      6.99G      1.081     0.8999      1.159         79        640: 100%|██████████| 80/80 [00:28<00:00,  2.83it/s]\n",
      "                 Class     Images  Instances      Box(P          R      mAP50  mAP50-95): 100%|██████████| 5/5 [00:04<00:00,  1.10it/s]"
     ]
    },
    {
     "name": "stdout",
     "output_type": "stream",
     "text": [
      "                   all        479        517      0.864      0.823      0.895      0.676\n"
     ]
    },
    {
     "name": "stderr",
     "output_type": "stream",
     "text": [
      "\n"
     ]
    },
    {
     "name": "stdout",
     "output_type": "stream",
     "text": [
      "\n",
      "      Epoch    GPU_mem   box_loss   cls_loss   dfl_loss  Instances       Size\n"
     ]
    },
    {
     "name": "stderr",
     "output_type": "stream",
     "text": [
      "      12/25      6.92G      1.023     0.8577      1.124         93        640: 100%|██████████| 80/80 [00:28<00:00,  2.84it/s]\n",
      "                 Class     Images  Instances      Box(P          R      mAP50  mAP50-95): 100%|██████████| 5/5 [00:03<00:00,  1.31it/s]"
     ]
    },
    {
     "name": "stdout",
     "output_type": "stream",
     "text": [
      "                   all        479        517       0.89      0.826        0.9      0.684\n"
     ]
    },
    {
     "name": "stderr",
     "output_type": "stream",
     "text": [
      "\n"
     ]
    },
    {
     "name": "stdout",
     "output_type": "stream",
     "text": [
      "\n",
      "      Epoch    GPU_mem   box_loss   cls_loss   dfl_loss  Instances       Size\n"
     ]
    },
    {
     "name": "stderr",
     "output_type": "stream",
     "text": [
      "      13/25      6.89G       1.01     0.8356      1.122         73        640: 100%|██████████| 80/80 [00:28<00:00,  2.82it/s]\n",
      "                 Class     Images  Instances      Box(P          R      mAP50  mAP50-95): 100%|██████████| 5/5 [00:03<00:00,  1.29it/s]"
     ]
    },
    {
     "name": "stdout",
     "output_type": "stream",
     "text": [
      "                   all        479        517      0.896      0.772      0.869      0.658\n"
     ]
    },
    {
     "name": "stderr",
     "output_type": "stream",
     "text": [
      "\n"
     ]
    },
    {
     "name": "stdout",
     "output_type": "stream",
     "text": [
      "\n",
      "      Epoch    GPU_mem   box_loss   cls_loss   dfl_loss  Instances       Size\n"
     ]
    },
    {
     "name": "stderr",
     "output_type": "stream",
     "text": [
      "      14/25      6.89G     0.9846     0.8184      1.113         91        640: 100%|██████████| 80/80 [00:28<00:00,  2.83it/s]\n",
      "                 Class     Images  Instances      Box(P          R      mAP50  mAP50-95): 100%|██████████| 5/5 [00:04<00:00,  1.22it/s]"
     ]
    },
    {
     "name": "stdout",
     "output_type": "stream",
     "text": [
      "                   all        479        517      0.904      0.861      0.908      0.711\n"
     ]
    },
    {
     "name": "stderr",
     "output_type": "stream",
     "text": [
      "\n"
     ]
    },
    {
     "name": "stdout",
     "output_type": "stream",
     "text": [
      "\n",
      "      Epoch    GPU_mem   box_loss   cls_loss   dfl_loss  Instances       Size\n"
     ]
    },
    {
     "name": "stderr",
     "output_type": "stream",
     "text": [
      "      15/25      6.88G      0.965     0.7895      1.104         83        640: 100%|██████████| 80/80 [00:28<00:00,  2.83it/s]\n",
      "                 Class     Images  Instances      Box(P          R      mAP50  mAP50-95): 100%|██████████| 5/5 [00:05<00:00,  1.11s/it]"
     ]
    },
    {
     "name": "stdout",
     "output_type": "stream",
     "text": [
      "                   all        479        517      0.923      0.899      0.944      0.749\n"
     ]
    },
    {
     "name": "stderr",
     "output_type": "stream",
     "text": [
      "\n"
     ]
    },
    {
     "name": "stdout",
     "output_type": "stream",
     "text": [
      "Closing dataloader mosaic\n",
      "\n",
      "      Epoch    GPU_mem   box_loss   cls_loss   dfl_loss  Instances       Size\n"
     ]
    },
    {
     "name": "stderr",
     "output_type": "stream",
     "text": [
      "      16/25      6.88G     0.8029     0.6225      1.017         50        640: 100%|██████████| 80/80 [00:28<00:00,  2.80it/s]\n",
      "                 Class     Images  Instances      Box(P          R      mAP50  mAP50-95): 100%|██████████| 5/5 [00:04<00:00,  1.20it/s]"
     ]
    },
    {
     "name": "stdout",
     "output_type": "stream",
     "text": [
      "                   all        479        517      0.923      0.877      0.929      0.752\n"
     ]
    },
    {
     "name": "stderr",
     "output_type": "stream",
     "text": [
      "\n"
     ]
    },
    {
     "name": "stdout",
     "output_type": "stream",
     "text": [
      "\n",
      "      Epoch    GPU_mem   box_loss   cls_loss   dfl_loss  Instances       Size\n"
     ]
    },
    {
     "name": "stderr",
     "output_type": "stream",
     "text": [
      "      17/25      6.88G     0.8008     0.6037      1.014         56        640: 100%|██████████| 80/80 [00:27<00:00,  2.88it/s]\n",
      "                 Class     Images  Instances      Box(P          R      mAP50  mAP50-95): 100%|██████████| 5/5 [00:03<00:00,  1.25it/s]"
     ]
    },
    {
     "name": "stdout",
     "output_type": "stream",
     "text": [
      "                   all        479        517      0.933      0.891       0.94      0.756\n"
     ]
    },
    {
     "name": "stderr",
     "output_type": "stream",
     "text": [
      "\n"
     ]
    },
    {
     "name": "stdout",
     "output_type": "stream",
     "text": [
      "\n",
      "      Epoch    GPU_mem   box_loss   cls_loss   dfl_loss  Instances       Size\n"
     ]
    },
    {
     "name": "stderr",
     "output_type": "stream",
     "text": [
      "      18/25      6.88G     0.7694     0.5757      0.999         63        640: 100%|██████████| 80/80 [00:27<00:00,  2.87it/s]\n",
      "                 Class     Images  Instances      Box(P          R      mAP50  mAP50-95): 100%|██████████| 5/5 [00:04<00:00,  1.24it/s]"
     ]
    },
    {
     "name": "stdout",
     "output_type": "stream",
     "text": [
      "                   all        479        517      0.944      0.887      0.943       0.78\n"
     ]
    },
    {
     "name": "stderr",
     "output_type": "stream",
     "text": [
      "\n"
     ]
    },
    {
     "name": "stdout",
     "output_type": "stream",
     "text": [
      "\n",
      "      Epoch    GPU_mem   box_loss   cls_loss   dfl_loss  Instances       Size\n"
     ]
    },
    {
     "name": "stderr",
     "output_type": "stream",
     "text": [
      "      19/25      6.88G     0.7526      0.553     0.9931         52        640: 100%|██████████| 80/80 [00:27<00:00,  2.87it/s]\n",
      "                 Class     Images  Instances      Box(P          R      mAP50  mAP50-95): 100%|██████████| 5/5 [00:03<00:00,  1.27it/s]"
     ]
    },
    {
     "name": "stdout",
     "output_type": "stream",
     "text": [
      "                   all        479        517      0.946      0.892      0.944      0.767\n"
     ]
    },
    {
     "name": "stderr",
     "output_type": "stream",
     "text": [
      "\n"
     ]
    },
    {
     "name": "stdout",
     "output_type": "stream",
     "text": [
      "\n",
      "      Epoch    GPU_mem   box_loss   cls_loss   dfl_loss  Instances       Size\n"
     ]
    },
    {
     "name": "stderr",
     "output_type": "stream",
     "text": [
      "      20/25      6.88G     0.7456     0.5358     0.9858         56        640: 100%|██████████| 80/80 [00:27<00:00,  2.86it/s]\n",
      "                 Class     Images  Instances      Box(P          R      mAP50  mAP50-95): 100%|██████████| 5/5 [00:05<00:00,  1.15s/it]"
     ]
    },
    {
     "name": "stdout",
     "output_type": "stream",
     "text": [
      "                   all        479        517      0.931      0.912      0.954      0.783\n"
     ]
    },
    {
     "name": "stderr",
     "output_type": "stream",
     "text": [
      "\n"
     ]
    },
    {
     "name": "stdout",
     "output_type": "stream",
     "text": [
      "\n",
      "      Epoch    GPU_mem   box_loss   cls_loss   dfl_loss  Instances       Size\n"
     ]
    },
    {
     "name": "stderr",
     "output_type": "stream",
     "text": [
      "      21/25      6.92G     0.7159     0.5147      0.972         59        640: 100%|██████████| 80/80 [00:35<00:00,  2.24it/s]\n",
      "                 Class     Images  Instances      Box(P          R      mAP50  mAP50-95): 100%|██████████| 5/5 [00:05<00:00,  1.13s/it]"
     ]
    },
    {
     "name": "stdout",
     "output_type": "stream",
     "text": [
      "                   all        479        517      0.946      0.894      0.945      0.779\n"
     ]
    },
    {
     "name": "stderr",
     "output_type": "stream",
     "text": [
      "\n"
     ]
    },
    {
     "name": "stdout",
     "output_type": "stream",
     "text": [
      "\n",
      "      Epoch    GPU_mem   box_loss   cls_loss   dfl_loss  Instances       Size\n"
     ]
    },
    {
     "name": "stderr",
     "output_type": "stream",
     "text": [
      "      22/25      6.88G      0.687     0.4891     0.9615         79        640: 100%|██████████| 80/80 [00:28<00:00,  2.80it/s]\n",
      "                 Class     Images  Instances      Box(P          R      mAP50  mAP50-95): 100%|██████████| 5/5 [00:05<00:00,  1.02s/it]"
     ]
    },
    {
     "name": "stdout",
     "output_type": "stream",
     "text": [
      "                   all        479        517      0.971      0.905      0.953      0.796\n"
     ]
    },
    {
     "name": "stderr",
     "output_type": "stream",
     "text": [
      "\n"
     ]
    },
    {
     "name": "stdout",
     "output_type": "stream",
     "text": [
      "\n",
      "      Epoch    GPU_mem   box_loss   cls_loss   dfl_loss  Instances       Size\n"
     ]
    },
    {
     "name": "stderr",
     "output_type": "stream",
     "text": [
      "      23/25      6.88G     0.6804       0.48     0.9583         56        640: 100%|██████████| 80/80 [00:28<00:00,  2.81it/s]\n",
      "                 Class     Images  Instances      Box(P          R      mAP50  mAP50-95): 100%|██████████| 5/5 [00:04<00:00,  1.03it/s]"
     ]
    },
    {
     "name": "stdout",
     "output_type": "stream",
     "text": [
      "                   all        479        517      0.946      0.917      0.948        0.8\n"
     ]
    },
    {
     "name": "stderr",
     "output_type": "stream",
     "text": [
      "\n"
     ]
    },
    {
     "name": "stdout",
     "output_type": "stream",
     "text": [
      "\n",
      "      Epoch    GPU_mem   box_loss   cls_loss   dfl_loss  Instances       Size\n"
     ]
    },
    {
     "name": "stderr",
     "output_type": "stream",
     "text": [
      "      24/25      6.94G     0.6604     0.4598     0.9432         73        640: 100%|██████████| 80/80 [00:28<00:00,  2.80it/s]\n",
      "                 Class     Images  Instances      Box(P          R      mAP50  mAP50-95): 100%|██████████| 5/5 [00:04<00:00,  1.00it/s]"
     ]
    },
    {
     "name": "stdout",
     "output_type": "stream",
     "text": [
      "                   all        479        517      0.955      0.909      0.951        0.8\n"
     ]
    },
    {
     "name": "stderr",
     "output_type": "stream",
     "text": [
      "\n"
     ]
    },
    {
     "name": "stdout",
     "output_type": "stream",
     "text": [
      "\n",
      "      Epoch    GPU_mem   box_loss   cls_loss   dfl_loss  Instances       Size\n"
     ]
    },
    {
     "name": "stderr",
     "output_type": "stream",
     "text": [
      "      25/25      6.88G     0.6432     0.4408     0.9436         57        640: 100%|██████████| 80/80 [00:28<00:00,  2.80it/s]\n",
      "                 Class     Images  Instances      Box(P          R      mAP50  mAP50-95): 100%|██████████| 5/5 [00:06<00:00,  1.39s/it]"
     ]
    },
    {
     "name": "stdout",
     "output_type": "stream",
     "text": [
      "                   all        479        517      0.961       0.91      0.952      0.816\n"
     ]
    },
    {
     "name": "stderr",
     "output_type": "stream",
     "text": [
      "\n"
     ]
    },
    {
     "name": "stdout",
     "output_type": "stream",
     "text": [
      "\n",
      "25 epochs completed in 0.253 hours.\n",
      "Optimizer stripped from runs\\detect\\train2\\weights\\last.pt, 6.2MB\n",
      "Optimizer stripped from runs\\detect\\train2\\weights\\best.pt, 6.2MB\n",
      "\n",
      "Validating runs\\detect\\train2\\weights\\best.pt...\n",
      "Ultralytics YOLOv8.1.35 🚀 Python-3.9.13 torch-2.2.1+cu118 CUDA:0 (NVIDIA GeForce RTX 2080 Super with Max-Q Design, 8192MiB)\n",
      "Model summary (fused): 168 layers, 3005843 parameters, 0 gradients, 8.1 GFLOPs\n"
     ]
    },
    {
     "name": "stderr",
     "output_type": "stream",
     "text": [
      "                 Class     Images  Instances      Box(P          R      mAP50  mAP50-95): 100%|██████████| 5/5 [00:04<00:00,  1.04it/s]\n"
     ]
    },
    {
     "name": "stdout",
     "output_type": "stream",
     "text": [
      "                   all        479        517      0.961       0.91      0.953      0.815\n",
      "Speed: 0.2ms preprocess, 1.8ms inference, 0.0ms loss, 2.1ms postprocess per image\n",
      "Results saved to \u001b[1mruns\\detect\\train2\u001b[0m\n"
     ]
    },
    {
     "data": {
      "text/plain": [
       "ultralytics.utils.metrics.DetMetrics object with attributes:\n",
       "\n",
       "ap_class_index: array([0])\n",
       "box: ultralytics.utils.metrics.Metric object\n",
       "confusion_matrix: <ultralytics.utils.metrics.ConfusionMatrix object at 0x0000022FE3DF9B50>\n",
       "curves: ['Precision-Recall(B)', 'F1-Confidence(B)', 'Precision-Confidence(B)', 'Recall-Confidence(B)']\n",
       "curves_results: [[array([          0,    0.001001,    0.002002,    0.003003,    0.004004,    0.005005,    0.006006,    0.007007,    0.008008,    0.009009,     0.01001,    0.011011,    0.012012,    0.013013,    0.014014,    0.015015,    0.016016,    0.017017,    0.018018,    0.019019,     0.02002,    0.021021,    0.022022,    0.023023,\n",
       "          0.024024,    0.025025,    0.026026,    0.027027,    0.028028,    0.029029,     0.03003,    0.031031,    0.032032,    0.033033,    0.034034,    0.035035,    0.036036,    0.037037,    0.038038,    0.039039,     0.04004,    0.041041,    0.042042,    0.043043,    0.044044,    0.045045,    0.046046,    0.047047,\n",
       "          0.048048,    0.049049,     0.05005,    0.051051,    0.052052,    0.053053,    0.054054,    0.055055,    0.056056,    0.057057,    0.058058,    0.059059,     0.06006,    0.061061,    0.062062,    0.063063,    0.064064,    0.065065,    0.066066,    0.067067,    0.068068,    0.069069,     0.07007,    0.071071,\n",
       "          0.072072,    0.073073,    0.074074,    0.075075,    0.076076,    0.077077,    0.078078,    0.079079,     0.08008,    0.081081,    0.082082,    0.083083,    0.084084,    0.085085,    0.086086,    0.087087,    0.088088,    0.089089,     0.09009,    0.091091,    0.092092,    0.093093,    0.094094,    0.095095,\n",
       "          0.096096,    0.097097,    0.098098,    0.099099,      0.1001,      0.1011,      0.1021,      0.1031,      0.1041,     0.10511,     0.10611,     0.10711,     0.10811,     0.10911,     0.11011,     0.11111,     0.11211,     0.11311,     0.11411,     0.11512,     0.11612,     0.11712,     0.11812,     0.11912,\n",
       "           0.12012,     0.12112,     0.12212,     0.12312,     0.12412,     0.12513,     0.12613,     0.12713,     0.12813,     0.12913,     0.13013,     0.13113,     0.13213,     0.13313,     0.13413,     0.13514,     0.13614,     0.13714,     0.13814,     0.13914,     0.14014,     0.14114,     0.14214,     0.14314,\n",
       "           0.14414,     0.14515,     0.14615,     0.14715,     0.14815,     0.14915,     0.15015,     0.15115,     0.15215,     0.15315,     0.15415,     0.15516,     0.15616,     0.15716,     0.15816,     0.15916,     0.16016,     0.16116,     0.16216,     0.16316,     0.16416,     0.16517,     0.16617,     0.16717,\n",
       "           0.16817,     0.16917,     0.17017,     0.17117,     0.17217,     0.17317,     0.17417,     0.17518,     0.17618,     0.17718,     0.17818,     0.17918,     0.18018,     0.18118,     0.18218,     0.18318,     0.18418,     0.18519,     0.18619,     0.18719,     0.18819,     0.18919,     0.19019,     0.19119,\n",
       "           0.19219,     0.19319,     0.19419,      0.1952,      0.1962,      0.1972,      0.1982,      0.1992,      0.2002,      0.2012,      0.2022,      0.2032,      0.2042,     0.20521,     0.20621,     0.20721,     0.20821,     0.20921,     0.21021,     0.21121,     0.21221,     0.21321,     0.21421,     0.21522,\n",
       "           0.21622,     0.21722,     0.21822,     0.21922,     0.22022,     0.22122,     0.22222,     0.22322,     0.22422,     0.22523,     0.22623,     0.22723,     0.22823,     0.22923,     0.23023,     0.23123,     0.23223,     0.23323,     0.23423,     0.23524,     0.23624,     0.23724,     0.23824,     0.23924,\n",
       "           0.24024,     0.24124,     0.24224,     0.24324,     0.24424,     0.24525,     0.24625,     0.24725,     0.24825,     0.24925,     0.25025,     0.25125,     0.25225,     0.25325,     0.25425,     0.25526,     0.25626,     0.25726,     0.25826,     0.25926,     0.26026,     0.26126,     0.26226,     0.26326,\n",
       "           0.26426,     0.26527,     0.26627,     0.26727,     0.26827,     0.26927,     0.27027,     0.27127,     0.27227,     0.27327,     0.27427,     0.27528,     0.27628,     0.27728,     0.27828,     0.27928,     0.28028,     0.28128,     0.28228,     0.28328,     0.28428,     0.28529,     0.28629,     0.28729,\n",
       "           0.28829,     0.28929,     0.29029,     0.29129,     0.29229,     0.29329,     0.29429,      0.2953,      0.2963,      0.2973,      0.2983,      0.2993,      0.3003,      0.3013,      0.3023,      0.3033,      0.3043,     0.30531,     0.30631,     0.30731,     0.30831,     0.30931,     0.31031,     0.31131,\n",
       "           0.31231,     0.31331,     0.31431,     0.31532,     0.31632,     0.31732,     0.31832,     0.31932,     0.32032,     0.32132,     0.32232,     0.32332,     0.32432,     0.32533,     0.32633,     0.32733,     0.32833,     0.32933,     0.33033,     0.33133,     0.33233,     0.33333,     0.33433,     0.33534,\n",
       "           0.33634,     0.33734,     0.33834,     0.33934,     0.34034,     0.34134,     0.34234,     0.34334,     0.34434,     0.34535,     0.34635,     0.34735,     0.34835,     0.34935,     0.35035,     0.35135,     0.35235,     0.35335,     0.35435,     0.35536,     0.35636,     0.35736,     0.35836,     0.35936,\n",
       "           0.36036,     0.36136,     0.36236,     0.36336,     0.36436,     0.36537,     0.36637,     0.36737,     0.36837,     0.36937,     0.37037,     0.37137,     0.37237,     0.37337,     0.37437,     0.37538,     0.37638,     0.37738,     0.37838,     0.37938,     0.38038,     0.38138,     0.38238,     0.38338,\n",
       "           0.38438,     0.38539,     0.38639,     0.38739,     0.38839,     0.38939,     0.39039,     0.39139,     0.39239,     0.39339,     0.39439,      0.3954,      0.3964,      0.3974,      0.3984,      0.3994,      0.4004,      0.4014,      0.4024,      0.4034,      0.4044,     0.40541,     0.40641,     0.40741,\n",
       "           0.40841,     0.40941,     0.41041,     0.41141,     0.41241,     0.41341,     0.41441,     0.41542,     0.41642,     0.41742,     0.41842,     0.41942,     0.42042,     0.42142,     0.42242,     0.42342,     0.42442,     0.42543,     0.42643,     0.42743,     0.42843,     0.42943,     0.43043,     0.43143,\n",
       "           0.43243,     0.43343,     0.43443,     0.43544,     0.43644,     0.43744,     0.43844,     0.43944,     0.44044,     0.44144,     0.44244,     0.44344,     0.44444,     0.44545,     0.44645,     0.44745,     0.44845,     0.44945,     0.45045,     0.45145,     0.45245,     0.45345,     0.45445,     0.45546,\n",
       "           0.45646,     0.45746,     0.45846,     0.45946,     0.46046,     0.46146,     0.46246,     0.46346,     0.46446,     0.46547,     0.46647,     0.46747,     0.46847,     0.46947,     0.47047,     0.47147,     0.47247,     0.47347,     0.47447,     0.47548,     0.47648,     0.47748,     0.47848,     0.47948,\n",
       "           0.48048,     0.48148,     0.48248,     0.48348,     0.48448,     0.48549,     0.48649,     0.48749,     0.48849,     0.48949,     0.49049,     0.49149,     0.49249,     0.49349,     0.49449,      0.4955,      0.4965,      0.4975,      0.4985,      0.4995,      0.5005,      0.5015,      0.5025,      0.5035,\n",
       "            0.5045,     0.50551,     0.50651,     0.50751,     0.50851,     0.50951,     0.51051,     0.51151,     0.51251,     0.51351,     0.51451,     0.51552,     0.51652,     0.51752,     0.51852,     0.51952,     0.52052,     0.52152,     0.52252,     0.52352,     0.52452,     0.52553,     0.52653,     0.52753,\n",
       "           0.52853,     0.52953,     0.53053,     0.53153,     0.53253,     0.53353,     0.53453,     0.53554,     0.53654,     0.53754,     0.53854,     0.53954,     0.54054,     0.54154,     0.54254,     0.54354,     0.54454,     0.54555,     0.54655,     0.54755,     0.54855,     0.54955,     0.55055,     0.55155,\n",
       "           0.55255,     0.55355,     0.55455,     0.55556,     0.55656,     0.55756,     0.55856,     0.55956,     0.56056,     0.56156,     0.56256,     0.56356,     0.56456,     0.56557,     0.56657,     0.56757,     0.56857,     0.56957,     0.57057,     0.57157,     0.57257,     0.57357,     0.57457,     0.57558,\n",
       "           0.57658,     0.57758,     0.57858,     0.57958,     0.58058,     0.58158,     0.58258,     0.58358,     0.58458,     0.58559,     0.58659,     0.58759,     0.58859,     0.58959,     0.59059,     0.59159,     0.59259,     0.59359,     0.59459,      0.5956,      0.5966,      0.5976,      0.5986,      0.5996,\n",
       "            0.6006,      0.6016,      0.6026,      0.6036,      0.6046,     0.60561,     0.60661,     0.60761,     0.60861,     0.60961,     0.61061,     0.61161,     0.61261,     0.61361,     0.61461,     0.61562,     0.61662,     0.61762,     0.61862,     0.61962,     0.62062,     0.62162,     0.62262,     0.62362,\n",
       "           0.62462,     0.62563,     0.62663,     0.62763,     0.62863,     0.62963,     0.63063,     0.63163,     0.63263,     0.63363,     0.63463,     0.63564,     0.63664,     0.63764,     0.63864,     0.63964,     0.64064,     0.64164,     0.64264,     0.64364,     0.64464,     0.64565,     0.64665,     0.64765,\n",
       "           0.64865,     0.64965,     0.65065,     0.65165,     0.65265,     0.65365,     0.65465,     0.65566,     0.65666,     0.65766,     0.65866,     0.65966,     0.66066,     0.66166,     0.66266,     0.66366,     0.66466,     0.66567,     0.66667,     0.66767,     0.66867,     0.66967,     0.67067,     0.67167,\n",
       "           0.67267,     0.67367,     0.67467,     0.67568,     0.67668,     0.67768,     0.67868,     0.67968,     0.68068,     0.68168,     0.68268,     0.68368,     0.68468,     0.68569,     0.68669,     0.68769,     0.68869,     0.68969,     0.69069,     0.69169,     0.69269,     0.69369,     0.69469,      0.6957,\n",
       "            0.6967,      0.6977,      0.6987,      0.6997,      0.7007,      0.7017,      0.7027,      0.7037,      0.7047,     0.70571,     0.70671,     0.70771,     0.70871,     0.70971,     0.71071,     0.71171,     0.71271,     0.71371,     0.71471,     0.71572,     0.71672,     0.71772,     0.71872,     0.71972,\n",
       "           0.72072,     0.72172,     0.72272,     0.72372,     0.72472,     0.72573,     0.72673,     0.72773,     0.72873,     0.72973,     0.73073,     0.73173,     0.73273,     0.73373,     0.73473,     0.73574,     0.73674,     0.73774,     0.73874,     0.73974,     0.74074,     0.74174,     0.74274,     0.74374,\n",
       "           0.74474,     0.74575,     0.74675,     0.74775,     0.74875,     0.74975,     0.75075,     0.75175,     0.75275,     0.75375,     0.75475,     0.75576,     0.75676,     0.75776,     0.75876,     0.75976,     0.76076,     0.76176,     0.76276,     0.76376,     0.76476,     0.76577,     0.76677,     0.76777,\n",
       "           0.76877,     0.76977,     0.77077,     0.77177,     0.77277,     0.77377,     0.77477,     0.77578,     0.77678,     0.77778,     0.77878,     0.77978,     0.78078,     0.78178,     0.78278,     0.78378,     0.78478,     0.78579,     0.78679,     0.78779,     0.78879,     0.78979,     0.79079,     0.79179,\n",
       "           0.79279,     0.79379,     0.79479,      0.7958,      0.7968,      0.7978,      0.7988,      0.7998,      0.8008,      0.8018,      0.8028,      0.8038,      0.8048,     0.80581,     0.80681,     0.80781,     0.80881,     0.80981,     0.81081,     0.81181,     0.81281,     0.81381,     0.81481,     0.81582,\n",
       "           0.81682,     0.81782,     0.81882,     0.81982,     0.82082,     0.82182,     0.82282,     0.82382,     0.82482,     0.82583,     0.82683,     0.82783,     0.82883,     0.82983,     0.83083,     0.83183,     0.83283,     0.83383,     0.83483,     0.83584,     0.83684,     0.83784,     0.83884,     0.83984,\n",
       "           0.84084,     0.84184,     0.84284,     0.84384,     0.84484,     0.84585,     0.84685,     0.84785,     0.84885,     0.84985,     0.85085,     0.85185,     0.85285,     0.85385,     0.85485,     0.85586,     0.85686,     0.85786,     0.85886,     0.85986,     0.86086,     0.86186,     0.86286,     0.86386,\n",
       "           0.86486,     0.86587,     0.86687,     0.86787,     0.86887,     0.86987,     0.87087,     0.87187,     0.87287,     0.87387,     0.87487,     0.87588,     0.87688,     0.87788,     0.87888,     0.87988,     0.88088,     0.88188,     0.88288,     0.88388,     0.88488,     0.88589,     0.88689,     0.88789,\n",
       "           0.88889,     0.88989,     0.89089,     0.89189,     0.89289,     0.89389,     0.89489,      0.8959,      0.8969,      0.8979,      0.8989,      0.8999,      0.9009,      0.9019,      0.9029,      0.9039,      0.9049,     0.90591,     0.90691,     0.90791,     0.90891,     0.90991,     0.91091,     0.91191,\n",
       "           0.91291,     0.91391,     0.91491,     0.91592,     0.91692,     0.91792,     0.91892,     0.91992,     0.92092,     0.92192,     0.92292,     0.92392,     0.92492,     0.92593,     0.92693,     0.92793,     0.92893,     0.92993,     0.93093,     0.93193,     0.93293,     0.93393,     0.93493,     0.93594,\n",
       "           0.93694,     0.93794,     0.93894,     0.93994,     0.94094,     0.94194,     0.94294,     0.94394,     0.94494,     0.94595,     0.94695,     0.94795,     0.94895,     0.94995,     0.95095,     0.95195,     0.95295,     0.95395,     0.95495,     0.95596,     0.95696,     0.95796,     0.95896,     0.95996,\n",
       "           0.96096,     0.96196,     0.96296,     0.96396,     0.96496,     0.96597,     0.96697,     0.96797,     0.96897,     0.96997,     0.97097,     0.97197,     0.97297,     0.97397,     0.97497,     0.97598,     0.97698,     0.97798,     0.97898,     0.97998,     0.98098,     0.98198,     0.98298,     0.98398,\n",
       "           0.98498,     0.98599,     0.98699,     0.98799,     0.98899,     0.98999,     0.99099,     0.99199,     0.99299,     0.99399,     0.99499,       0.996,       0.997,       0.998,       0.999,           1]), array([[          1,           1,           1,           1,           1,           1,           1,           1,           1,           1,           1,           1,           1,           1,           1,           1,           1,           1,           1,           1,           1,           1,           1,\n",
       "                  1,           1,           1,           1,           1,           1,           1,           1,           1,           1,           1,           1,           1,           1,           1,           1,           1,           1,           1,           1,           1,           1,           1,\n",
       "                  1,           1,           1,           1,           1,           1,           1,           1,           1,           1,           1,           1,           1,           1,           1,           1,           1,           1,           1,           1,           1,           1,           1,\n",
       "                  1,           1,           1,           1,           1,           1,           1,           1,           1,           1,           1,           1,           1,           1,           1,           1,           1,           1,           1,           1,           1,           1,           1,\n",
       "                  1,           1,           1,           1,           1,           1,           1,           1,           1,           1,           1,           1,           1,           1,           1,           1,           1,           1,           1,           1,           1,           1,           1,\n",
       "                  1,           1,           1,           1,           1,           1,           1,           1,           1,           1,           1,           1,           1,           1,           1,           1,           1,           1,           1,           1,           1,           1,           1,\n",
       "                  1,           1,           1,           1,           1,           1,           1,           1,           1,           1,           1,           1,           1,           1,           1,           1,           1,           1,           1,           1,           1,           1,           1,\n",
       "                  1,           1,           1,           1,           1,           1,           1,           1,           1,           1,           1,           1,           1,           1,           1,           1,           1,           1,           1,           1,           1,           1,           1,\n",
       "                  1,           1,           1,           1,           1,           1,           1,           1,           1,           1,           1,           1,           1,           1,           1,           1,           1,           1,           1,           1,           1,           1,           1,\n",
       "                  1,           1,           1,           1,           1,           1,           1,           1,           1,           1,           1,           1,           1,           1,           1,           1,           1,           1,           1,           1,           1,           1,           1,\n",
       "                  1,           1,           1,           1,           1,           1,           1,           1,           1,           1,           1,           1,           1,           1,           1,           1,           1,           1,           1,           1,           1,           1,           1,\n",
       "                  1,           1,           1,           1,           1,           1,           1,           1,           1,           1,           1,           1,           1,           1,           1,           1,           1,           1,           1,           1,           1,           1,           1,\n",
       "                  1,           1,           1,           1,           1,           1,           1,           1,           1,           1,           1,           1,           1,           1,           1,           1,           1,           1,           1,           1,     0.99371,     0.99371,     0.99371,\n",
       "            0.99371,     0.99371,     0.99371,     0.99371,     0.99371,     0.99371,     0.99371,     0.99267,     0.99267,     0.99267,     0.99267,     0.99267,     0.99267,     0.99267,     0.99267,     0.99267,     0.99267,     0.99267,     0.99267,     0.99267,     0.99267,     0.99267,     0.99267,\n",
       "            0.99267,     0.99267,     0.99267,     0.99267,     0.99267,     0.99267,     0.99267,     0.99267,     0.99267,     0.99267,     0.99267,     0.99267,     0.99267,     0.99267,     0.99267,     0.99267,     0.99267,     0.99267,     0.99267,     0.99267,     0.99267,     0.99267,     0.99267,\n",
       "            0.99267,     0.99267,     0.99267,     0.99267,     0.99267,     0.99267,     0.99267,     0.99267,     0.99267,     0.99267,     0.99267,     0.99267,     0.99267,     0.99267,     0.99267,     0.99267,     0.99267,     0.99267,     0.99267,     0.99267,     0.99267,     0.99267,     0.99267,\n",
       "            0.99267,     0.99267,     0.99267,     0.99267,     0.99267,     0.99267,     0.99267,     0.99267,     0.99267,     0.99267,     0.99267,     0.99267,     0.99267,     0.99267,     0.99267,     0.99267,     0.99267,     0.99267,     0.99267,     0.99267,     0.99267,     0.99267,     0.99267,\n",
       "            0.99267,     0.99267,     0.99267,     0.99267,     0.99267,     0.99267,     0.99267,     0.99267,     0.99267,     0.99267,     0.99267,     0.99267,     0.99267,     0.99267,     0.99267,     0.99267,     0.99267,     0.99267,     0.99267,     0.99267,     0.99267,     0.99267,     0.99267,\n",
       "            0.99267,     0.99267,     0.99267,     0.99267,     0.99267,     0.99267,     0.99267,     0.99267,     0.99267,     0.99267,     0.99267,     0.99267,     0.99267,     0.99267,     0.99267,     0.99267,     0.99267,     0.99267,     0.99267,     0.99267,     0.99267,     0.99267,     0.99267,\n",
       "            0.99267,     0.99267,     0.99267,     0.99267,     0.99267,     0.99267,     0.99267,     0.99267,     0.99267,     0.99267,     0.99267,     0.99267,     0.99267,     0.99267,     0.99267,     0.99267,     0.99267,     0.99267,     0.99267,     0.99267,     0.99267,     0.99267,     0.99267,\n",
       "            0.99267,     0.99267,     0.99267,     0.99267,     0.99267,     0.99267,     0.99267,     0.99267,     0.99267,     0.99267,     0.99267,     0.99267,     0.99267,     0.99267,     0.99267,     0.99267,     0.99267,     0.99267,     0.99267,     0.99267,     0.99267,     0.99267,     0.99267,\n",
       "            0.99267,     0.99267,     0.99267,     0.99267,     0.99267,     0.99267,     0.99267,     0.99267,     0.99267,     0.99267,     0.99267,     0.99267,     0.99267,     0.99267,     0.99267,     0.99267,     0.99267,     0.99267,     0.99267,     0.99267,     0.99267,     0.99267,     0.99267,\n",
       "            0.99267,     0.99267,     0.99267,     0.99267,     0.99267,     0.99267,     0.99267,     0.99267,     0.99267,     0.99267,     0.99267,     0.99267,     0.99267,     0.99267,     0.99267,     0.99267,     0.99267,     0.99267,     0.98913,     0.98913,     0.98913,     0.98913,      0.9891,\n",
       "             0.9891,      0.9891,      0.9891,      0.9891,      0.9891,      0.9891,      0.9891,      0.9891,      0.9891,      0.9891,      0.9891,      0.9891,      0.9891,      0.9891,      0.9891,      0.9891,      0.9891,      0.9891,      0.9891,      0.9891,      0.9891,      0.9891,      0.9891,\n",
       "             0.9891,      0.9891,      0.9891,      0.9891,      0.9891,      0.9891,      0.9891,      0.9891,      0.9891,      0.9891,      0.9891,      0.9891,      0.9891,      0.9891,      0.9891,      0.9891,      0.9891,      0.9891,      0.9891,      0.9891,      0.9891,      0.9891,      0.9891,\n",
       "             0.9891,      0.9891,      0.9891,      0.9891,      0.9891,      0.9891,      0.9891,      0.9891,      0.9891,      0.9891,      0.9891,      0.9891,      0.9891,      0.9891,      0.9891,      0.9891,      0.9891,      0.9891,      0.9891,      0.9891,      0.9891,      0.9891,      0.9891,\n",
       "             0.9891,      0.9891,      0.9891,      0.9891,      0.9891,      0.9891,      0.9891,      0.9891,      0.9891,      0.9891,      0.9891,      0.9891,      0.9891,      0.9891,      0.9891,      0.9891,      0.9891,      0.9891,      0.9891,      0.9891,      0.9891,      0.9891,      0.9891,\n",
       "             0.9891,      0.9891,      0.9891,      0.9891,      0.9891,      0.9891,      0.9891,      0.9891,      0.9891,      0.9891,      0.9891,      0.9891,      0.9891,      0.9891,      0.9891,      0.9891,      0.9891,      0.9891,      0.9891,      0.9891,      0.9891,      0.9891,      0.9891,\n",
       "             0.9891,      0.9891,      0.9891,      0.9891,      0.9891,      0.9891,      0.9891,      0.9891,      0.9891,      0.9891,      0.9891,      0.9891,      0.9891,      0.9891,      0.9891,      0.9891,      0.9891,      0.9891,      0.9891,      0.9891,      0.9891,      0.9891,      0.9891,\n",
       "             0.9891,      0.9891,      0.9891,      0.9891,      0.9891,      0.9891,      0.9891,      0.9891,      0.9891,      0.9891,      0.9891,      0.9891,      0.9891,      0.9891,      0.9891,      0.9891,      0.9891,      0.9891,      0.9891,      0.9891,      0.9891,      0.9891,      0.9891,\n",
       "             0.9891,      0.9891,      0.9891,      0.9891,      0.9891,      0.9891,      0.9891,      0.9891,      0.9891,      0.9891,      0.9891,      0.9891,     0.98744,     0.98744,     0.98744,     0.98744,     0.98744,     0.98744,     0.98744,     0.98744,     0.98744,     0.98744,     0.98744,\n",
       "            0.98744,     0.98744,     0.98744,     0.98744,     0.98744,     0.98744,     0.98744,     0.98744,     0.98744,     0.98744,     0.98744,     0.98744,     0.98744,     0.98744,     0.98744,     0.98744,     0.98744,     0.98744,     0.98744,     0.98744,     0.98744,     0.98744,     0.98744,\n",
       "            0.98744,     0.98744,     0.98744,     0.98744,     0.98744,     0.98744,     0.98744,     0.98744,     0.98744,     0.98744,     0.98744,     0.98744,     0.98744,     0.98744,     0.98744,     0.98744,     0.98744,     0.98744,     0.98744,     0.98744,     0.98744,     0.98744,     0.98744,\n",
       "            0.98744,     0.98515,     0.98515,     0.98515,     0.98515,     0.98515,     0.98515,     0.98515,     0.98515,     0.98515,     0.98515,      0.9828,      0.9828,      0.9828,     0.98109,     0.98109,     0.98109,     0.98109,     0.98109,     0.98109,     0.98109,     0.98109,     0.98109,\n",
       "            0.98109,     0.98109,     0.98109,     0.98109,     0.98109,     0.98109,     0.98109,     0.98109,     0.98109,     0.98109,     0.98109,     0.98109,     0.98109,     0.98109,     0.98109,     0.98109,     0.98109,     0.98109,     0.98109,     0.98109,     0.97987,     0.97987,     0.97987,\n",
       "            0.97987,     0.97987,     0.97987,     0.97987,     0.97987,     0.97987,     0.97987,     0.97987,     0.97987,     0.97987,     0.97987,     0.97987,     0.97987,     0.97987,     0.97987,     0.97987,     0.97987,     0.97987,     0.97987,     0.97987,     0.97987,     0.97987,     0.97987,\n",
       "            0.97987,     0.97987,     0.97987,     0.97987,     0.97987,     0.97987,     0.97987,     0.97987,     0.97987,     0.97987,     0.97987,     0.97987,     0.97987,     0.97987,     0.97987,     0.97987,     0.97987,     0.97987,     0.97987,     0.97783,     0.97783,     0.97783,     0.97783,\n",
       "            0.97783,     0.97783,     0.97655,     0.97655,     0.97655,     0.97655,     0.97655,     0.97655,     0.97655,     0.97655,     0.97655,     0.97655,     0.97655,     0.97655,     0.97655,     0.97655,     0.97655,     0.97655,     0.97655,     0.97655,     0.97655,     0.97655,     0.97655,\n",
       "            0.97655,     0.97655,     0.97655,     0.97655,     0.97655,     0.97655,     0.97655,     0.97655,     0.97655,     0.97655,     0.97655,     0.97468,     0.97468,     0.97468,     0.97468,     0.97468,     0.97468,     0.97468,     0.97468,      0.9728,      0.9728,      0.9728,      0.9728,\n",
       "             0.9728,      0.9728,     0.96881,     0.96881,     0.96694,     0.96694,     0.96694,     0.96694,     0.96304,     0.96304,     0.96122,     0.96122,     0.96122,     0.96122,     0.95749,     0.95749,     0.95749,     0.95565,     0.95565,     0.94622,     0.94622,     0.94466,     0.94466,\n",
       "            0.94466,     0.94466,     0.94466,     0.94466,     0.93922,     0.93922,      0.9375,      0.9375,      0.9358,      0.9358,      0.9305,      0.9305,     0.92176,     0.92176,     0.91667,     0.91667,     0.91509,     0.91509,     0.91011,     0.91011,      0.9052,      0.9052,     0.89214,\n",
       "            0.87166,     0.87166,     0.86268,     0.86268,     0.80788,     0.80788,     0.80788,     0.80788,     0.80293,     0.80293,     0.79677,     0.79677,     0.65476,     0.65476,     0.63024,     0.63024,     0.52816,     0.52816,      0.4835,      0.4835,     0.41549,     0.41549,     0.32154,\n",
       "            0.32154,     0.27741,     0.27741,      0.2589,      0.2589,     0.25137,     0.24291,     0.24291,     0.24291,     0.24291,     0.23393,     0.23393,     0.15013,     0.14298,     0.13583,     0.12868,     0.12153,     0.11438,     0.10723,     0.10008,    0.092936,    0.085787,    0.078638,\n",
       "           0.071489,     0.06434,    0.057191,    0.050042,    0.042893,    0.035744,    0.028596,    0.021447,    0.014298,   0.0071489,           0]]), 'Recall', 'Precision'], [array([          0,    0.001001,    0.002002,    0.003003,    0.004004,    0.005005,    0.006006,    0.007007,    0.008008,    0.009009,     0.01001,    0.011011,    0.012012,    0.013013,    0.014014,    0.015015,    0.016016,    0.017017,    0.018018,    0.019019,     0.02002,    0.021021,    0.022022,    0.023023,\n",
       "          0.024024,    0.025025,    0.026026,    0.027027,    0.028028,    0.029029,     0.03003,    0.031031,    0.032032,    0.033033,    0.034034,    0.035035,    0.036036,    0.037037,    0.038038,    0.039039,     0.04004,    0.041041,    0.042042,    0.043043,    0.044044,    0.045045,    0.046046,    0.047047,\n",
       "          0.048048,    0.049049,     0.05005,    0.051051,    0.052052,    0.053053,    0.054054,    0.055055,    0.056056,    0.057057,    0.058058,    0.059059,     0.06006,    0.061061,    0.062062,    0.063063,    0.064064,    0.065065,    0.066066,    0.067067,    0.068068,    0.069069,     0.07007,    0.071071,\n",
       "          0.072072,    0.073073,    0.074074,    0.075075,    0.076076,    0.077077,    0.078078,    0.079079,     0.08008,    0.081081,    0.082082,    0.083083,    0.084084,    0.085085,    0.086086,    0.087087,    0.088088,    0.089089,     0.09009,    0.091091,    0.092092,    0.093093,    0.094094,    0.095095,\n",
       "          0.096096,    0.097097,    0.098098,    0.099099,      0.1001,      0.1011,      0.1021,      0.1031,      0.1041,     0.10511,     0.10611,     0.10711,     0.10811,     0.10911,     0.11011,     0.11111,     0.11211,     0.11311,     0.11411,     0.11512,     0.11612,     0.11712,     0.11812,     0.11912,\n",
       "           0.12012,     0.12112,     0.12212,     0.12312,     0.12412,     0.12513,     0.12613,     0.12713,     0.12813,     0.12913,     0.13013,     0.13113,     0.13213,     0.13313,     0.13413,     0.13514,     0.13614,     0.13714,     0.13814,     0.13914,     0.14014,     0.14114,     0.14214,     0.14314,\n",
       "           0.14414,     0.14515,     0.14615,     0.14715,     0.14815,     0.14915,     0.15015,     0.15115,     0.15215,     0.15315,     0.15415,     0.15516,     0.15616,     0.15716,     0.15816,     0.15916,     0.16016,     0.16116,     0.16216,     0.16316,     0.16416,     0.16517,     0.16617,     0.16717,\n",
       "           0.16817,     0.16917,     0.17017,     0.17117,     0.17217,     0.17317,     0.17417,     0.17518,     0.17618,     0.17718,     0.17818,     0.17918,     0.18018,     0.18118,     0.18218,     0.18318,     0.18418,     0.18519,     0.18619,     0.18719,     0.18819,     0.18919,     0.19019,     0.19119,\n",
       "           0.19219,     0.19319,     0.19419,      0.1952,      0.1962,      0.1972,      0.1982,      0.1992,      0.2002,      0.2012,      0.2022,      0.2032,      0.2042,     0.20521,     0.20621,     0.20721,     0.20821,     0.20921,     0.21021,     0.21121,     0.21221,     0.21321,     0.21421,     0.21522,\n",
       "           0.21622,     0.21722,     0.21822,     0.21922,     0.22022,     0.22122,     0.22222,     0.22322,     0.22422,     0.22523,     0.22623,     0.22723,     0.22823,     0.22923,     0.23023,     0.23123,     0.23223,     0.23323,     0.23423,     0.23524,     0.23624,     0.23724,     0.23824,     0.23924,\n",
       "           0.24024,     0.24124,     0.24224,     0.24324,     0.24424,     0.24525,     0.24625,     0.24725,     0.24825,     0.24925,     0.25025,     0.25125,     0.25225,     0.25325,     0.25425,     0.25526,     0.25626,     0.25726,     0.25826,     0.25926,     0.26026,     0.26126,     0.26226,     0.26326,\n",
       "           0.26426,     0.26527,     0.26627,     0.26727,     0.26827,     0.26927,     0.27027,     0.27127,     0.27227,     0.27327,     0.27427,     0.27528,     0.27628,     0.27728,     0.27828,     0.27928,     0.28028,     0.28128,     0.28228,     0.28328,     0.28428,     0.28529,     0.28629,     0.28729,\n",
       "           0.28829,     0.28929,     0.29029,     0.29129,     0.29229,     0.29329,     0.29429,      0.2953,      0.2963,      0.2973,      0.2983,      0.2993,      0.3003,      0.3013,      0.3023,      0.3033,      0.3043,     0.30531,     0.30631,     0.30731,     0.30831,     0.30931,     0.31031,     0.31131,\n",
       "           0.31231,     0.31331,     0.31431,     0.31532,     0.31632,     0.31732,     0.31832,     0.31932,     0.32032,     0.32132,     0.32232,     0.32332,     0.32432,     0.32533,     0.32633,     0.32733,     0.32833,     0.32933,     0.33033,     0.33133,     0.33233,     0.33333,     0.33433,     0.33534,\n",
       "           0.33634,     0.33734,     0.33834,     0.33934,     0.34034,     0.34134,     0.34234,     0.34334,     0.34434,     0.34535,     0.34635,     0.34735,     0.34835,     0.34935,     0.35035,     0.35135,     0.35235,     0.35335,     0.35435,     0.35536,     0.35636,     0.35736,     0.35836,     0.35936,\n",
       "           0.36036,     0.36136,     0.36236,     0.36336,     0.36436,     0.36537,     0.36637,     0.36737,     0.36837,     0.36937,     0.37037,     0.37137,     0.37237,     0.37337,     0.37437,     0.37538,     0.37638,     0.37738,     0.37838,     0.37938,     0.38038,     0.38138,     0.38238,     0.38338,\n",
       "           0.38438,     0.38539,     0.38639,     0.38739,     0.38839,     0.38939,     0.39039,     0.39139,     0.39239,     0.39339,     0.39439,      0.3954,      0.3964,      0.3974,      0.3984,      0.3994,      0.4004,      0.4014,      0.4024,      0.4034,      0.4044,     0.40541,     0.40641,     0.40741,\n",
       "           0.40841,     0.40941,     0.41041,     0.41141,     0.41241,     0.41341,     0.41441,     0.41542,     0.41642,     0.41742,     0.41842,     0.41942,     0.42042,     0.42142,     0.42242,     0.42342,     0.42442,     0.42543,     0.42643,     0.42743,     0.42843,     0.42943,     0.43043,     0.43143,\n",
       "           0.43243,     0.43343,     0.43443,     0.43544,     0.43644,     0.43744,     0.43844,     0.43944,     0.44044,     0.44144,     0.44244,     0.44344,     0.44444,     0.44545,     0.44645,     0.44745,     0.44845,     0.44945,     0.45045,     0.45145,     0.45245,     0.45345,     0.45445,     0.45546,\n",
       "           0.45646,     0.45746,     0.45846,     0.45946,     0.46046,     0.46146,     0.46246,     0.46346,     0.46446,     0.46547,     0.46647,     0.46747,     0.46847,     0.46947,     0.47047,     0.47147,     0.47247,     0.47347,     0.47447,     0.47548,     0.47648,     0.47748,     0.47848,     0.47948,\n",
       "           0.48048,     0.48148,     0.48248,     0.48348,     0.48448,     0.48549,     0.48649,     0.48749,     0.48849,     0.48949,     0.49049,     0.49149,     0.49249,     0.49349,     0.49449,      0.4955,      0.4965,      0.4975,      0.4985,      0.4995,      0.5005,      0.5015,      0.5025,      0.5035,\n",
       "            0.5045,     0.50551,     0.50651,     0.50751,     0.50851,     0.50951,     0.51051,     0.51151,     0.51251,     0.51351,     0.51451,     0.51552,     0.51652,     0.51752,     0.51852,     0.51952,     0.52052,     0.52152,     0.52252,     0.52352,     0.52452,     0.52553,     0.52653,     0.52753,\n",
       "           0.52853,     0.52953,     0.53053,     0.53153,     0.53253,     0.53353,     0.53453,     0.53554,     0.53654,     0.53754,     0.53854,     0.53954,     0.54054,     0.54154,     0.54254,     0.54354,     0.54454,     0.54555,     0.54655,     0.54755,     0.54855,     0.54955,     0.55055,     0.55155,\n",
       "           0.55255,     0.55355,     0.55455,     0.55556,     0.55656,     0.55756,     0.55856,     0.55956,     0.56056,     0.56156,     0.56256,     0.56356,     0.56456,     0.56557,     0.56657,     0.56757,     0.56857,     0.56957,     0.57057,     0.57157,     0.57257,     0.57357,     0.57457,     0.57558,\n",
       "           0.57658,     0.57758,     0.57858,     0.57958,     0.58058,     0.58158,     0.58258,     0.58358,     0.58458,     0.58559,     0.58659,     0.58759,     0.58859,     0.58959,     0.59059,     0.59159,     0.59259,     0.59359,     0.59459,      0.5956,      0.5966,      0.5976,      0.5986,      0.5996,\n",
       "            0.6006,      0.6016,      0.6026,      0.6036,      0.6046,     0.60561,     0.60661,     0.60761,     0.60861,     0.60961,     0.61061,     0.61161,     0.61261,     0.61361,     0.61461,     0.61562,     0.61662,     0.61762,     0.61862,     0.61962,     0.62062,     0.62162,     0.62262,     0.62362,\n",
       "           0.62462,     0.62563,     0.62663,     0.62763,     0.62863,     0.62963,     0.63063,     0.63163,     0.63263,     0.63363,     0.63463,     0.63564,     0.63664,     0.63764,     0.63864,     0.63964,     0.64064,     0.64164,     0.64264,     0.64364,     0.64464,     0.64565,     0.64665,     0.64765,\n",
       "           0.64865,     0.64965,     0.65065,     0.65165,     0.65265,     0.65365,     0.65465,     0.65566,     0.65666,     0.65766,     0.65866,     0.65966,     0.66066,     0.66166,     0.66266,     0.66366,     0.66466,     0.66567,     0.66667,     0.66767,     0.66867,     0.66967,     0.67067,     0.67167,\n",
       "           0.67267,     0.67367,     0.67467,     0.67568,     0.67668,     0.67768,     0.67868,     0.67968,     0.68068,     0.68168,     0.68268,     0.68368,     0.68468,     0.68569,     0.68669,     0.68769,     0.68869,     0.68969,     0.69069,     0.69169,     0.69269,     0.69369,     0.69469,      0.6957,\n",
       "            0.6967,      0.6977,      0.6987,      0.6997,      0.7007,      0.7017,      0.7027,      0.7037,      0.7047,     0.70571,     0.70671,     0.70771,     0.70871,     0.70971,     0.71071,     0.71171,     0.71271,     0.71371,     0.71471,     0.71572,     0.71672,     0.71772,     0.71872,     0.71972,\n",
       "           0.72072,     0.72172,     0.72272,     0.72372,     0.72472,     0.72573,     0.72673,     0.72773,     0.72873,     0.72973,     0.73073,     0.73173,     0.73273,     0.73373,     0.73473,     0.73574,     0.73674,     0.73774,     0.73874,     0.73974,     0.74074,     0.74174,     0.74274,     0.74374,\n",
       "           0.74474,     0.74575,     0.74675,     0.74775,     0.74875,     0.74975,     0.75075,     0.75175,     0.75275,     0.75375,     0.75475,     0.75576,     0.75676,     0.75776,     0.75876,     0.75976,     0.76076,     0.76176,     0.76276,     0.76376,     0.76476,     0.76577,     0.76677,     0.76777,\n",
       "           0.76877,     0.76977,     0.77077,     0.77177,     0.77277,     0.77377,     0.77477,     0.77578,     0.77678,     0.77778,     0.77878,     0.77978,     0.78078,     0.78178,     0.78278,     0.78378,     0.78478,     0.78579,     0.78679,     0.78779,     0.78879,     0.78979,     0.79079,     0.79179,\n",
       "           0.79279,     0.79379,     0.79479,      0.7958,      0.7968,      0.7978,      0.7988,      0.7998,      0.8008,      0.8018,      0.8028,      0.8038,      0.8048,     0.80581,     0.80681,     0.80781,     0.80881,     0.80981,     0.81081,     0.81181,     0.81281,     0.81381,     0.81481,     0.81582,\n",
       "           0.81682,     0.81782,     0.81882,     0.81982,     0.82082,     0.82182,     0.82282,     0.82382,     0.82482,     0.82583,     0.82683,     0.82783,     0.82883,     0.82983,     0.83083,     0.83183,     0.83283,     0.83383,     0.83483,     0.83584,     0.83684,     0.83784,     0.83884,     0.83984,\n",
       "           0.84084,     0.84184,     0.84284,     0.84384,     0.84484,     0.84585,     0.84685,     0.84785,     0.84885,     0.84985,     0.85085,     0.85185,     0.85285,     0.85385,     0.85485,     0.85586,     0.85686,     0.85786,     0.85886,     0.85986,     0.86086,     0.86186,     0.86286,     0.86386,\n",
       "           0.86486,     0.86587,     0.86687,     0.86787,     0.86887,     0.86987,     0.87087,     0.87187,     0.87287,     0.87387,     0.87487,     0.87588,     0.87688,     0.87788,     0.87888,     0.87988,     0.88088,     0.88188,     0.88288,     0.88388,     0.88488,     0.88589,     0.88689,     0.88789,\n",
       "           0.88889,     0.88989,     0.89089,     0.89189,     0.89289,     0.89389,     0.89489,      0.8959,      0.8969,      0.8979,      0.8989,      0.8999,      0.9009,      0.9019,      0.9029,      0.9039,      0.9049,     0.90591,     0.90691,     0.90791,     0.90891,     0.90991,     0.91091,     0.91191,\n",
       "           0.91291,     0.91391,     0.91491,     0.91592,     0.91692,     0.91792,     0.91892,     0.91992,     0.92092,     0.92192,     0.92292,     0.92392,     0.92492,     0.92593,     0.92693,     0.92793,     0.92893,     0.92993,     0.93093,     0.93193,     0.93293,     0.93393,     0.93493,     0.93594,\n",
       "           0.93694,     0.93794,     0.93894,     0.93994,     0.94094,     0.94194,     0.94294,     0.94394,     0.94494,     0.94595,     0.94695,     0.94795,     0.94895,     0.94995,     0.95095,     0.95195,     0.95295,     0.95395,     0.95495,     0.95596,     0.95696,     0.95796,     0.95896,     0.95996,\n",
       "           0.96096,     0.96196,     0.96296,     0.96396,     0.96496,     0.96597,     0.96697,     0.96797,     0.96897,     0.96997,     0.97097,     0.97197,     0.97297,     0.97397,     0.97497,     0.97598,     0.97698,     0.97798,     0.97898,     0.97998,     0.98098,     0.98198,     0.98298,     0.98398,\n",
       "           0.98498,     0.98599,     0.98699,     0.98799,     0.98899,     0.98999,     0.99099,     0.99199,     0.99299,     0.99399,     0.99499,       0.996,       0.997,       0.998,       0.999,           1]), array([[    0.26306,     0.26306,      0.3468,     0.39967,     0.44581,     0.48174,     0.51819,     0.55409,     0.57992,     0.60559,     0.61979,     0.64032,      0.6483,     0.65565,     0.66513,     0.67527,     0.68315,     0.69059,     0.69882,     0.70589,     0.71217,     0.71548,     0.72395,\n",
       "               0.76,     0.76241,     0.76623,     0.76912,     0.77384,     0.77689,     0.77684,     0.77935,     0.78431,     0.78575,     0.78688,     0.78886,     0.79242,     0.79448,     0.79906,     0.80262,     0.80453,     0.80772,     0.81058,     0.81308,     0.81478,     0.81522,     0.81739,\n",
       "             0.8184,     0.82113,     0.82394,      0.8261,     0.82799,     0.82908,     0.83124,     0.83256,     0.83398,     0.83552,      0.8368,     0.83714,     0.83845,     0.84023,      0.8419,     0.84474,     0.84657,     0.84774,     0.84939,     0.85031,     0.85105,     0.85172,     0.85336,\n",
       "            0.85487,     0.85566,     0.85672,     0.85724,     0.85766,     0.86022,     0.86119,     0.86353,     0.86411,     0.86551,     0.86622,     0.86667,     0.86732,     0.86818,     0.86815,     0.87005,     0.87146,     0.87129,      0.8724,     0.87253,     0.87266,      0.8728,     0.87293,\n",
       "            0.87306,     0.87383,     0.87309,     0.87196,     0.87207,     0.87227,     0.87246,     0.87266,     0.87309,     0.87352,     0.87388,     0.87438,     0.87601,     0.87667,     0.87685,     0.87703,      0.8772,     0.87758,     0.87863,     0.88035,      0.8823,      0.8845,     0.88466,\n",
       "            0.88482,     0.88498,     0.88514,     0.88553,     0.88636,     0.88676,     0.88783,     0.88804,     0.88826,     0.88847,      0.8889,     0.89017,     0.89064,     0.89133,     0.89185,     0.89208,     0.89231,     0.89262,     0.89446,     0.89548,     0.89595,     0.89612,      0.8963,\n",
       "            0.89648,     0.89674,      0.8973,     0.89757,     0.89774,     0.89791,     0.89809,     0.89826,     0.89882,     0.89934,     0.89983,     0.90007,     0.90026,     0.90046,     0.90065,     0.90106,      0.9016,     0.90201,     0.90241,     0.90281,     0.90321,     0.90224,     0.90239,\n",
       "            0.90256,     0.90274,     0.90291,     0.90312,     0.90343,     0.90374,     0.90429,     0.90485,     0.90515,     0.90545,     0.90604,     0.90674,     0.90626,     0.90636,     0.90646,     0.90656,     0.90666,     0.90676,     0.90686,     0.90696,     0.90705,     0.90776,     0.90828,\n",
       "            0.90874,     0.90932,      0.9099,     0.91045,     0.91054,     0.91063,     0.91072,     0.91081,     0.91089,     0.91098,     0.91107,     0.91116,     0.91125,     0.91141,     0.91168,     0.91195,      0.9125,     0.91315,     0.91337,      0.9136,     0.91383,     0.91392,       0.914,\n",
       "            0.91408,     0.91416,     0.91424,     0.91432,     0.91439,     0.91447,     0.91455,     0.91463,     0.91471,     0.91568,     0.91638,     0.91722,     0.91684,     0.91646,     0.91661,     0.91739,     0.91818,     0.91849,     0.91879,     0.91898,     0.91912,     0.91926,      0.9194,\n",
       "            0.91955,     0.91969,     0.91987,     0.92007,     0.92028,     0.92048,     0.92108,     0.92321,     0.92292,     0.92263,     0.92234,     0.92225,     0.92235,     0.92246,     0.92256,     0.92266,     0.92276,     0.92286,     0.92296,     0.92306,     0.92396,     0.92384,     0.92394,\n",
       "            0.92404,     0.92414,     0.92424,     0.92434,     0.92444,     0.92454,     0.92464,     0.92476,     0.92491,     0.92505,      0.9252,     0.92534,     0.92549,     0.92562,     0.92573,     0.92584,     0.92596,     0.92607,     0.92618,      0.9263,     0.92641,     0.92625,      0.9259,\n",
       "            0.92555,     0.92552,     0.92566,      0.9258,     0.92594,     0.92608,     0.92622,      0.9263,     0.92624,     0.92618,     0.92612,     0.92607,     0.92601,     0.92595,     0.92589,     0.92584,     0.92578,     0.92572,     0.92566,      0.9256,     0.92555,     0.92549,     0.92543,\n",
       "            0.92537,     0.92532,     0.92548,     0.92584,      0.9262,     0.92657,     0.92693,     0.92715,     0.92729,     0.92742,     0.92756,     0.92769,     0.92783,     0.92794,     0.92771,     0.92747,     0.92724,       0.927,     0.92727,     0.92779,     0.92786,     0.92791,     0.92796,\n",
       "            0.92801,     0.92806,     0.92811,     0.92816,     0.92821,     0.92826,     0.92831,     0.92836,     0.92841,     0.92846,     0.92851,     0.92856,     0.92861,     0.92866,      0.9287,     0.92877,     0.92884,     0.92891,     0.92898,     0.92904,     0.92911,     0.92918,     0.92925,\n",
       "            0.92932,     0.92938,     0.92945,     0.92952,     0.92959,     0.92969,      0.9298,     0.92991,     0.93002,     0.93013,     0.93024,     0.93036,     0.93047,     0.93135,     0.93134,     0.93128,     0.93122,     0.93116,     0.93111,     0.93105,     0.93099,     0.93093,     0.93087,\n",
       "            0.93081,     0.93075,     0.93069,     0.93063,     0.93057,     0.93051,     0.93045,     0.93039,     0.93048,     0.93064,     0.93081,     0.93098,     0.93115,     0.93135,     0.93166,     0.93197,      0.9325,     0.93299,     0.93277,     0.93254,     0.93232,      0.9321,     0.93207,\n",
       "            0.93212,     0.93216,      0.9322,     0.93225,     0.93229,     0.93234,     0.93238,     0.93243,     0.93247,     0.93251,     0.93256,      0.9326,     0.93265,     0.93269,     0.93273,     0.93278,     0.93282,     0.93287,     0.93291,     0.93281,     0.93228,     0.93205,     0.93251,\n",
       "            0.93274,     0.93251,     0.93229,     0.93206,     0.93184,     0.93335,     0.93394,     0.93441,      0.9342,     0.93381,     0.93345,     0.93337,     0.93329,      0.9332,     0.93312,     0.93304,     0.93295,     0.93287,     0.93278,      0.9327,     0.93262,     0.93253,     0.93245,\n",
       "            0.93218,     0.93182,     0.93146,     0.93207,     0.93187,     0.93134,     0.93132,     0.93143,     0.93153,     0.93164,     0.93174,     0.93184,     0.93195,     0.93205,     0.93216,     0.93248,     0.93279,     0.93321,     0.93403,     0.93415,     0.93427,     0.93439,     0.93451,\n",
       "            0.93462,     0.93474,     0.93486,     0.93545,     0.93571,     0.93549,     0.93527,     0.93506,     0.93484,     0.93546,     0.93555,     0.93533,     0.93511,      0.9349,     0.93468,     0.93434,     0.93398,     0.93362,     0.93363,     0.93367,     0.93371,     0.93375,     0.93379,\n",
       "            0.93382,     0.93386,      0.9339,     0.93394,     0.93398,     0.93401,     0.93405,     0.93409,     0.93413,     0.93417,      0.9342,     0.93424,     0.93428,     0.93432,     0.93435,     0.93439,     0.93443,     0.93447,     0.93451,     0.93505,     0.93535,     0.93517,     0.93499,\n",
       "            0.93481,     0.93463,     0.93444,       0.934,     0.93346,     0.93407,     0.93383,     0.93329,      0.9333,     0.93342,     0.93354,     0.93366,     0.93378,      0.9339,     0.93402,     0.93414,     0.93438,     0.93462,     0.93486,     0.93492,     0.93397,     0.93379,     0.93361,\n",
       "            0.93342,     0.93324,     0.93306,     0.93299,     0.93318,     0.93338,     0.93357,     0.93376,     0.93363,     0.93309,     0.93295,     0.93327,     0.93359,     0.93378,     0.93387,     0.93396,     0.93405,     0.93413,     0.93422,     0.93431,      0.9344,     0.93448,     0.93457,\n",
       "            0.93466,     0.93457,     0.93444,     0.93431,     0.93418,     0.93405,     0.93392,     0.93379,     0.93366,     0.93355,     0.93345,     0.93335,     0.93325,     0.93315,     0.93305,     0.93295,     0.93285,     0.93275,     0.93265,     0.93255,     0.93165,     0.93224,     0.93226,\n",
       "             0.9321,     0.93194,     0.93178,     0.93163,     0.93147,     0.93022,     0.92912,     0.92838,     0.92834,     0.92882,     0.92891,     0.92875,     0.92859,     0.92843,     0.92827,     0.92811,     0.92795,     0.92781,     0.92768,     0.92755,     0.92742,     0.92729,     0.92716,\n",
       "            0.92703,     0.92689,     0.92679,     0.92672,     0.92665,     0.92658,      0.9265,     0.92643,     0.92636,     0.92629,     0.92622,     0.92614,     0.92607,       0.926,     0.92593,     0.92585,     0.92578,     0.92447,     0.92402,     0.92357,     0.92328,       0.923,     0.92272,\n",
       "            0.92244,     0.92229,     0.92214,     0.92199,     0.92184,     0.92169,     0.92154,     0.92139,     0.92053,     0.91982,     0.91926,     0.91888,     0.91856,     0.91823,      0.9176,     0.91685,     0.91668,      0.9165,     0.91633,     0.91615,     0.91598,     0.91578,     0.91533,\n",
       "            0.91487,      0.9146,     0.91445,      0.9143,     0.91414,     0.91399,     0.91384,     0.91369,     0.91344,     0.91298,     0.91252,     0.91213,     0.91175,     0.91136,     0.91063,     0.90991,     0.90965,     0.90939,     0.90914,     0.90887,     0.90854,     0.90821,     0.90788,\n",
       "             0.9081,     0.90858,     0.90815,     0.90749,     0.90716,     0.90683,      0.9065,     0.90481,     0.90423,     0.90396,     0.90372,     0.90349,     0.90325,     0.90302,     0.90268,     0.90235,     0.90201,     0.90168,     0.90134,       0.901,     0.90051,     0.89933,     0.89605,\n",
       "            0.89575,     0.89545,     0.89516,     0.89487,     0.89461,     0.89434,     0.89408,     0.89381,     0.89305,      0.8924,     0.89192,     0.89142,     0.88896,      0.8876,       0.887,     0.88627,     0.88433,     0.88385,     0.88336,     0.88305,     0.88281,     0.88256,     0.88232,\n",
       "            0.88208,     0.88229,     0.88132,      0.8796,     0.87884,     0.87822,     0.87621,      0.8756,     0.87518,     0.87477,     0.87424,     0.87362,     0.87166,     0.87083,        0.87,     0.86847,     0.86816,     0.86784,     0.86753,     0.86705,     0.86622,     0.86556,     0.86493,\n",
       "            0.86515,     0.86547,     0.86579,     0.86553,     0.86525,     0.86497,     0.86469,     0.86428,     0.86378,     0.86361,     0.86395,     0.86344,     0.86291,     0.86227,     0.86158,     0.86074,     0.85885,     0.85748,     0.85663,     0.85344,      0.8528,     0.85156,     0.85087,\n",
       "            0.85022,      0.8497,     0.84918,     0.84847,     0.84629,     0.84507,     0.84455,     0.84402,      0.8436,     0.84322,     0.84285,     0.84234,     0.84146,     0.83986,     0.83942,     0.83898,     0.83769,     0.83702,     0.83658,     0.83613,     0.83483,      0.8309,     0.83052,\n",
       "            0.83013,     0.82975,     0.82788,      0.8272,     0.82652,     0.82585,     0.82337,     0.82267,     0.82222,     0.82176,     0.82093,      0.8207,     0.82002,     0.81933,     0.81865,     0.81775,     0.81704,     0.81658,     0.81612,     0.81455,      0.8142,     0.81386,     0.81351,\n",
       "            0.81282,     0.81041,     0.80985,      0.8093,     0.80813,     0.80571,     0.80488,     0.80432,     0.80376,     0.80196,     0.80102,     0.79786,     0.79715,     0.79546,     0.79375,     0.79327,      0.7928,     0.79179,     0.79035,     0.78953,     0.78912,     0.78871,     0.78819,\n",
       "            0.78722,     0.78248,      0.7815,     0.77815,     0.77717,     0.77619,     0.77358,     0.77008,     0.76709,     0.76617,     0.76542,     0.76248,     0.76197,     0.76147,     0.76079,     0.75479,     0.75266,     0.75038,     0.74708,     0.74247,     0.73521,     0.73416,     0.73152,\n",
       "            0.72896,      0.7279,     0.72372,     0.72246,     0.71865,      0.7163,     0.71522,     0.71208,      0.7096,     0.70713,      0.7006,     0.69727,     0.69244,      0.6877,     0.68806,     0.68841,     0.68538,     0.68534,     0.68065,     0.67679,     0.67298,     0.66888,     0.66844,\n",
       "              0.668,     0.66757,     0.66264,     0.66155,     0.66067,     0.65371,     0.65016,     0.64651,     0.63932,     0.63708,     0.63377,     0.63007,     0.62271,     0.61656,     0.60442,     0.60203,     0.59583,     0.59045,     0.58734,     0.58603,     0.58028,     0.57536,     0.56858,\n",
       "             0.5664,     0.56244,     0.55634,     0.54754,     0.54408,     0.54184,     0.52934,     0.52296,     0.50799,     0.49925,     0.48975,     0.48369,     0.47016,     0.46728,     0.46383,     0.46103,     0.45511,     0.44541,     0.43831,     0.42517,     0.42029,     0.41181,     0.40433,\n",
       "            0.39684,     0.38917,     0.37639,       0.366,     0.35286,     0.34746,     0.33669,     0.33307,     0.32374,     0.32189,     0.31446,     0.31175,     0.30867,     0.30298,     0.29444,     0.28012,     0.27777,     0.27409,     0.26816,     0.25043,     0.23535,     0.22307,     0.21371,\n",
       "            0.20767,     0.19153,     0.18183,     0.17742,     0.16602,     0.15941,      0.1453,     0.13845,     0.13088,     0.11778,     0.10032,    0.091373,    0.088963,     0.07861,    0.067658,    0.056581,    0.052734,    0.040694,     0.03879,    0.036525,    0.034035,    0.032118,    0.029356,\n",
       "           0.024175,    0.014976,    0.013021,   0.0070691,   0.0044407,           0,           0,           0,           0,           0,           0,           0,           0,           0,           0,           0,           0,           0,           0,           0,           0,           0,           0,\n",
       "                  0,           0,           0,           0,           0,           0,           0,           0,           0,           0,           0]]), 'Confidence', 'F1'], [array([          0,    0.001001,    0.002002,    0.003003,    0.004004,    0.005005,    0.006006,    0.007007,    0.008008,    0.009009,     0.01001,    0.011011,    0.012012,    0.013013,    0.014014,    0.015015,    0.016016,    0.017017,    0.018018,    0.019019,     0.02002,    0.021021,    0.022022,    0.023023,\n",
       "          0.024024,    0.025025,    0.026026,    0.027027,    0.028028,    0.029029,     0.03003,    0.031031,    0.032032,    0.033033,    0.034034,    0.035035,    0.036036,    0.037037,    0.038038,    0.039039,     0.04004,    0.041041,    0.042042,    0.043043,    0.044044,    0.045045,    0.046046,    0.047047,\n",
       "          0.048048,    0.049049,     0.05005,    0.051051,    0.052052,    0.053053,    0.054054,    0.055055,    0.056056,    0.057057,    0.058058,    0.059059,     0.06006,    0.061061,    0.062062,    0.063063,    0.064064,    0.065065,    0.066066,    0.067067,    0.068068,    0.069069,     0.07007,    0.071071,\n",
       "          0.072072,    0.073073,    0.074074,    0.075075,    0.076076,    0.077077,    0.078078,    0.079079,     0.08008,    0.081081,    0.082082,    0.083083,    0.084084,    0.085085,    0.086086,    0.087087,    0.088088,    0.089089,     0.09009,    0.091091,    0.092092,    0.093093,    0.094094,    0.095095,\n",
       "          0.096096,    0.097097,    0.098098,    0.099099,      0.1001,      0.1011,      0.1021,      0.1031,      0.1041,     0.10511,     0.10611,     0.10711,     0.10811,     0.10911,     0.11011,     0.11111,     0.11211,     0.11311,     0.11411,     0.11512,     0.11612,     0.11712,     0.11812,     0.11912,\n",
       "           0.12012,     0.12112,     0.12212,     0.12312,     0.12412,     0.12513,     0.12613,     0.12713,     0.12813,     0.12913,     0.13013,     0.13113,     0.13213,     0.13313,     0.13413,     0.13514,     0.13614,     0.13714,     0.13814,     0.13914,     0.14014,     0.14114,     0.14214,     0.14314,\n",
       "           0.14414,     0.14515,     0.14615,     0.14715,     0.14815,     0.14915,     0.15015,     0.15115,     0.15215,     0.15315,     0.15415,     0.15516,     0.15616,     0.15716,     0.15816,     0.15916,     0.16016,     0.16116,     0.16216,     0.16316,     0.16416,     0.16517,     0.16617,     0.16717,\n",
       "           0.16817,     0.16917,     0.17017,     0.17117,     0.17217,     0.17317,     0.17417,     0.17518,     0.17618,     0.17718,     0.17818,     0.17918,     0.18018,     0.18118,     0.18218,     0.18318,     0.18418,     0.18519,     0.18619,     0.18719,     0.18819,     0.18919,     0.19019,     0.19119,\n",
       "           0.19219,     0.19319,     0.19419,      0.1952,      0.1962,      0.1972,      0.1982,      0.1992,      0.2002,      0.2012,      0.2022,      0.2032,      0.2042,     0.20521,     0.20621,     0.20721,     0.20821,     0.20921,     0.21021,     0.21121,     0.21221,     0.21321,     0.21421,     0.21522,\n",
       "           0.21622,     0.21722,     0.21822,     0.21922,     0.22022,     0.22122,     0.22222,     0.22322,     0.22422,     0.22523,     0.22623,     0.22723,     0.22823,     0.22923,     0.23023,     0.23123,     0.23223,     0.23323,     0.23423,     0.23524,     0.23624,     0.23724,     0.23824,     0.23924,\n",
       "           0.24024,     0.24124,     0.24224,     0.24324,     0.24424,     0.24525,     0.24625,     0.24725,     0.24825,     0.24925,     0.25025,     0.25125,     0.25225,     0.25325,     0.25425,     0.25526,     0.25626,     0.25726,     0.25826,     0.25926,     0.26026,     0.26126,     0.26226,     0.26326,\n",
       "           0.26426,     0.26527,     0.26627,     0.26727,     0.26827,     0.26927,     0.27027,     0.27127,     0.27227,     0.27327,     0.27427,     0.27528,     0.27628,     0.27728,     0.27828,     0.27928,     0.28028,     0.28128,     0.28228,     0.28328,     0.28428,     0.28529,     0.28629,     0.28729,\n",
       "           0.28829,     0.28929,     0.29029,     0.29129,     0.29229,     0.29329,     0.29429,      0.2953,      0.2963,      0.2973,      0.2983,      0.2993,      0.3003,      0.3013,      0.3023,      0.3033,      0.3043,     0.30531,     0.30631,     0.30731,     0.30831,     0.30931,     0.31031,     0.31131,\n",
       "           0.31231,     0.31331,     0.31431,     0.31532,     0.31632,     0.31732,     0.31832,     0.31932,     0.32032,     0.32132,     0.32232,     0.32332,     0.32432,     0.32533,     0.32633,     0.32733,     0.32833,     0.32933,     0.33033,     0.33133,     0.33233,     0.33333,     0.33433,     0.33534,\n",
       "           0.33634,     0.33734,     0.33834,     0.33934,     0.34034,     0.34134,     0.34234,     0.34334,     0.34434,     0.34535,     0.34635,     0.34735,     0.34835,     0.34935,     0.35035,     0.35135,     0.35235,     0.35335,     0.35435,     0.35536,     0.35636,     0.35736,     0.35836,     0.35936,\n",
       "           0.36036,     0.36136,     0.36236,     0.36336,     0.36436,     0.36537,     0.36637,     0.36737,     0.36837,     0.36937,     0.37037,     0.37137,     0.37237,     0.37337,     0.37437,     0.37538,     0.37638,     0.37738,     0.37838,     0.37938,     0.38038,     0.38138,     0.38238,     0.38338,\n",
       "           0.38438,     0.38539,     0.38639,     0.38739,     0.38839,     0.38939,     0.39039,     0.39139,     0.39239,     0.39339,     0.39439,      0.3954,      0.3964,      0.3974,      0.3984,      0.3994,      0.4004,      0.4014,      0.4024,      0.4034,      0.4044,     0.40541,     0.40641,     0.40741,\n",
       "           0.40841,     0.40941,     0.41041,     0.41141,     0.41241,     0.41341,     0.41441,     0.41542,     0.41642,     0.41742,     0.41842,     0.41942,     0.42042,     0.42142,     0.42242,     0.42342,     0.42442,     0.42543,     0.42643,     0.42743,     0.42843,     0.42943,     0.43043,     0.43143,\n",
       "           0.43243,     0.43343,     0.43443,     0.43544,     0.43644,     0.43744,     0.43844,     0.43944,     0.44044,     0.44144,     0.44244,     0.44344,     0.44444,     0.44545,     0.44645,     0.44745,     0.44845,     0.44945,     0.45045,     0.45145,     0.45245,     0.45345,     0.45445,     0.45546,\n",
       "           0.45646,     0.45746,     0.45846,     0.45946,     0.46046,     0.46146,     0.46246,     0.46346,     0.46446,     0.46547,     0.46647,     0.46747,     0.46847,     0.46947,     0.47047,     0.47147,     0.47247,     0.47347,     0.47447,     0.47548,     0.47648,     0.47748,     0.47848,     0.47948,\n",
       "           0.48048,     0.48148,     0.48248,     0.48348,     0.48448,     0.48549,     0.48649,     0.48749,     0.48849,     0.48949,     0.49049,     0.49149,     0.49249,     0.49349,     0.49449,      0.4955,      0.4965,      0.4975,      0.4985,      0.4995,      0.5005,      0.5015,      0.5025,      0.5035,\n",
       "            0.5045,     0.50551,     0.50651,     0.50751,     0.50851,     0.50951,     0.51051,     0.51151,     0.51251,     0.51351,     0.51451,     0.51552,     0.51652,     0.51752,     0.51852,     0.51952,     0.52052,     0.52152,     0.52252,     0.52352,     0.52452,     0.52553,     0.52653,     0.52753,\n",
       "           0.52853,     0.52953,     0.53053,     0.53153,     0.53253,     0.53353,     0.53453,     0.53554,     0.53654,     0.53754,     0.53854,     0.53954,     0.54054,     0.54154,     0.54254,     0.54354,     0.54454,     0.54555,     0.54655,     0.54755,     0.54855,     0.54955,     0.55055,     0.55155,\n",
       "           0.55255,     0.55355,     0.55455,     0.55556,     0.55656,     0.55756,     0.55856,     0.55956,     0.56056,     0.56156,     0.56256,     0.56356,     0.56456,     0.56557,     0.56657,     0.56757,     0.56857,     0.56957,     0.57057,     0.57157,     0.57257,     0.57357,     0.57457,     0.57558,\n",
       "           0.57658,     0.57758,     0.57858,     0.57958,     0.58058,     0.58158,     0.58258,     0.58358,     0.58458,     0.58559,     0.58659,     0.58759,     0.58859,     0.58959,     0.59059,     0.59159,     0.59259,     0.59359,     0.59459,      0.5956,      0.5966,      0.5976,      0.5986,      0.5996,\n",
       "            0.6006,      0.6016,      0.6026,      0.6036,      0.6046,     0.60561,     0.60661,     0.60761,     0.60861,     0.60961,     0.61061,     0.61161,     0.61261,     0.61361,     0.61461,     0.61562,     0.61662,     0.61762,     0.61862,     0.61962,     0.62062,     0.62162,     0.62262,     0.62362,\n",
       "           0.62462,     0.62563,     0.62663,     0.62763,     0.62863,     0.62963,     0.63063,     0.63163,     0.63263,     0.63363,     0.63463,     0.63564,     0.63664,     0.63764,     0.63864,     0.63964,     0.64064,     0.64164,     0.64264,     0.64364,     0.64464,     0.64565,     0.64665,     0.64765,\n",
       "           0.64865,     0.64965,     0.65065,     0.65165,     0.65265,     0.65365,     0.65465,     0.65566,     0.65666,     0.65766,     0.65866,     0.65966,     0.66066,     0.66166,     0.66266,     0.66366,     0.66466,     0.66567,     0.66667,     0.66767,     0.66867,     0.66967,     0.67067,     0.67167,\n",
       "           0.67267,     0.67367,     0.67467,     0.67568,     0.67668,     0.67768,     0.67868,     0.67968,     0.68068,     0.68168,     0.68268,     0.68368,     0.68468,     0.68569,     0.68669,     0.68769,     0.68869,     0.68969,     0.69069,     0.69169,     0.69269,     0.69369,     0.69469,      0.6957,\n",
       "            0.6967,      0.6977,      0.6987,      0.6997,      0.7007,      0.7017,      0.7027,      0.7037,      0.7047,     0.70571,     0.70671,     0.70771,     0.70871,     0.70971,     0.71071,     0.71171,     0.71271,     0.71371,     0.71471,     0.71572,     0.71672,     0.71772,     0.71872,     0.71972,\n",
       "           0.72072,     0.72172,     0.72272,     0.72372,     0.72472,     0.72573,     0.72673,     0.72773,     0.72873,     0.72973,     0.73073,     0.73173,     0.73273,     0.73373,     0.73473,     0.73574,     0.73674,     0.73774,     0.73874,     0.73974,     0.74074,     0.74174,     0.74274,     0.74374,\n",
       "           0.74474,     0.74575,     0.74675,     0.74775,     0.74875,     0.74975,     0.75075,     0.75175,     0.75275,     0.75375,     0.75475,     0.75576,     0.75676,     0.75776,     0.75876,     0.75976,     0.76076,     0.76176,     0.76276,     0.76376,     0.76476,     0.76577,     0.76677,     0.76777,\n",
       "           0.76877,     0.76977,     0.77077,     0.77177,     0.77277,     0.77377,     0.77477,     0.77578,     0.77678,     0.77778,     0.77878,     0.77978,     0.78078,     0.78178,     0.78278,     0.78378,     0.78478,     0.78579,     0.78679,     0.78779,     0.78879,     0.78979,     0.79079,     0.79179,\n",
       "           0.79279,     0.79379,     0.79479,      0.7958,      0.7968,      0.7978,      0.7988,      0.7998,      0.8008,      0.8018,      0.8028,      0.8038,      0.8048,     0.80581,     0.80681,     0.80781,     0.80881,     0.80981,     0.81081,     0.81181,     0.81281,     0.81381,     0.81481,     0.81582,\n",
       "           0.81682,     0.81782,     0.81882,     0.81982,     0.82082,     0.82182,     0.82282,     0.82382,     0.82482,     0.82583,     0.82683,     0.82783,     0.82883,     0.82983,     0.83083,     0.83183,     0.83283,     0.83383,     0.83483,     0.83584,     0.83684,     0.83784,     0.83884,     0.83984,\n",
       "           0.84084,     0.84184,     0.84284,     0.84384,     0.84484,     0.84585,     0.84685,     0.84785,     0.84885,     0.84985,     0.85085,     0.85185,     0.85285,     0.85385,     0.85485,     0.85586,     0.85686,     0.85786,     0.85886,     0.85986,     0.86086,     0.86186,     0.86286,     0.86386,\n",
       "           0.86486,     0.86587,     0.86687,     0.86787,     0.86887,     0.86987,     0.87087,     0.87187,     0.87287,     0.87387,     0.87487,     0.87588,     0.87688,     0.87788,     0.87888,     0.87988,     0.88088,     0.88188,     0.88288,     0.88388,     0.88488,     0.88589,     0.88689,     0.88789,\n",
       "           0.88889,     0.88989,     0.89089,     0.89189,     0.89289,     0.89389,     0.89489,      0.8959,      0.8969,      0.8979,      0.8989,      0.8999,      0.9009,      0.9019,      0.9029,      0.9039,      0.9049,     0.90591,     0.90691,     0.90791,     0.90891,     0.90991,     0.91091,     0.91191,\n",
       "           0.91291,     0.91391,     0.91491,     0.91592,     0.91692,     0.91792,     0.91892,     0.91992,     0.92092,     0.92192,     0.92292,     0.92392,     0.92492,     0.92593,     0.92693,     0.92793,     0.92893,     0.92993,     0.93093,     0.93193,     0.93293,     0.93393,     0.93493,     0.93594,\n",
       "           0.93694,     0.93794,     0.93894,     0.93994,     0.94094,     0.94194,     0.94294,     0.94394,     0.94494,     0.94595,     0.94695,     0.94795,     0.94895,     0.94995,     0.95095,     0.95195,     0.95295,     0.95395,     0.95495,     0.95596,     0.95696,     0.95796,     0.95896,     0.95996,\n",
       "           0.96096,     0.96196,     0.96296,     0.96396,     0.96496,     0.96597,     0.96697,     0.96797,     0.96897,     0.96997,     0.97097,     0.97197,     0.97297,     0.97397,     0.97497,     0.97598,     0.97698,     0.97798,     0.97898,     0.97998,     0.98098,     0.98198,     0.98298,     0.98398,\n",
       "           0.98498,     0.98599,     0.98699,     0.98799,     0.98899,     0.98999,     0.99099,     0.99199,     0.99299,     0.99399,     0.99499,       0.996,       0.997,       0.998,       0.999,           1]), array([[    0.15195,     0.15195,     0.21074,     0.25162,     0.28967,     0.32076,     0.35417,     0.38858,     0.41448,     0.44161,     0.45688,     0.47956,     0.48906,     0.49747,     0.50847,     0.52042,     0.53043,     0.53946,     0.54956,     0.55836,     0.56625,     0.57045,      0.5813,\n",
       "            0.63007,     0.63339,     0.63868,     0.64271,     0.64932,     0.65362,     0.65446,     0.65803,     0.66514,     0.66721,     0.66883,      0.6717,     0.67689,     0.67989,     0.68664,     0.69191,     0.69475,     0.69952,     0.70382,      0.7076,     0.71018,     0.71085,     0.71416,\n",
       "             0.7157,     0.71988,     0.72422,     0.72756,      0.7305,      0.7322,     0.73557,     0.73764,     0.73987,      0.7423,     0.74432,     0.74486,     0.74694,     0.74976,     0.75244,     0.75698,     0.75993,     0.76182,     0.76448,     0.76597,     0.76718,     0.76826,     0.77094,\n",
       "            0.77341,      0.7747,     0.77644,     0.77729,     0.77798,     0.78221,     0.78382,      0.7877,     0.78868,       0.791,     0.79219,     0.79294,     0.79404,     0.79548,     0.79676,     0.79997,     0.80282,     0.80345,     0.80534,     0.80557,     0.80579,     0.80601,     0.80624,\n",
       "            0.80646,     0.80786,     0.80763,     0.80727,     0.80757,      0.8079,     0.80824,     0.80857,     0.80932,     0.81005,     0.81068,     0.81154,     0.81435,     0.81549,      0.8158,     0.81611,     0.81641,     0.81707,     0.81889,     0.82188,     0.82528,     0.82914,     0.82942,\n",
       "             0.8297,     0.82998,     0.83027,     0.83096,     0.83242,     0.83312,     0.83502,     0.83539,     0.83577,     0.83615,     0.83692,     0.83917,     0.84001,     0.84123,     0.84217,     0.84258,     0.84299,     0.84353,     0.84682,     0.84865,     0.84949,     0.84981,     0.85013,\n",
       "            0.85045,     0.85092,     0.85193,     0.85241,     0.85272,     0.85304,     0.85335,     0.85366,     0.85468,     0.85562,      0.8565,     0.85694,     0.85729,     0.85764,     0.85799,     0.85872,     0.85972,     0.86045,     0.86118,     0.86191,     0.86264,     0.86244,     0.86275,\n",
       "            0.86307,     0.86339,     0.86371,     0.86408,     0.86465,     0.86522,     0.86624,     0.86726,     0.86781,     0.86836,     0.86946,     0.87154,     0.87151,     0.87169,     0.87187,     0.87206,     0.87224,     0.87242,     0.87261,     0.87279,     0.87297,     0.87428,     0.87525,\n",
       "            0.87611,     0.87718,     0.87826,     0.87929,     0.87945,     0.87962,     0.87978,     0.87995,     0.88011,     0.88028,     0.88044,     0.88061,     0.88077,     0.88108,     0.88158,     0.88208,     0.88311,     0.88433,     0.88475,     0.88518,      0.8856,     0.88579,     0.88594,\n",
       "            0.88608,     0.88623,     0.88638,     0.88652,     0.88667,     0.88682,     0.88696,     0.88711,     0.88726,     0.88909,     0.89042,     0.89212,     0.89205,     0.89198,     0.89257,     0.89405,     0.89555,     0.89614,     0.89673,     0.89708,     0.89735,     0.89762,     0.89789,\n",
       "            0.89816,     0.89843,     0.89878,     0.89917,     0.89956,     0.89995,     0.90109,      0.9052,     0.90515,      0.9051,     0.90505,     0.90513,     0.90532,     0.90552,     0.90571,     0.90591,      0.9061,      0.9063,     0.90649,     0.90669,     0.90843,        0.91,     0.91019,\n",
       "            0.91039,     0.91058,     0.91078,     0.91097,     0.91117,     0.91136,     0.91156,     0.91179,     0.91207,     0.91236,     0.91264,     0.91292,      0.9132,     0.91346,     0.91368,      0.9139,     0.91412,     0.91434,     0.91456,     0.91478,       0.915,     0.91506,     0.91501,\n",
       "            0.91495,     0.91512,     0.91539,     0.91566,     0.91594,     0.91621,     0.91648,     0.91666,     0.91665,     0.91665,     0.91664,     0.91663,     0.91662,     0.91661,      0.9166,     0.91659,     0.91658,     0.91657,     0.91657,     0.91656,     0.91655,     0.91654,     0.91653,\n",
       "            0.91652,     0.91651,     0.91688,     0.91759,     0.91831,     0.91903,     0.91974,     0.92017,     0.92044,      0.9207,     0.92097,     0.92124,      0.9215,     0.92175,     0.92172,     0.92169,     0.92165,     0.92162,      0.9223,     0.92333,     0.92347,     0.92356,     0.92366,\n",
       "            0.92376,     0.92386,     0.92396,     0.92406,     0.92415,     0.92425,     0.92435,     0.92445,     0.92455,     0.92464,     0.92474,     0.92484,     0.92494,     0.92504,     0.92514,     0.92527,      0.9254,     0.92554,     0.92567,     0.92581,     0.92594,     0.92608,     0.92621,\n",
       "            0.92635,     0.92648,     0.92662,     0.92675,     0.92689,     0.92709,     0.92731,     0.92753,     0.92775,     0.92797,      0.9282,     0.92842,     0.92864,      0.9304,     0.93049,     0.93049,     0.93048,     0.93047,     0.93046,     0.93046,     0.93045,     0.93044,     0.93043,\n",
       "            0.93042,     0.93042,     0.93041,      0.9304,     0.93039,     0.93039,     0.93038,     0.93037,     0.93058,     0.93092,     0.93126,     0.93159,     0.93193,     0.93234,     0.93296,     0.93358,     0.93463,     0.93579,     0.93576,     0.93573,     0.93571,     0.93568,     0.93574,\n",
       "            0.93583,     0.93592,     0.93601,      0.9361,     0.93618,     0.93627,     0.93636,     0.93645,     0.93654,     0.93663,     0.93672,     0.93681,      0.9369,     0.93699,     0.93708,     0.93717,     0.93726,     0.93734,     0.93743,     0.93748,     0.93742,     0.93766,      0.9386,\n",
       "            0.93921,     0.93918,     0.93916,     0.93913,      0.9391,     0.94231,     0.94351,     0.94446,     0.94463,     0.94459,     0.94455,     0.94454,     0.94454,     0.94453,     0.94452,     0.94451,      0.9445,     0.94449,     0.94448,     0.94447,     0.94447,     0.94446,     0.94445,\n",
       "            0.94442,     0.94438,     0.94434,     0.94577,     0.94617,     0.94612,     0.94628,      0.9465,     0.94671,     0.94693,     0.94715,     0.94736,     0.94758,     0.94779,     0.94802,     0.94867,     0.94932,     0.95018,      0.9519,     0.95215,     0.95239,     0.95264,     0.95288,\n",
       "            0.95313,     0.95337,     0.95362,     0.95485,     0.95563,     0.95562,      0.9556,     0.95558,     0.95556,     0.95698,     0.95748,     0.95746,     0.95744,     0.95742,     0.95741,     0.95738,     0.95735,     0.95732,     0.95739,     0.95747,     0.95755,     0.95763,     0.95771,\n",
       "            0.95779,     0.95787,     0.95795,     0.95803,     0.95811,     0.95819,     0.95827,     0.95835,     0.95843,     0.95851,     0.95859,     0.95867,     0.95875,     0.95883,     0.95891,     0.95899,     0.95907,     0.95915,     0.95923,     0.96037,     0.96122,      0.9612,     0.96119,\n",
       "            0.96118,     0.96116,     0.96115,     0.96112,     0.96108,     0.96262,     0.96301,     0.96297,     0.96318,     0.96343,     0.96369,     0.96394,     0.96419,     0.96445,      0.9647,     0.96497,     0.96548,     0.96599,      0.9665,     0.96693,     0.96687,     0.96686,     0.96685,\n",
       "            0.96684,     0.96682,     0.96681,     0.96693,     0.96734,     0.96776,     0.96817,     0.96858,      0.9688,     0.96877,     0.96908,     0.96977,     0.97046,     0.97088,     0.97107,     0.97125,     0.97144,     0.97163,     0.97182,     0.97201,      0.9722,     0.97239,     0.97258,\n",
       "            0.97277,      0.9728,     0.97279,     0.97278,     0.97278,     0.97277,     0.97276,     0.97276,     0.97275,     0.97274,     0.97274,     0.97273,     0.97273,     0.97272,     0.97272,     0.97271,     0.97271,      0.9727,      0.9727,     0.97269,     0.97264,     0.97435,     0.97468,\n",
       "            0.97467,     0.97466,     0.97465,     0.97465,     0.97464,     0.97458,     0.97452,     0.97448,     0.97508,     0.97615,     0.97654,     0.97653,     0.97653,     0.97652,     0.97651,      0.9765,      0.9765,     0.97649,     0.97648,     0.97648,     0.97647,     0.97647,     0.97646,\n",
       "            0.97645,     0.97645,     0.97644,     0.97644,     0.97644,     0.97643,     0.97643,     0.97643,     0.97642,     0.97642,     0.97642,     0.97641,     0.97641,     0.97641,      0.9764,      0.9764,      0.9764,     0.97634,     0.97632,     0.97629,     0.97628,     0.97627,     0.97625,\n",
       "            0.97624,     0.97623,     0.97623,     0.97622,     0.97621,     0.97621,      0.9762,     0.97619,     0.97615,     0.97612,     0.97609,     0.97607,     0.97606,     0.97604,     0.97601,     0.97598,     0.97597,     0.97596,     0.97595,     0.97595,     0.97594,     0.97593,     0.97591,\n",
       "            0.97589,     0.97587,     0.97587,     0.97586,     0.97585,     0.97584,     0.97584,     0.97583,     0.97582,      0.9758,     0.97577,     0.97576,     0.97574,     0.97572,      0.9778,     0.97777,     0.97776,     0.97775,     0.97774,     0.97773,     0.97771,      0.9777,     0.97768,\n",
       "            0.97844,     0.97956,     0.97984,     0.97982,      0.9798,     0.97979,     0.97978,     0.97971,     0.97969,     0.97968,     0.97967,     0.97966,     0.97965,     0.97964,     0.97962,     0.97961,      0.9796,     0.97958,     0.97957,     0.97956,     0.97954,     0.97949,     0.97935,\n",
       "            0.97934,     0.97933,     0.97932,     0.97931,      0.9793,     0.97929,     0.97927,     0.97926,     0.97923,     0.97921,     0.97919,     0.97916,     0.97906,     0.97901,     0.97898,     0.97895,     0.97887,     0.97885,     0.97883,     0.97882,     0.97881,      0.9788,     0.97879,\n",
       "            0.97878,     0.98106,     0.98102,     0.98096,     0.98093,     0.98091,     0.98083,     0.98081,     0.98079,     0.98078,     0.98076,     0.98073,     0.98066,     0.98062,     0.98059,     0.98053,     0.98052,     0.98051,      0.9805,     0.98048,     0.98045,     0.98042,     0.98039,\n",
       "            0.98113,     0.98195,     0.98278,     0.98279,     0.98278,     0.98277,     0.98276,     0.98275,     0.98273,     0.98341,     0.98514,     0.98512,     0.98511,     0.98509,     0.98507,     0.98504,     0.98699,      0.9874,     0.98738,      0.9873,     0.98728,     0.98725,     0.98723,\n",
       "            0.98721,      0.9872,     0.98719,     0.98717,     0.98711,     0.98708,     0.98706,     0.98705,     0.98704,     0.98703,     0.98702,     0.98701,     0.98698,     0.98694,     0.98693,     0.98692,     0.98688,     0.98687,     0.98685,     0.98684,     0.98681,      0.9867,     0.98669,\n",
       "            0.98668,     0.98667,     0.98662,      0.9866,     0.98658,     0.98656,      0.9865,     0.98648,     0.98646,     0.98645,     0.98813,     0.98909,     0.98907,     0.98906,     0.98904,     0.98902,     0.98901,       0.989,     0.98899,     0.98895,     0.98894,     0.98893,     0.98893,\n",
       "            0.98891,     0.98886,     0.98884,     0.98883,      0.9888,     0.98875,     0.98873,     0.98872,      0.9887,     0.98866,     0.98864,     0.98856,     0.98855,     0.98851,     0.98847,     0.98846,     0.98844,     0.98842,     0.98839,     0.98837,     0.98836,     0.98835,     0.98833,\n",
       "            0.98831,     0.98819,     0.98817,     0.98809,     0.98806,     0.98804,     0.98797,     0.98789,     0.98781,     0.98779,     0.98777,     0.98769,     0.98768,     0.98767,     0.98765,     0.98749,     0.98744,     0.98738,     0.98729,     0.98716,     0.98696,     0.98694,     0.98686,\n",
       "            0.98679,     0.98676,     0.98664,     0.98661,      0.9865,     0.98643,      0.9864,      0.9863,     0.98623,     0.98616,     0.98596,     0.98586,     0.98571,     0.98573,      0.9872,     0.98866,     0.98976,     0.99266,     0.99259,     0.99252,     0.99246,     0.99239,     0.99238,\n",
       "            0.99237,     0.99237,     0.99228,     0.99226,     0.99225,     0.99213,     0.99206,       0.992,     0.99187,     0.99182,     0.99176,     0.99169,     0.99155,     0.99143,     0.99118,     0.99113,       0.991,     0.99088,     0.99082,     0.99079,     0.99066,     0.99055,     0.99039,\n",
       "            0.99034,     0.99025,      0.9901,     0.98988,     0.98979,     0.98974,     0.98941,     0.98923,     0.98881,     0.98855,     0.98826,     0.98806,     0.98762,     0.98752,     0.99365,      0.9936,           1,           1,           1,           1,           1,           1,           1,\n",
       "                  1,           1,           1,           1,           1,           1,           1,           1,           1,           1,           1,           1,           1,           1,           1,           1,           1,           1,           1,           1,           1,           1,           1,\n",
       "                  1,           1,           1,           1,           1,           1,           1,           1,           1,           1,           1,           1,           1,           1,           1,           1,           1,           1,           1,           1,           1,           1,           1,\n",
       "                  1,           1,           1,           1,           1,           1,           1,           1,           1,           1,           1,           1,           1,           1,           1,           1,           1,           1,           1,           1,           1,           1,           1,\n",
       "                  1,           1,           1,           1,           1,           1,           1,           1,           1,           1,           1]]), 'Confidence', 'Precision'], [array([          0,    0.001001,    0.002002,    0.003003,    0.004004,    0.005005,    0.006006,    0.007007,    0.008008,    0.009009,     0.01001,    0.011011,    0.012012,    0.013013,    0.014014,    0.015015,    0.016016,    0.017017,    0.018018,    0.019019,     0.02002,    0.021021,    0.022022,    0.023023,\n",
       "          0.024024,    0.025025,    0.026026,    0.027027,    0.028028,    0.029029,     0.03003,    0.031031,    0.032032,    0.033033,    0.034034,    0.035035,    0.036036,    0.037037,    0.038038,    0.039039,     0.04004,    0.041041,    0.042042,    0.043043,    0.044044,    0.045045,    0.046046,    0.047047,\n",
       "          0.048048,    0.049049,     0.05005,    0.051051,    0.052052,    0.053053,    0.054054,    0.055055,    0.056056,    0.057057,    0.058058,    0.059059,     0.06006,    0.061061,    0.062062,    0.063063,    0.064064,    0.065065,    0.066066,    0.067067,    0.068068,    0.069069,     0.07007,    0.071071,\n",
       "          0.072072,    0.073073,    0.074074,    0.075075,    0.076076,    0.077077,    0.078078,    0.079079,     0.08008,    0.081081,    0.082082,    0.083083,    0.084084,    0.085085,    0.086086,    0.087087,    0.088088,    0.089089,     0.09009,    0.091091,    0.092092,    0.093093,    0.094094,    0.095095,\n",
       "          0.096096,    0.097097,    0.098098,    0.099099,      0.1001,      0.1011,      0.1021,      0.1031,      0.1041,     0.10511,     0.10611,     0.10711,     0.10811,     0.10911,     0.11011,     0.11111,     0.11211,     0.11311,     0.11411,     0.11512,     0.11612,     0.11712,     0.11812,     0.11912,\n",
       "           0.12012,     0.12112,     0.12212,     0.12312,     0.12412,     0.12513,     0.12613,     0.12713,     0.12813,     0.12913,     0.13013,     0.13113,     0.13213,     0.13313,     0.13413,     0.13514,     0.13614,     0.13714,     0.13814,     0.13914,     0.14014,     0.14114,     0.14214,     0.14314,\n",
       "           0.14414,     0.14515,     0.14615,     0.14715,     0.14815,     0.14915,     0.15015,     0.15115,     0.15215,     0.15315,     0.15415,     0.15516,     0.15616,     0.15716,     0.15816,     0.15916,     0.16016,     0.16116,     0.16216,     0.16316,     0.16416,     0.16517,     0.16617,     0.16717,\n",
       "           0.16817,     0.16917,     0.17017,     0.17117,     0.17217,     0.17317,     0.17417,     0.17518,     0.17618,     0.17718,     0.17818,     0.17918,     0.18018,     0.18118,     0.18218,     0.18318,     0.18418,     0.18519,     0.18619,     0.18719,     0.18819,     0.18919,     0.19019,     0.19119,\n",
       "           0.19219,     0.19319,     0.19419,      0.1952,      0.1962,      0.1972,      0.1982,      0.1992,      0.2002,      0.2012,      0.2022,      0.2032,      0.2042,     0.20521,     0.20621,     0.20721,     0.20821,     0.20921,     0.21021,     0.21121,     0.21221,     0.21321,     0.21421,     0.21522,\n",
       "           0.21622,     0.21722,     0.21822,     0.21922,     0.22022,     0.22122,     0.22222,     0.22322,     0.22422,     0.22523,     0.22623,     0.22723,     0.22823,     0.22923,     0.23023,     0.23123,     0.23223,     0.23323,     0.23423,     0.23524,     0.23624,     0.23724,     0.23824,     0.23924,\n",
       "           0.24024,     0.24124,     0.24224,     0.24324,     0.24424,     0.24525,     0.24625,     0.24725,     0.24825,     0.24925,     0.25025,     0.25125,     0.25225,     0.25325,     0.25425,     0.25526,     0.25626,     0.25726,     0.25826,     0.25926,     0.26026,     0.26126,     0.26226,     0.26326,\n",
       "           0.26426,     0.26527,     0.26627,     0.26727,     0.26827,     0.26927,     0.27027,     0.27127,     0.27227,     0.27327,     0.27427,     0.27528,     0.27628,     0.27728,     0.27828,     0.27928,     0.28028,     0.28128,     0.28228,     0.28328,     0.28428,     0.28529,     0.28629,     0.28729,\n",
       "           0.28829,     0.28929,     0.29029,     0.29129,     0.29229,     0.29329,     0.29429,      0.2953,      0.2963,      0.2973,      0.2983,      0.2993,      0.3003,      0.3013,      0.3023,      0.3033,      0.3043,     0.30531,     0.30631,     0.30731,     0.30831,     0.30931,     0.31031,     0.31131,\n",
       "           0.31231,     0.31331,     0.31431,     0.31532,     0.31632,     0.31732,     0.31832,     0.31932,     0.32032,     0.32132,     0.32232,     0.32332,     0.32432,     0.32533,     0.32633,     0.32733,     0.32833,     0.32933,     0.33033,     0.33133,     0.33233,     0.33333,     0.33433,     0.33534,\n",
       "           0.33634,     0.33734,     0.33834,     0.33934,     0.34034,     0.34134,     0.34234,     0.34334,     0.34434,     0.34535,     0.34635,     0.34735,     0.34835,     0.34935,     0.35035,     0.35135,     0.35235,     0.35335,     0.35435,     0.35536,     0.35636,     0.35736,     0.35836,     0.35936,\n",
       "           0.36036,     0.36136,     0.36236,     0.36336,     0.36436,     0.36537,     0.36637,     0.36737,     0.36837,     0.36937,     0.37037,     0.37137,     0.37237,     0.37337,     0.37437,     0.37538,     0.37638,     0.37738,     0.37838,     0.37938,     0.38038,     0.38138,     0.38238,     0.38338,\n",
       "           0.38438,     0.38539,     0.38639,     0.38739,     0.38839,     0.38939,     0.39039,     0.39139,     0.39239,     0.39339,     0.39439,      0.3954,      0.3964,      0.3974,      0.3984,      0.3994,      0.4004,      0.4014,      0.4024,      0.4034,      0.4044,     0.40541,     0.40641,     0.40741,\n",
       "           0.40841,     0.40941,     0.41041,     0.41141,     0.41241,     0.41341,     0.41441,     0.41542,     0.41642,     0.41742,     0.41842,     0.41942,     0.42042,     0.42142,     0.42242,     0.42342,     0.42442,     0.42543,     0.42643,     0.42743,     0.42843,     0.42943,     0.43043,     0.43143,\n",
       "           0.43243,     0.43343,     0.43443,     0.43544,     0.43644,     0.43744,     0.43844,     0.43944,     0.44044,     0.44144,     0.44244,     0.44344,     0.44444,     0.44545,     0.44645,     0.44745,     0.44845,     0.44945,     0.45045,     0.45145,     0.45245,     0.45345,     0.45445,     0.45546,\n",
       "           0.45646,     0.45746,     0.45846,     0.45946,     0.46046,     0.46146,     0.46246,     0.46346,     0.46446,     0.46547,     0.46647,     0.46747,     0.46847,     0.46947,     0.47047,     0.47147,     0.47247,     0.47347,     0.47447,     0.47548,     0.47648,     0.47748,     0.47848,     0.47948,\n",
       "           0.48048,     0.48148,     0.48248,     0.48348,     0.48448,     0.48549,     0.48649,     0.48749,     0.48849,     0.48949,     0.49049,     0.49149,     0.49249,     0.49349,     0.49449,      0.4955,      0.4965,      0.4975,      0.4985,      0.4995,      0.5005,      0.5015,      0.5025,      0.5035,\n",
       "            0.5045,     0.50551,     0.50651,     0.50751,     0.50851,     0.50951,     0.51051,     0.51151,     0.51251,     0.51351,     0.51451,     0.51552,     0.51652,     0.51752,     0.51852,     0.51952,     0.52052,     0.52152,     0.52252,     0.52352,     0.52452,     0.52553,     0.52653,     0.52753,\n",
       "           0.52853,     0.52953,     0.53053,     0.53153,     0.53253,     0.53353,     0.53453,     0.53554,     0.53654,     0.53754,     0.53854,     0.53954,     0.54054,     0.54154,     0.54254,     0.54354,     0.54454,     0.54555,     0.54655,     0.54755,     0.54855,     0.54955,     0.55055,     0.55155,\n",
       "           0.55255,     0.55355,     0.55455,     0.55556,     0.55656,     0.55756,     0.55856,     0.55956,     0.56056,     0.56156,     0.56256,     0.56356,     0.56456,     0.56557,     0.56657,     0.56757,     0.56857,     0.56957,     0.57057,     0.57157,     0.57257,     0.57357,     0.57457,     0.57558,\n",
       "           0.57658,     0.57758,     0.57858,     0.57958,     0.58058,     0.58158,     0.58258,     0.58358,     0.58458,     0.58559,     0.58659,     0.58759,     0.58859,     0.58959,     0.59059,     0.59159,     0.59259,     0.59359,     0.59459,      0.5956,      0.5966,      0.5976,      0.5986,      0.5996,\n",
       "            0.6006,      0.6016,      0.6026,      0.6036,      0.6046,     0.60561,     0.60661,     0.60761,     0.60861,     0.60961,     0.61061,     0.61161,     0.61261,     0.61361,     0.61461,     0.61562,     0.61662,     0.61762,     0.61862,     0.61962,     0.62062,     0.62162,     0.62262,     0.62362,\n",
       "           0.62462,     0.62563,     0.62663,     0.62763,     0.62863,     0.62963,     0.63063,     0.63163,     0.63263,     0.63363,     0.63463,     0.63564,     0.63664,     0.63764,     0.63864,     0.63964,     0.64064,     0.64164,     0.64264,     0.64364,     0.64464,     0.64565,     0.64665,     0.64765,\n",
       "           0.64865,     0.64965,     0.65065,     0.65165,     0.65265,     0.65365,     0.65465,     0.65566,     0.65666,     0.65766,     0.65866,     0.65966,     0.66066,     0.66166,     0.66266,     0.66366,     0.66466,     0.66567,     0.66667,     0.66767,     0.66867,     0.66967,     0.67067,     0.67167,\n",
       "           0.67267,     0.67367,     0.67467,     0.67568,     0.67668,     0.67768,     0.67868,     0.67968,     0.68068,     0.68168,     0.68268,     0.68368,     0.68468,     0.68569,     0.68669,     0.68769,     0.68869,     0.68969,     0.69069,     0.69169,     0.69269,     0.69369,     0.69469,      0.6957,\n",
       "            0.6967,      0.6977,      0.6987,      0.6997,      0.7007,      0.7017,      0.7027,      0.7037,      0.7047,     0.70571,     0.70671,     0.70771,     0.70871,     0.70971,     0.71071,     0.71171,     0.71271,     0.71371,     0.71471,     0.71572,     0.71672,     0.71772,     0.71872,     0.71972,\n",
       "           0.72072,     0.72172,     0.72272,     0.72372,     0.72472,     0.72573,     0.72673,     0.72773,     0.72873,     0.72973,     0.73073,     0.73173,     0.73273,     0.73373,     0.73473,     0.73574,     0.73674,     0.73774,     0.73874,     0.73974,     0.74074,     0.74174,     0.74274,     0.74374,\n",
       "           0.74474,     0.74575,     0.74675,     0.74775,     0.74875,     0.74975,     0.75075,     0.75175,     0.75275,     0.75375,     0.75475,     0.75576,     0.75676,     0.75776,     0.75876,     0.75976,     0.76076,     0.76176,     0.76276,     0.76376,     0.76476,     0.76577,     0.76677,     0.76777,\n",
       "           0.76877,     0.76977,     0.77077,     0.77177,     0.77277,     0.77377,     0.77477,     0.77578,     0.77678,     0.77778,     0.77878,     0.77978,     0.78078,     0.78178,     0.78278,     0.78378,     0.78478,     0.78579,     0.78679,     0.78779,     0.78879,     0.78979,     0.79079,     0.79179,\n",
       "           0.79279,     0.79379,     0.79479,      0.7958,      0.7968,      0.7978,      0.7988,      0.7998,      0.8008,      0.8018,      0.8028,      0.8038,      0.8048,     0.80581,     0.80681,     0.80781,     0.80881,     0.80981,     0.81081,     0.81181,     0.81281,     0.81381,     0.81481,     0.81582,\n",
       "           0.81682,     0.81782,     0.81882,     0.81982,     0.82082,     0.82182,     0.82282,     0.82382,     0.82482,     0.82583,     0.82683,     0.82783,     0.82883,     0.82983,     0.83083,     0.83183,     0.83283,     0.83383,     0.83483,     0.83584,     0.83684,     0.83784,     0.83884,     0.83984,\n",
       "           0.84084,     0.84184,     0.84284,     0.84384,     0.84484,     0.84585,     0.84685,     0.84785,     0.84885,     0.84985,     0.85085,     0.85185,     0.85285,     0.85385,     0.85485,     0.85586,     0.85686,     0.85786,     0.85886,     0.85986,     0.86086,     0.86186,     0.86286,     0.86386,\n",
       "           0.86486,     0.86587,     0.86687,     0.86787,     0.86887,     0.86987,     0.87087,     0.87187,     0.87287,     0.87387,     0.87487,     0.87588,     0.87688,     0.87788,     0.87888,     0.87988,     0.88088,     0.88188,     0.88288,     0.88388,     0.88488,     0.88589,     0.88689,     0.88789,\n",
       "           0.88889,     0.88989,     0.89089,     0.89189,     0.89289,     0.89389,     0.89489,      0.8959,      0.8969,      0.8979,      0.8989,      0.8999,      0.9009,      0.9019,      0.9029,      0.9039,      0.9049,     0.90591,     0.90691,     0.90791,     0.90891,     0.90991,     0.91091,     0.91191,\n",
       "           0.91291,     0.91391,     0.91491,     0.91592,     0.91692,     0.91792,     0.91892,     0.91992,     0.92092,     0.92192,     0.92292,     0.92392,     0.92492,     0.92593,     0.92693,     0.92793,     0.92893,     0.92993,     0.93093,     0.93193,     0.93293,     0.93393,     0.93493,     0.93594,\n",
       "           0.93694,     0.93794,     0.93894,     0.93994,     0.94094,     0.94194,     0.94294,     0.94394,     0.94494,     0.94595,     0.94695,     0.94795,     0.94895,     0.94995,     0.95095,     0.95195,     0.95295,     0.95395,     0.95495,     0.95596,     0.95696,     0.95796,     0.95896,     0.95996,\n",
       "           0.96096,     0.96196,     0.96296,     0.96396,     0.96496,     0.96597,     0.96697,     0.96797,     0.96897,     0.96997,     0.97097,     0.97197,     0.97297,     0.97397,     0.97497,     0.97598,     0.97698,     0.97798,     0.97898,     0.97998,     0.98098,     0.98198,     0.98298,     0.98398,\n",
       "           0.98498,     0.98599,     0.98699,     0.98799,     0.98899,     0.98999,     0.99099,     0.99199,     0.99299,     0.99399,     0.99499,       0.996,       0.997,       0.998,       0.999,           1]), array([[    0.97872,     0.97872,     0.97872,     0.97099,     0.96712,     0.96712,     0.96518,     0.96518,     0.96518,     0.96325,     0.96325,     0.96325,     0.96132,     0.96132,     0.96132,     0.96132,     0.95938,     0.95938,     0.95938,     0.95938,     0.95938,     0.95938,     0.95938,\n",
       "            0.95745,     0.95745,     0.95745,     0.95745,     0.95745,     0.95745,     0.95551,     0.95551,     0.95551,     0.95551,     0.95551,     0.95551,     0.95551,     0.95551,     0.95551,     0.95551,     0.95551,     0.95551,     0.95551,     0.95551,     0.95551,     0.95551,     0.95551,\n",
       "            0.95551,     0.95551,     0.95551,     0.95551,     0.95551,     0.95551,     0.95551,     0.95551,     0.95551,     0.95551,     0.95551,     0.95551,     0.95551,     0.95551,     0.95551,     0.95551,     0.95551,     0.95551,     0.95551,     0.95551,     0.95551,     0.95551,     0.95551,\n",
       "            0.95551,     0.95551,     0.95551,     0.95551,     0.95551,     0.95551,     0.95551,     0.95551,     0.95551,     0.95551,     0.95551,     0.95551,     0.95551,     0.95551,     0.95358,     0.95358,     0.95293,     0.95164,     0.95164,     0.95164,     0.95164,     0.95164,     0.95164,\n",
       "            0.95164,     0.95154,     0.95009,     0.94792,     0.94778,     0.94778,     0.94778,     0.94778,     0.94778,     0.94778,     0.94778,     0.94778,     0.94778,     0.94778,     0.94778,     0.94778,     0.94778,     0.94778,     0.94778,     0.94778,     0.94778,     0.94778,     0.94778,\n",
       "            0.94778,     0.94778,     0.94778,     0.94778,     0.94778,     0.94778,     0.94778,     0.94778,     0.94778,     0.94778,     0.94778,     0.94778,     0.94778,     0.94778,     0.94778,     0.94778,     0.94778,     0.94778,     0.94778,     0.94778,     0.94778,     0.94778,     0.94778,\n",
       "            0.94778,     0.94778,     0.94778,     0.94778,     0.94778,     0.94778,     0.94778,     0.94778,     0.94778,     0.94778,     0.94778,     0.94778,     0.94778,     0.94778,     0.94778,     0.94778,     0.94778,     0.94778,     0.94778,     0.94778,     0.94778,     0.94588,     0.94584,\n",
       "            0.94584,     0.94584,     0.94584,     0.94584,     0.94584,     0.94584,     0.94584,     0.94584,     0.94584,     0.94584,     0.94584,     0.94489,     0.94391,     0.94391,     0.94391,     0.94391,     0.94391,     0.94391,     0.94391,     0.94391,     0.94391,     0.94391,     0.94391,\n",
       "            0.94391,     0.94391,     0.94391,     0.94391,     0.94391,     0.94391,     0.94391,     0.94391,     0.94391,     0.94391,     0.94391,     0.94391,     0.94391,     0.94391,     0.94391,     0.94391,     0.94391,     0.94391,     0.94391,     0.94391,     0.94391,     0.94391,     0.94391,\n",
       "            0.94391,     0.94391,     0.94391,     0.94391,     0.94391,     0.94391,     0.94391,     0.94391,     0.94391,     0.94391,     0.94391,     0.94376,     0.94304,     0.94232,     0.94197,     0.94197,     0.94197,     0.94197,     0.94197,     0.94197,     0.94197,     0.94197,     0.94197,\n",
       "            0.94197,     0.94197,     0.94197,     0.94197,     0.94197,     0.94197,     0.94197,     0.94194,      0.9414,     0.94085,      0.9403,     0.94004,     0.94004,     0.94004,     0.94004,     0.94004,     0.94004,     0.94004,     0.94004,     0.94004,     0.94004,      0.9381,      0.9381,\n",
       "             0.9381,      0.9381,      0.9381,      0.9381,      0.9381,      0.9381,      0.9381,      0.9381,      0.9381,      0.9381,      0.9381,      0.9381,      0.9381,      0.9381,      0.9381,      0.9381,      0.9381,      0.9381,      0.9381,      0.9381,      0.9381,     0.93771,     0.93705,\n",
       "            0.93639,     0.93617,     0.93617,     0.93617,     0.93617,     0.93617,     0.93617,     0.93614,     0.93603,     0.93592,     0.93581,      0.9357,     0.93559,     0.93548,     0.93537,     0.93527,     0.93516,     0.93505,     0.93494,     0.93483,     0.93472,     0.93461,     0.93451,\n",
       "             0.9344,     0.93429,     0.93424,     0.93424,     0.93424,     0.93424,     0.93424,     0.93424,     0.93424,     0.93424,     0.93424,     0.93424,     0.93424,     0.93421,     0.93377,     0.93333,     0.93289,     0.93245,      0.9323,      0.9323,      0.9323,      0.9323,      0.9323,\n",
       "             0.9323,      0.9323,      0.9323,      0.9323,      0.9323,      0.9323,      0.9323,      0.9323,      0.9323,      0.9323,      0.9323,      0.9323,      0.9323,      0.9323,      0.9323,      0.9323,      0.9323,      0.9323,      0.9323,      0.9323,      0.9323,      0.9323,      0.9323,\n",
       "             0.9323,      0.9323,      0.9323,      0.9323,      0.9323,      0.9323,      0.9323,      0.9323,      0.9323,      0.9323,      0.9323,      0.9323,      0.9323,      0.9323,     0.93219,     0.93208,     0.93197,     0.93186,     0.93175,     0.93164,     0.93152,     0.93141,      0.9313,\n",
       "            0.93119,     0.93108,     0.93097,     0.93085,     0.93074,     0.93063,     0.93052,     0.93041,     0.93037,     0.93037,     0.93037,     0.93037,     0.93037,     0.93037,     0.93037,     0.93037,     0.93037,     0.93021,     0.92979,     0.92938,     0.92896,     0.92854,     0.92843,\n",
       "            0.92843,     0.92843,     0.92843,     0.92843,     0.92843,     0.92843,     0.92843,     0.92843,     0.92843,     0.92843,     0.92843,     0.92843,     0.92843,     0.92843,     0.92843,     0.92843,     0.92843,     0.92843,     0.92843,     0.92818,     0.92719,      0.9265,      0.9265,\n",
       "            0.92635,     0.92593,     0.92552,      0.9251,     0.92468,     0.92456,     0.92456,     0.92456,     0.92399,     0.92327,     0.92261,     0.92246,      0.9223,     0.92215,     0.92199,     0.92184,     0.92168,     0.92153,     0.92137,     0.92121,     0.92106,      0.9209,     0.92075,\n",
       "            0.92025,     0.91959,     0.91893,     0.91876,       0.918,     0.91701,     0.91683,     0.91683,     0.91683,     0.91683,     0.91683,     0.91683,     0.91683,     0.91683,     0.91683,     0.91683,     0.91683,     0.91683,     0.91683,     0.91683,     0.91683,     0.91683,     0.91683,\n",
       "            0.91683,     0.91683,     0.91683,     0.91683,     0.91659,     0.91619,      0.9158,      0.9154,     0.91501,     0.91489,      0.9146,      0.9142,     0.91381,     0.91341,     0.91301,     0.91239,     0.91173,     0.91107,     0.91103,     0.91103,     0.91103,     0.91103,     0.91103,\n",
       "            0.91103,     0.91103,     0.91103,     0.91103,     0.91103,     0.91103,     0.91103,     0.91103,     0.91103,     0.91103,     0.91103,     0.91103,     0.91103,     0.91103,     0.91103,     0.91103,     0.91103,     0.91103,     0.91103,     0.91103,     0.91084,     0.91051,     0.91017,\n",
       "            0.90984,     0.90951,     0.90918,     0.90838,     0.90739,     0.90716,     0.90637,     0.90538,     0.90522,     0.90522,     0.90522,     0.90522,     0.90522,     0.90522,     0.90522,     0.90522,     0.90522,     0.90522,     0.90522,     0.90496,     0.90324,     0.90291,     0.90257,\n",
       "            0.90224,     0.90191,     0.90158,     0.90135,     0.90135,     0.90135,     0.90135,     0.90135,     0.90093,     0.89994,     0.89942,     0.89942,     0.89942,     0.89942,     0.89942,     0.89942,     0.89942,     0.89942,     0.89942,     0.89942,     0.89942,     0.89942,     0.89942,\n",
       "            0.89942,     0.89923,       0.899,     0.89876,     0.89853,      0.8983,     0.89806,     0.89783,      0.8976,     0.89739,     0.89721,     0.89703,     0.89685,     0.89667,     0.89649,     0.89631,     0.89613,     0.89595,     0.89577,     0.89559,     0.89398,     0.89362,     0.89338,\n",
       "            0.89309,     0.89281,     0.89253,     0.89225,     0.89196,     0.88972,     0.88776,     0.88644,     0.88588,     0.88588,      0.8857,     0.88542,     0.88514,     0.88485,     0.88457,     0.88429,       0.884,     0.88376,     0.88353,     0.88329,     0.88306,     0.88283,     0.88259,\n",
       "            0.88236,     0.88213,     0.88195,     0.88182,     0.88169,     0.88156,     0.88144,     0.88131,     0.88118,     0.88105,     0.88092,      0.8808,     0.88067,     0.88054,     0.88041,     0.88028,     0.88016,     0.87784,     0.87705,     0.87625,     0.87574,     0.87525,     0.87475,\n",
       "            0.87426,       0.874,     0.87374,     0.87347,     0.87321,     0.87294,     0.87268,     0.87241,     0.87091,     0.86967,     0.86867,     0.86802,     0.86745,     0.86689,     0.86578,     0.86448,     0.86417,     0.86387,     0.86356,     0.86326,     0.86295,     0.86262,     0.86183,\n",
       "            0.86103,     0.86057,     0.86031,     0.86004,     0.85978,     0.85951,     0.85925,     0.85898,     0.85856,     0.85776,     0.85697,     0.85629,     0.85563,     0.85497,      0.8521,     0.85085,     0.85041,     0.84997,     0.84953,     0.84908,     0.84851,     0.84795,     0.84738,\n",
       "             0.8472,      0.8472,     0.84624,     0.84511,     0.84455,     0.84398,     0.84341,     0.84055,     0.83956,      0.8391,     0.83871,     0.83831,     0.83791,     0.83751,     0.83695,     0.83638,     0.83582,     0.83525,     0.83468,     0.83412,     0.83328,      0.8313,      0.8258,\n",
       "            0.82531,     0.82481,     0.82431,     0.82384,      0.8234,     0.82296,     0.82252,     0.82208,      0.8208,     0.81974,     0.81894,      0.8181,     0.81405,     0.81181,     0.81081,     0.80962,     0.80645,     0.80565,     0.80486,     0.80435,     0.80396,     0.80356,     0.80317,\n",
       "            0.80277,     0.80159,     0.80001,     0.79722,     0.79599,       0.795,     0.79176,     0.79077,     0.79011,     0.78945,     0.78859,      0.7876,     0.78447,     0.78315,     0.78183,     0.77939,      0.7789,      0.7784,      0.7779,     0.77715,     0.77583,     0.77479,      0.7738,\n",
       "            0.77369,     0.77369,     0.77369,     0.77327,     0.77283,     0.77239,     0.77195,      0.7713,     0.77051,     0.76983,     0.76931,     0.76852,     0.76768,     0.76669,     0.76561,     0.76429,     0.76015,     0.75778,     0.75646,     0.75155,     0.75056,     0.74866,     0.74761,\n",
       "            0.74662,     0.74583,     0.74503,     0.74395,     0.74063,     0.73879,     0.73799,      0.7372,     0.73656,     0.73599,     0.73543,     0.73466,     0.73334,     0.73094,     0.73027,     0.72961,     0.72768,     0.72668,     0.72602,     0.72536,     0.72341,     0.71759,     0.71702,\n",
       "            0.71646,     0.71589,     0.71313,     0.71214,     0.71115,     0.71016,     0.70654,     0.70552,     0.70486,     0.70419,     0.70213,     0.70131,     0.70032,     0.69933,     0.69834,     0.69704,     0.69602,     0.69536,      0.6947,     0.69243,     0.69194,     0.69144,     0.69095,\n",
       "            0.68996,     0.68652,     0.68573,     0.68494,     0.68328,     0.67986,     0.67869,      0.6779,      0.6771,     0.67457,     0.67325,     0.66884,     0.66785,     0.66549,     0.66312,     0.66246,      0.6618,     0.66041,     0.65842,      0.6573,     0.65673,     0.65616,     0.65545,\n",
       "            0.65413,     0.64765,     0.64633,     0.64178,     0.64046,     0.63914,     0.63565,     0.63096,       0.627,     0.62578,     0.62479,     0.62091,     0.62023,     0.61957,     0.61868,     0.61085,     0.60808,     0.60513,     0.60089,     0.59499,     0.58579,     0.58447,     0.58116,\n",
       "            0.57795,     0.57663,     0.57144,     0.56988,      0.5652,     0.56232,       0.561,     0.55717,     0.55416,     0.55117,     0.54334,     0.53937,     0.53366,     0.52805,     0.52805,     0.52805,     0.52418,     0.52332,      0.5179,     0.51346,      0.5091,     0.50444,     0.50394,\n",
       "            0.50345,     0.50295,      0.4974,     0.49618,     0.49519,     0.48744,     0.48352,     0.47951,     0.47167,     0.46925,     0.46568,     0.46171,     0.45388,     0.44739,     0.43477,     0.43231,     0.42597,     0.42051,     0.41738,     0.41606,      0.4103,     0.40542,     0.39875,\n",
       "            0.39662,     0.39276,     0.38686,     0.37844,     0.37515,     0.37303,     0.36132,     0.35543,     0.34179,     0.33395,     0.32554,     0.32022,     0.30852,     0.30605,     0.30252,     0.30015,     0.29459,     0.28651,     0.28066,     0.26998,     0.26606,     0.25929,     0.25339,\n",
       "            0.24754,     0.24159,     0.23183,     0.22399,     0.21422,     0.21026,     0.20242,     0.19981,     0.19314,     0.19181,     0.18656,     0.18466,      0.1825,     0.17854,     0.17264,     0.16287,     0.16129,     0.15881,     0.15484,     0.14314,     0.13337,     0.12554,     0.11964,\n",
       "            0.11586,      0.1059,     0.10001,    0.097343,    0.090525,    0.086608,    0.078341,    0.074376,    0.070022,    0.062577,    0.052809,    0.047874,    0.046552,    0.040913,    0.035014,    0.029114,    0.027081,     0.02077,    0.019778,    0.018602,    0.017312,    0.016321,    0.014897,\n",
       "           0.012236,   0.0075443,    0.006553,   0.0035471,   0.0022253,           0,           0,           0,           0,           0,           0,           0,           0,           0,           0,           0,           0,           0,           0,           0,           0,           0,           0,\n",
       "                  0,           0,           0,           0,           0,           0,           0,           0,           0,           0,           0]]), 'Confidence', 'Recall']]\n",
       "fitness: 0.8290817288459614\n",
       "keys: ['metrics/precision(B)', 'metrics/recall(B)', 'metrics/mAP50(B)', 'metrics/mAP50-95(B)']\n",
       "maps: array([    0.81529])\n",
       "names: {0: 'airplane'}\n",
       "plot: True\n",
       "results_dict: {'metrics/precision(B)': 0.961176084338028, 'metrics/recall(B)': 0.9098444027522041, 'metrics/mAP50(B)': 0.953184563728855, 'metrics/mAP50-95(B)': 0.8152925249700843, 'fitness': 0.8290817288459614}\n",
       "save_dir: WindowsPath('runs/detect/train2')\n",
       "speed: {'preprocess': 0.1995807400824879, 'inference': 1.8495751820924635, 'loss': 0.0, 'postprocess': 2.089017119437518}\n",
       "task: 'detect'"
      ]
     },
     "execution_count": 13,
     "metadata": {},
     "output_type": "execute_result"
    }
   ],
   "source": [
    "# DO NOT RUN UNLESS YOU WANT A NEW MODEL\n",
    "# segck_model = YOLO('yolov8n.pt')\n",
    "# segck_model.train(data=cwd + \"/Airplanes.v5i.yolov8/data.yaml\", epochs=25, batch=48, imgsz=640, device=0, plots=True)"
   ]
  },
  {
   "cell_type": "code",
   "execution_count": 22,
   "metadata": {},
   "outputs": [
    {
     "name": "stdout",
     "output_type": "stream",
     "text": [
      "Setup complete ✅ (12 CPUs, 31.8 GB RAM, 421.8/872.4 GB disk)\n",
      "\n",
      "Benchmarks complete for last.onnx on c:\\Users\\David\\Documents\\CSC478\\Improving-Object-Detection-Training-With-Diffusion-Images/datasets/data.yaml at imgsz=640 (45.39s)\n",
      "                   Format Status❔  Size (MB)  metrics/mAP50-95(B)  Inference time (ms/im)\n",
      "0                 PyTorch       ✅       11.5               0.3447                   11.49\n",
      "1             TorchScript       ❌        0.0                  NaN                     NaN\n",
      "2                    ONNX       ❌        0.0                  NaN                     NaN\n",
      "3                OpenVINO       ❌        0.0                  NaN                     NaN\n",
      "4                TensorRT       ❌        0.0                  NaN                     NaN\n",
      "5                  CoreML       ❌        0.0                  NaN                     NaN\n",
      "6   TensorFlow SavedModel       ❌        0.0                  NaN                     NaN\n",
      "7     TensorFlow GraphDef       ❌        0.0                  NaN                     NaN\n",
      "8         TensorFlow Lite       ❌        0.0                  NaN                     NaN\n",
      "9     TensorFlow Edge TPU       ❌        0.0                  NaN                     NaN\n",
      "10          TensorFlow.js       ❌        0.0                  NaN                     NaN\n",
      "11           PaddlePaddle       ❌        0.0                  NaN                     NaN\n",
      "12                   NCNN       ❌        0.0                  NaN                     NaN\n",
      "\n"
     ]
    },
    {
     "data": {
      "text/html": [
       "<div>\n",
       "<style scoped>\n",
       "    .dataframe tbody tr th:only-of-type {\n",
       "        vertical-align: middle;\n",
       "    }\n",
       "\n",
       "    .dataframe tbody tr th {\n",
       "        vertical-align: top;\n",
       "    }\n",
       "\n",
       "    .dataframe thead th {\n",
       "        text-align: right;\n",
       "    }\n",
       "</style>\n",
       "<table border=\"1\" class=\"dataframe\">\n",
       "  <thead>\n",
       "    <tr style=\"text-align: right;\">\n",
       "      <th></th>\n",
       "      <th>Format</th>\n",
       "      <th>Status❔</th>\n",
       "      <th>Size (MB)</th>\n",
       "      <th>metrics/mAP50-95(B)</th>\n",
       "      <th>Inference time (ms/im)</th>\n",
       "    </tr>\n",
       "  </thead>\n",
       "  <tbody>\n",
       "    <tr>\n",
       "      <th>0</th>\n",
       "      <td>PyTorch</td>\n",
       "      <td>✅</td>\n",
       "      <td>11.5</td>\n",
       "      <td>0.3447</td>\n",
       "      <td>11.49</td>\n",
       "    </tr>\n",
       "    <tr>\n",
       "      <th>1</th>\n",
       "      <td>TorchScript</td>\n",
       "      <td>❌</td>\n",
       "      <td>0.0</td>\n",
       "      <td>NaN</td>\n",
       "      <td>NaN</td>\n",
       "    </tr>\n",
       "    <tr>\n",
       "      <th>2</th>\n",
       "      <td>ONNX</td>\n",
       "      <td>❌</td>\n",
       "      <td>0.0</td>\n",
       "      <td>NaN</td>\n",
       "      <td>NaN</td>\n",
       "    </tr>\n",
       "    <tr>\n",
       "      <th>3</th>\n",
       "      <td>OpenVINO</td>\n",
       "      <td>❌</td>\n",
       "      <td>0.0</td>\n",
       "      <td>NaN</td>\n",
       "      <td>NaN</td>\n",
       "    </tr>\n",
       "    <tr>\n",
       "      <th>4</th>\n",
       "      <td>TensorRT</td>\n",
       "      <td>❌</td>\n",
       "      <td>0.0</td>\n",
       "      <td>NaN</td>\n",
       "      <td>NaN</td>\n",
       "    </tr>\n",
       "    <tr>\n",
       "      <th>5</th>\n",
       "      <td>CoreML</td>\n",
       "      <td>❌</td>\n",
       "      <td>0.0</td>\n",
       "      <td>NaN</td>\n",
       "      <td>NaN</td>\n",
       "    </tr>\n",
       "    <tr>\n",
       "      <th>6</th>\n",
       "      <td>TensorFlow SavedModel</td>\n",
       "      <td>❌</td>\n",
       "      <td>0.0</td>\n",
       "      <td>NaN</td>\n",
       "      <td>NaN</td>\n",
       "    </tr>\n",
       "    <tr>\n",
       "      <th>7</th>\n",
       "      <td>TensorFlow GraphDef</td>\n",
       "      <td>❌</td>\n",
       "      <td>0.0</td>\n",
       "      <td>NaN</td>\n",
       "      <td>NaN</td>\n",
       "    </tr>\n",
       "    <tr>\n",
       "      <th>8</th>\n",
       "      <td>TensorFlow Lite</td>\n",
       "      <td>❌</td>\n",
       "      <td>0.0</td>\n",
       "      <td>NaN</td>\n",
       "      <td>NaN</td>\n",
       "    </tr>\n",
       "    <tr>\n",
       "      <th>9</th>\n",
       "      <td>TensorFlow Edge TPU</td>\n",
       "      <td>❌</td>\n",
       "      <td>0.0</td>\n",
       "      <td>NaN</td>\n",
       "      <td>NaN</td>\n",
       "    </tr>\n",
       "    <tr>\n",
       "      <th>10</th>\n",
       "      <td>TensorFlow.js</td>\n",
       "      <td>❌</td>\n",
       "      <td>0.0</td>\n",
       "      <td>NaN</td>\n",
       "      <td>NaN</td>\n",
       "    </tr>\n",
       "    <tr>\n",
       "      <th>11</th>\n",
       "      <td>PaddlePaddle</td>\n",
       "      <td>❌</td>\n",
       "      <td>0.0</td>\n",
       "      <td>NaN</td>\n",
       "      <td>NaN</td>\n",
       "    </tr>\n",
       "    <tr>\n",
       "      <th>12</th>\n",
       "      <td>NCNN</td>\n",
       "      <td>❌</td>\n",
       "      <td>0.0</td>\n",
       "      <td>NaN</td>\n",
       "      <td>NaN</td>\n",
       "    </tr>\n",
       "  </tbody>\n",
       "</table>\n",
       "</div>"
      ],
      "text/plain": [
       "                   Format Status❔  Size (MB)  metrics/mAP50-95(B)  Inference time (ms/im)\n",
       "0                 PyTorch       ✅       11.5               0.3447                   11.49\n",
       "1             TorchScript       ❌        0.0                  NaN                     NaN\n",
       "2                    ONNX       ❌        0.0                  NaN                     NaN\n",
       "3                OpenVINO       ❌        0.0                  NaN                     NaN\n",
       "4                TensorRT       ❌        0.0                  NaN                     NaN\n",
       "5                  CoreML       ❌        0.0                  NaN                     NaN\n",
       "6   TensorFlow SavedModel       ❌        0.0                  NaN                     NaN\n",
       "7     TensorFlow GraphDef       ❌        0.0                  NaN                     NaN\n",
       "8         TensorFlow Lite       ❌        0.0                  NaN                     NaN\n",
       "9     TensorFlow Edge TPU       ❌        0.0                  NaN                     NaN\n",
       "10          TensorFlow.js       ❌        0.0                  NaN                     NaN\n",
       "11           PaddlePaddle       ❌        0.0                  NaN                     NaN\n",
       "12                   NCNN       ❌        0.0                  NaN                     NaN"
      ]
     },
     "execution_count": 22,
     "metadata": {},
     "output_type": "execute_result"
    }
   ],
   "source": [
    "# segck_trained_model = YOLO(\"runs/detect/train2/weights/last.pt\")\n",
    "# segck_trained_model.export(format=\"onnx\", dynamic=True)\n",
    "benchmark(model=\"runs/detect/train2/weights/last.onnx\", data=cwd + \"/datasets/data.yaml\", device=0, imgsz=640)"
   ]
  }
 ],
 "metadata": {
  "kernelspec": {
   "display_name": "Python 3",
   "language": "python",
   "name": "python3"
  },
  "language_info": {
   "codemirror_mode": {
    "name": "ipython",
    "version": 3
   },
   "file_extension": ".py",
   "mimetype": "text/x-python",
   "name": "python",
   "nbconvert_exporter": "python",
   "pygments_lexer": "ipython3",
   "version": "3.9.13"
  }
 },
 "nbformat": 4,
 "nbformat_minor": 2
}
